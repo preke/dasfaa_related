{
 "cells": [
  {
   "cell_type": "code",
   "execution_count": 1,
   "metadata": {},
   "outputs": [],
   "source": [
    "# run features\n",
    "import pandas as pd\n",
    "import numpy as np\n",
    "from sklearn.metrics import f1_score\n",
    "from imblearn.over_sampling import SMOTE, ADASYN\n",
    "from imblearn.ensemble import BalancedRandomForestClassifier\n",
    "from sklearn.metrics import confusion_matrix, accuracy_score, balanced_accuracy_score\n",
    "from sklearn.model_selection import train_test_split\n",
    "from sklearn import tree, svm, naive_bayes,neighbors\n",
    "from sklearn.ensemble import BaggingClassifier, AdaBoostClassifier, RandomForestClassifier, GradientBoostingClassifier\n",
    "\n",
    "\n",
    "feature_09 = 'feature_09.csv'\n",
    "feature_10 = 'feature_10.csv'\n",
    "feature_11 = 'feature_11.csv'\n",
    "feature_12 = 'feature_12.csv'\n",
    "labels = 'labels.csv'"
   ]
  },
  {
   "cell_type": "code",
   "execution_count": 16,
   "metadata": {},
   "outputs": [
    {
     "name": "stdout",
     "output_type": "stream",
     "text": [
      "the classifier is : svm\n"
     ]
    },
    {
     "name": "stderr",
     "output_type": "stream",
     "text": [
      "/home/wenzhy/.conda/envs/py3/lib/python3.7/site-packages/sklearn/svm/base.py:193: FutureWarning: The default value of gamma will change from 'auto' to 'scale' in version 0.22 to account better for unscaled features. Set gamma explicitly to 'auto' or 'scale' to avoid this warning.\n",
      "  \"avoid this warning.\", FutureWarning)\n",
      "/home/wenzhy/.conda/envs/py3/lib/python3.7/site-packages/sklearn/metrics/classification.py:1437: UndefinedMetricWarning: F-score is ill-defined and being set to 0.0 in labels with no predicted samples.\n",
      "  'precision', 'predicted', average, warn_for)\n"
     ]
    },
    {
     "name": "stdout",
     "output_type": "stream",
     "text": [
      "the score is : 0.4937969311132876\n",
      "the classifier is : decision_tree\n",
      "the score is : 0.5268856324383725\n",
      "the classifier is : naive_gaussian\n",
      "the score is : 0.3345630151275119\n",
      "the classifier is : naive_mul\n",
      "the score is : 0.47950791347017757\n",
      "the classifier is : K_neighbor\n"
     ]
    },
    {
     "name": "stderr",
     "output_type": "stream",
     "text": [
      "/home/wenzhy/.conda/envs/py3/lib/python3.7/site-packages/sklearn/metrics/classification.py:1437: UndefinedMetricWarning: F-score is ill-defined and being set to 0.0 in labels with no predicted samples.\n",
      "  'precision', 'predicted', average, warn_for)\n"
     ]
    },
    {
     "name": "stdout",
     "output_type": "stream",
     "text": [
      "the score is : 0.4937969311132876\n",
      "the classifier is : bagging_knn\n"
     ]
    },
    {
     "name": "stderr",
     "output_type": "stream",
     "text": [
      "/home/wenzhy/.conda/envs/py3/lib/python3.7/site-packages/sklearn/metrics/classification.py:1437: UndefinedMetricWarning: F-score is ill-defined and being set to 0.0 in labels with no predicted samples.\n",
      "  'precision', 'predicted', average, warn_for)\n",
      "/home/wenzhy/.conda/envs/py3/lib/python3.7/site-packages/sklearn/metrics/classification.py:1437: UndefinedMetricWarning: F-score is ill-defined and being set to 0.0 in labels with no predicted samples.\n",
      "  'precision', 'predicted', average, warn_for)\n"
     ]
    },
    {
     "name": "stdout",
     "output_type": "stream",
     "text": [
      "the score is : 0.4937969311132876\n",
      "the classifier is : bagging_tree\n",
      "the score is : 0.4937969311132876\n",
      "the classifier is : random_forest\n"
     ]
    },
    {
     "name": "stderr",
     "output_type": "stream",
     "text": [
      "/home/wenzhy/.conda/envs/py3/lib/python3.7/site-packages/sklearn/metrics/classification.py:1437: UndefinedMetricWarning: F-score is ill-defined and being set to 0.0 in labels with no predicted samples.\n",
      "  'precision', 'predicted', average, warn_for)\n"
     ]
    },
    {
     "name": "stdout",
     "output_type": "stream",
     "text": [
      "the score is : 0.4937969311132876\n",
      "the classifier is : adaboost\n",
      "the score is : 0.4937142857142857\n",
      "the classifier is : gradient_boost\n",
      "the score is : 0.49346618752041815\n"
     ]
    }
   ],
   "source": [
    "df_se1_features = pd.read_csv(feature_09)\n",
    "df_se1_labels = pd.read_csv(labels)\n",
    "df_se1_labels.shape\n",
    "X_train, X_test, y_train, y_test = train_test_split(df_se1_features, df_se1_labels, test_size = 0.2, stratify=df_se1_labels)\n",
    "\n",
    "# X_resampled_smote, y_resampled_smote = SMOTE().fit_sample(X_train, y_train)\n",
    "clfs = {'svm': svm.SVC(),\\\n",
    "        'decision_tree':tree.DecisionTreeClassifier(),\n",
    "        'naive_gaussian': naive_bayes.GaussianNB(), \\\n",
    "        'naive_mul':naive_bayes.MultinomialNB(),\\\n",
    "        'K_neighbor' : neighbors.KNeighborsClassifier(),\\\n",
    "        'bagging_knn' : BaggingClassifier(neighbors.KNeighborsClassifier(), max_samples=0.5,max_features=0.5), \\\n",
    "        'bagging_tree': BaggingClassifier(tree.DecisionTreeClassifier(), max_samples=0.5,max_features=0.5),\n",
    "        'random_forest' : RandomForestClassifier(n_estimators=50),\\\n",
    "        'adaboost':AdaBoostClassifier(n_estimators=50),\\\n",
    "        'gradient_boost' : GradientBoostingClassifier(n_estimators=50, learning_rate=1.0,max_depth=1, random_state=0)\n",
    "        }\n",
    "\n",
    "def try_different_method(clf):\n",
    "    clf.fit(X_train,y_train.values.ravel())\n",
    "    predictions = clf.predict(X_test)\n",
    "    score = f1_score(y_test, predictions, average='macro')\n",
    "    print('the score is :', score)\n",
    "\n",
    "for clf_key in clfs.keys():\n",
    "    print('the classifier is :',clf_key)\n",
    "    clf = clfs[clf_key]\n",
    "    try_different_method(clf)"
   ]
  },
  {
   "cell_type": "code",
   "execution_count": 17,
   "metadata": {},
   "outputs": [
    {
     "name": "stdout",
     "output_type": "stream",
     "text": [
      "the classifier is : svm\n"
     ]
    },
    {
     "name": "stderr",
     "output_type": "stream",
     "text": [
      "/home/wenzhy/.conda/envs/py3/lib/python3.7/site-packages/sklearn/svm/base.py:193: FutureWarning: The default value of gamma will change from 'auto' to 'scale' in version 0.22 to account better for unscaled features. Set gamma explicitly to 'auto' or 'scale' to avoid this warning.\n",
      "  \"avoid this warning.\", FutureWarning)\n",
      "/home/wenzhy/.conda/envs/py3/lib/python3.7/site-packages/sklearn/metrics/classification.py:1437: UndefinedMetricWarning: F-score is ill-defined and being set to 0.0 in labels with no predicted samples.\n",
      "  'precision', 'predicted', average, warn_for)\n"
     ]
    },
    {
     "name": "stdout",
     "output_type": "stream",
     "text": [
      "the score is : 0.4937969311132876\n",
      "the classifier is : decision_tree\n",
      "the score is : 0.5094434356773413\n",
      "the classifier is : naive_gaussian\n",
      "the score is : 0.2628171481717925\n",
      "the classifier is : naive_mul\n",
      "the score is : 0.4569103719570518\n",
      "the classifier is : K_neighbor\n",
      "the score is : 0.4937142857142857\n",
      "the classifier is : bagging_knn\n"
     ]
    },
    {
     "name": "stderr",
     "output_type": "stream",
     "text": [
      "/home/wenzhy/.conda/envs/py3/lib/python3.7/site-packages/sklearn/metrics/classification.py:1437: UndefinedMetricWarning: F-score is ill-defined and being set to 0.0 in labels with no predicted samples.\n",
      "  'precision', 'predicted', average, warn_for)\n"
     ]
    },
    {
     "name": "stdout",
     "output_type": "stream",
     "text": [
      "the score is : 0.4937969311132876\n",
      "the classifier is : bagging_tree\n",
      "the score is : 0.4937142857142857\n",
      "the classifier is : random_forest\n"
     ]
    },
    {
     "name": "stderr",
     "output_type": "stream",
     "text": [
      "/home/wenzhy/.conda/envs/py3/lib/python3.7/site-packages/sklearn/metrics/classification.py:1437: UndefinedMetricWarning: F-score is ill-defined and being set to 0.0 in labels with no predicted samples.\n",
      "  'precision', 'predicted', average, warn_for)\n"
     ]
    },
    {
     "name": "stdout",
     "output_type": "stream",
     "text": [
      "the score is : 0.4937969311132876\n",
      "the classifier is : adaboost\n",
      "the score is : 0.5191920068965945\n",
      "the classifier is : gradient_boost\n",
      "the score is : 0.4937142857142857\n"
     ]
    }
   ],
   "source": [
    "df_se1_features = pd.read_csv(feature_10)\n",
    "df_se1_labels = pd.read_csv(labels)\n",
    "df_se1_labels.shape\n",
    "X_train, X_test, y_train, y_test = train_test_split(df_se1_features, df_se1_labels, test_size = 0.2, stratify=df_se1_labels)\n",
    "\n",
    "# X_resampled_smote, y_resampled_smote = SMOTE().fit_sample(X_train, y_train)\n",
    "clfs = {'svm': svm.SVC(),\\\n",
    "        'decision_tree':tree.DecisionTreeClassifier(),\n",
    "        'naive_gaussian': naive_bayes.GaussianNB(), \\\n",
    "        'naive_mul':naive_bayes.MultinomialNB(),\\\n",
    "        'K_neighbor' : neighbors.KNeighborsClassifier(),\\\n",
    "        'bagging_knn' : BaggingClassifier(neighbors.KNeighborsClassifier(), max_samples=0.5,max_features=0.5), \\\n",
    "        'bagging_tree': BaggingClassifier(tree.DecisionTreeClassifier(), max_samples=0.5,max_features=0.5),\n",
    "        'random_forest' : RandomForestClassifier(n_estimators=50),\\\n",
    "        'adaboost':AdaBoostClassifier(n_estimators=50),\\\n",
    "        'gradient_boost' : GradientBoostingClassifier(n_estimators=50, learning_rate=1.0,max_depth=1, random_state=0)\n",
    "        }\n",
    "\n",
    "def try_different_method(clf):\n",
    "    clf.fit(X_train,y_train.values.ravel())\n",
    "    predictions = clf.predict(X_test)\n",
    "    score = f1_score(y_test, predictions, average='macro')\n",
    "    print('the score is :', score)\n",
    "\n",
    "for clf_key in clfs.keys():\n",
    "    print('the classifier is :',clf_key)\n",
    "    clf = clfs[clf_key]\n",
    "    try_different_method(clf)"
   ]
  },
  {
   "cell_type": "code",
   "execution_count": 18,
   "metadata": {},
   "outputs": [
    {
     "name": "stdout",
     "output_type": "stream",
     "text": [
      "the classifier is : svm\n"
     ]
    },
    {
     "name": "stderr",
     "output_type": "stream",
     "text": [
      "/home/wenzhy/.conda/envs/py3/lib/python3.7/site-packages/sklearn/svm/base.py:193: FutureWarning: The default value of gamma will change from 'auto' to 'scale' in version 0.22 to account better for unscaled features. Set gamma explicitly to 'auto' or 'scale' to avoid this warning.\n",
      "  \"avoid this warning.\", FutureWarning)\n",
      "/home/wenzhy/.conda/envs/py3/lib/python3.7/site-packages/sklearn/metrics/classification.py:1437: UndefinedMetricWarning: F-score is ill-defined and being set to 0.0 in labels with no predicted samples.\n",
      "  'precision', 'predicted', average, warn_for)\n"
     ]
    },
    {
     "name": "stdout",
     "output_type": "stream",
     "text": [
      "the score is : 0.4937969311132876\n",
      "the classifier is : decision_tree\n",
      "the score is : 0.521905825748254\n",
      "the classifier is : naive_gaussian\n",
      "the score is : 0.24551982990540658\n",
      "the classifier is : naive_mul\n",
      "the score is : 0.4312764102855627\n",
      "the classifier is : K_neighbor\n"
     ]
    },
    {
     "name": "stderr",
     "output_type": "stream",
     "text": [
      "/home/wenzhy/.conda/envs/py3/lib/python3.7/site-packages/sklearn/metrics/classification.py:1437: UndefinedMetricWarning: F-score is ill-defined and being set to 0.0 in labels with no predicted samples.\n",
      "  'precision', 'predicted', average, warn_for)\n"
     ]
    },
    {
     "name": "stdout",
     "output_type": "stream",
     "text": [
      "the score is : 0.4937969311132876\n",
      "the classifier is : bagging_knn\n"
     ]
    },
    {
     "name": "stderr",
     "output_type": "stream",
     "text": [
      "/home/wenzhy/.conda/envs/py3/lib/python3.7/site-packages/sklearn/metrics/classification.py:1437: UndefinedMetricWarning: F-score is ill-defined and being set to 0.0 in labels with no predicted samples.\n",
      "  'precision', 'predicted', average, warn_for)\n"
     ]
    },
    {
     "name": "stdout",
     "output_type": "stream",
     "text": [
      "the score is : 0.4937969311132876\n",
      "the classifier is : bagging_tree\n"
     ]
    },
    {
     "name": "stderr",
     "output_type": "stream",
     "text": [
      "/home/wenzhy/.conda/envs/py3/lib/python3.7/site-packages/sklearn/metrics/classification.py:1437: UndefinedMetricWarning: F-score is ill-defined and being set to 0.0 in labels with no predicted samples.\n",
      "  'precision', 'predicted', average, warn_for)\n"
     ]
    },
    {
     "name": "stdout",
     "output_type": "stream",
     "text": [
      "the score is : 0.4937969311132876\n",
      "the classifier is : random_forest\n"
     ]
    },
    {
     "name": "stderr",
     "output_type": "stream",
     "text": [
      "/home/wenzhy/.conda/envs/py3/lib/python3.7/site-packages/sklearn/metrics/classification.py:1437: UndefinedMetricWarning: F-score is ill-defined and being set to 0.0 in labels with no predicted samples.\n",
      "  'precision', 'predicted', average, warn_for)\n"
     ]
    },
    {
     "name": "stdout",
     "output_type": "stream",
     "text": [
      "the score is : 0.4937969311132876\n",
      "the classifier is : adaboost\n",
      "the score is : 0.5063704604138369\n",
      "the classifier is : gradient_boost\n",
      "the score is : 0.5063704604138369\n"
     ]
    }
   ],
   "source": [
    "df_se1_features = pd.read_csv(feature_11)\n",
    "df_se1_labels = pd.read_csv(labels)\n",
    "df_se1_labels.shape\n",
    "X_train, X_test, y_train, y_test = train_test_split(df_se1_features, df_se1_labels, test_size = 0.2, stratify=df_se1_labels)\n",
    "\n",
    "# X_resampled_smote, y_resampled_smote = SMOTE().fit_sample(X_train, y_train)\n",
    "clfs = {'svm': svm.SVC(),\\\n",
    "        'decision_tree':tree.DecisionTreeClassifier(),\n",
    "        'naive_gaussian': naive_bayes.GaussianNB(), \\\n",
    "        'naive_mul':naive_bayes.MultinomialNB(),\\\n",
    "        'K_neighbor' : neighbors.KNeighborsClassifier(),\\\n",
    "        'bagging_knn' : BaggingClassifier(neighbors.KNeighborsClassifier(), max_samples=0.5,max_features=0.5), \\\n",
    "        'bagging_tree': BaggingClassifier(tree.DecisionTreeClassifier(), max_samples=0.5,max_features=0.5),\n",
    "        'random_forest' : RandomForestClassifier(n_estimators=50),\\\n",
    "        'adaboost':AdaBoostClassifier(n_estimators=50),\\\n",
    "        'gradient_boost' : GradientBoostingClassifier(n_estimators=50, learning_rate=1.0,max_depth=1, random_state=0)\n",
    "        }\n",
    "\n",
    "def try_different_method(clf):\n",
    "    clf.fit(X_train,y_train.values.ravel())\n",
    "    predictions = clf.predict(X_test)\n",
    "    score = f1_score(y_test, predictions, average='macro')\n",
    "    print('the score is :', score)\n",
    "\n",
    "for clf_key in clfs.keys():\n",
    "    print('the classifier is :',clf_key)\n",
    "    clf = clfs[clf_key]\n",
    "    try_different_method(clf)"
   ]
  },
  {
   "cell_type": "code",
   "execution_count": 19,
   "metadata": {},
   "outputs": [
    {
     "name": "stdout",
     "output_type": "stream",
     "text": [
      "the classifier is : svm\n"
     ]
    },
    {
     "name": "stderr",
     "output_type": "stream",
     "text": [
      "/home/wenzhy/.conda/envs/py3/lib/python3.7/site-packages/sklearn/svm/base.py:193: FutureWarning: The default value of gamma will change from 'auto' to 'scale' in version 0.22 to account better for unscaled features. Set gamma explicitly to 'auto' or 'scale' to avoid this warning.\n",
      "  \"avoid this warning.\", FutureWarning)\n",
      "/home/wenzhy/.conda/envs/py3/lib/python3.7/site-packages/sklearn/metrics/classification.py:1437: UndefinedMetricWarning: F-score is ill-defined and being set to 0.0 in labels with no predicted samples.\n",
      "  'precision', 'predicted', average, warn_for)\n"
     ]
    },
    {
     "name": "stdout",
     "output_type": "stream",
     "text": [
      "the score is : 0.4937969311132876\n",
      "the classifier is : decision_tree\n",
      "the score is : 0.4899693724690058\n",
      "the classifier is : naive_gaussian\n",
      "the score is : 0.2804598033708091\n",
      "the classifier is : naive_mul\n",
      "the score is : 0.45159858522692087\n",
      "the classifier is : K_neighbor\n"
     ]
    },
    {
     "name": "stderr",
     "output_type": "stream",
     "text": [
      "/home/wenzhy/.conda/envs/py3/lib/python3.7/site-packages/sklearn/metrics/classification.py:1437: UndefinedMetricWarning: F-score is ill-defined and being set to 0.0 in labels with no predicted samples.\n",
      "  'precision', 'predicted', average, warn_for)\n"
     ]
    },
    {
     "name": "stdout",
     "output_type": "stream",
     "text": [
      "the score is : 0.4937969311132876\n",
      "the classifier is : bagging_knn\n"
     ]
    },
    {
     "name": "stderr",
     "output_type": "stream",
     "text": [
      "/home/wenzhy/.conda/envs/py3/lib/python3.7/site-packages/sklearn/metrics/classification.py:1437: UndefinedMetricWarning: F-score is ill-defined and being set to 0.0 in labels with no predicted samples.\n",
      "  'precision', 'predicted', average, warn_for)\n"
     ]
    },
    {
     "name": "stdout",
     "output_type": "stream",
     "text": [
      "the score is : 0.4937969311132876\n",
      "the classifier is : bagging_tree\n"
     ]
    },
    {
     "name": "stderr",
     "output_type": "stream",
     "text": [
      "/home/wenzhy/.conda/envs/py3/lib/python3.7/site-packages/sklearn/metrics/classification.py:1437: UndefinedMetricWarning: F-score is ill-defined and being set to 0.0 in labels with no predicted samples.\n",
      "  'precision', 'predicted', average, warn_for)\n"
     ]
    },
    {
     "name": "stdout",
     "output_type": "stream",
     "text": [
      "the score is : 0.4937969311132876\n",
      "the classifier is : random_forest\n"
     ]
    },
    {
     "name": "stderr",
     "output_type": "stream",
     "text": [
      "/home/wenzhy/.conda/envs/py3/lib/python3.7/site-packages/sklearn/metrics/classification.py:1437: UndefinedMetricWarning: F-score is ill-defined and being set to 0.0 in labels with no predicted samples.\n",
      "  'precision', 'predicted', average, warn_for)\n"
     ]
    },
    {
     "name": "stdout",
     "output_type": "stream",
     "text": [
      "the score is : 0.4937969311132876\n",
      "the classifier is : adaboost\n",
      "the score is : 0.49346618752041815\n",
      "the classifier is : gradient_boost\n",
      "the score is : 0.49346618752041815\n"
     ]
    }
   ],
   "source": [
    "df_se1_features = pd.read_csv(feature_12)\n",
    "df_se1_labels = pd.read_csv(labels)\n",
    "df_se1_labels.shape\n",
    "X_train, X_test, y_train, y_test = train_test_split(df_se1_features, df_se1_labels, test_size = 0.2, stratify=df_se1_labels)\n",
    "\n",
    "# X_resampled_smote, y_resampled_smote = SMOTE().fit_sample(X_train, y_train)\n",
    "clfs = {'svm': svm.SVC(),\\\n",
    "        'decision_tree':tree.DecisionTreeClassifier(),\n",
    "        'naive_gaussian': naive_bayes.GaussianNB(), \\\n",
    "        'naive_mul':naive_bayes.MultinomialNB(),\\\n",
    "        'K_neighbor' : neighbors.KNeighborsClassifier(),\\\n",
    "        'bagging_knn' : BaggingClassifier(neighbors.KNeighborsClassifier(), max_samples=0.5,max_features=0.5), \\\n",
    "        'bagging_tree': BaggingClassifier(tree.DecisionTreeClassifier(), max_samples=0.5,max_features=0.5),\n",
    "        'random_forest' : RandomForestClassifier(n_estimators=50),\\\n",
    "        'adaboost':AdaBoostClassifier(n_estimators=50),\\\n",
    "        'gradient_boost' : GradientBoostingClassifier(n_estimators=50, learning_rate=1.0,max_depth=1, random_state=0)\n",
    "        }\n",
    "\n",
    "def try_different_method(clf):\n",
    "    clf.fit(X_train,y_train.values.ravel())\n",
    "    predictions = clf.predict(X_test)\n",
    "    score = f1_score(y_test, predictions, average='macro')\n",
    "    print('the score is :', score)\n",
    "\n",
    "for clf_key in clfs.keys():\n",
    "    print('the classifier is :',clf_key)\n",
    "    clf = clfs[clf_key]\n",
    "    try_different_method(clf)"
   ]
  },
  {
   "cell_type": "code",
   "execution_count": 13,
   "metadata": {},
   "outputs": [
    {
     "name": "stderr",
     "output_type": "stream",
     "text": [
      "/home/wenzhy/.conda/envs/py3/lib/python3.7/site-packages/sklearn/utils/validation.py:724: DataConversionWarning: A column-vector y was passed when a 1d array was expected. Please change the shape of y to (n_samples, ), for example using ravel().\n",
      "  y = column_or_1d(y, warn=True)\n"
     ]
    },
    {
     "name": "stdout",
     "output_type": "stream",
     "text": [
      "the classifier is : gradient_boost\n",
      "the score is : 0.6949371170590132\n"
     ]
    }
   ],
   "source": [
    "df_se1_features = pd.read_csv(feature_09)\n",
    "df_se1_labels = pd.read_csv(labels)\n",
    "df_se1_labels.shape\n",
    "X_train, X_test, y_train, y_test = train_test_split(df_se1_features, df_se1_labels, test_size = 0.2, stratify=df_se1_labels)\n",
    "\n",
    "X_resampled_smote, y_resampled_smote = SMOTE().fit_sample(X_train, y_train)\n",
    "clfs = {\n",
    "#     'svm': svm.SVC(),\\\n",
    "#         'decision_tree':tree.DecisionTreeClassifier(),\n",
    "#         'naive_gaussian': naive_bayes.GaussianNB(), \\\n",
    "#         'naive_mul':naive_bayes.MultinomialNB(),\\\n",
    "#         'K_neighbor' : neighbors.KNeighborsClassifier(),\\\n",
    "#         'bagging_knn' : BaggingClassifier(neighbors.KNeighborsClassifier(), max_samples=0.5,max_features=0.5), \\\n",
    "#         'bagging_tree': BaggingClassifier(tree.DecisionTreeClassifier(), max_samples=0.5,max_features=0.5),\n",
    "#         'random_forest' : RandomForestClassifier(n_estimators=50),\\\n",
    "#         'adaboost':AdaBoostClassifier(n_estimators=50),\\\n",
    "        'gradient_boost' : GradientBoostingClassifier(n_estimators=50, learning_rate=3.0,max_depth=10, random_state=0)\n",
    "        }\n",
    "\n",
    "def try_different_method(clf):\n",
    "    clf.fit(X_resampled_smote,y_resampled_smote.ravel())\n",
    "    predictions = clf.predict(X_test)\n",
    "    score = f1_score(y_test, predictions, average='micro')\n",
    "    print('the score is :', score)\n",
    "\n",
    "for clf_key in clfs.keys():\n",
    "    print('the classifier is :',clf_key)\n",
    "    clf = clfs[clf_key]\n",
    "    try_different_method(clf)"
   ]
  },
  {
   "cell_type": "code",
   "execution_count": 14,
   "metadata": {},
   "outputs": [
    {
     "name": "stderr",
     "output_type": "stream",
     "text": [
      "/home/wenzhy/.conda/envs/py3/lib/python3.7/site-packages/sklearn/utils/validation.py:724: DataConversionWarning: A column-vector y was passed when a 1d array was expected. Please change the shape of y to (n_samples, ), for example using ravel().\n",
      "  y = column_or_1d(y, warn=True)\n"
     ]
    },
    {
     "name": "stdout",
     "output_type": "stream",
     "text": [
      "the classifier is : gradient_boost\n",
      "the score is : 0.7616897774911319\n"
     ]
    }
   ],
   "source": [
    "df_se1_features = pd.read_csv(feature_10)\n",
    "df_se1_labels = pd.read_csv(labels)\n",
    "df_se1_labels.shape\n",
    "X_train, X_test, y_train, y_test = train_test_split(df_se1_features, df_se1_labels, test_size = 0.2, stratify=df_se1_labels)\n",
    "\n",
    "X_resampled_smote, y_resampled_smote = SMOTE().fit_sample(X_train, y_train)\n",
    "clfs = {\n",
    "#     'svm': svm.SVC(),\\\n",
    "#         'decision_tree':tree.DecisionTreeClassifier(),\n",
    "#         'naive_gaussian': naive_bayes.GaussianNB(), \\\n",
    "#         'naive_mul':naive_bayes.MultinomialNB(),\\\n",
    "#         'K_neighbor' : neighbors.KNeighborsClassifier(),\\\n",
    "#         'bagging_knn' : BaggingClassifier(neighbors.KNeighborsClassifier(), max_samples=0.5,max_features=0.5), \\\n",
    "#         'bagging_tree': BaggingClassifier(tree.DecisionTreeClassifier(), max_samples=0.5,max_features=0.5),\n",
    "#         'random_forest' : RandomForestClassifier(n_estimators=50),\\\n",
    "#         'adaboost':AdaBoostClassifier(n_estimators=50),\\\n",
    "        'gradient_boost' : GradientBoostingClassifier(n_estimators=50, learning_rate=3.0,max_depth=10, random_state=0)\n",
    "        }\n",
    "\n",
    "def try_different_method(clf):\n",
    "    clf.fit(X_resampled_smote,y_resampled_smote.ravel())\n",
    "    predictions = clf.predict(X_test)\n",
    "    score = f1_score(y_test, predictions, average='micro')\n",
    "    print('the score is :', score)\n",
    "\n",
    "for clf_key in clfs.keys():\n",
    "    print('the classifier is :',clf_key)\n",
    "    clf = clfs[clf_key]\n",
    "    try_different_method(clf)"
   ]
  },
  {
   "cell_type": "code",
   "execution_count": 15,
   "metadata": {},
   "outputs": [
    {
     "name": "stderr",
     "output_type": "stream",
     "text": [
      "/home/wenzhy/.conda/envs/py3/lib/python3.7/site-packages/sklearn/utils/validation.py:724: DataConversionWarning: A column-vector y was passed when a 1d array was expected. Please change the shape of y to (n_samples, ), for example using ravel().\n",
      "  y = column_or_1d(y, warn=True)\n"
     ]
    },
    {
     "name": "stdout",
     "output_type": "stream",
     "text": [
      "the classifier is : gradient_boost\n",
      "the score is : 0.8110287004192196\n"
     ]
    }
   ],
   "source": [
    "df_se1_features = pd.read_csv(feature_11)\n",
    "df_se1_labels = pd.read_csv(labels)\n",
    "df_se1_labels.shape\n",
    "X_train, X_test, y_train, y_test = train_test_split(df_se1_features, df_se1_labels, test_size = 0.2, stratify=df_se1_labels)\n",
    "\n",
    "X_resampled_smote, y_resampled_smote = SMOTE().fit_sample(X_train, y_train)\n",
    "clfs = {\n",
    "#     'svm': svm.SVC(),\\\n",
    "#         'decision_tree':tree.DecisionTreeClassifier(),\n",
    "#         'naive_gaussian': naive_bayes.GaussianNB(), \\\n",
    "#         'naive_mul':naive_bayes.MultinomialNB(),\\\n",
    "#         'K_neighbor' : neighbors.KNeighborsClassifier(),\\\n",
    "#         'bagging_knn' : BaggingClassifier(neighbors.KNeighborsClassifier(), max_samples=0.5,max_features=0.5), \\\n",
    "#         'bagging_tree': BaggingClassifier(tree.DecisionTreeClassifier(), max_samples=0.5,max_features=0.5),\n",
    "#         'random_forest' : RandomForestClassifier(n_estimators=50),\\\n",
    "#         'adaboost':AdaBoostClassifier(n_estimators=50),\\\n",
    "        'gradient_boost' : GradientBoostingClassifier(n_estimators=50, learning_rate=3.0,max_depth=10, random_state=0)\n",
    "        }\n",
    "\n",
    "def try_different_method(clf):\n",
    "    clf.fit(X_resampled_smote,y_resampled_smote.ravel())\n",
    "    predictions = clf.predict(X_test)\n",
    "    score = f1_score(y_test, predictions, average='micro')\n",
    "    print('the score is :', score)\n",
    "\n",
    "for clf_key in clfs.keys():\n",
    "    print('the classifier is :',clf_key)\n",
    "    clf = clfs[clf_key]\n",
    "    try_different_method(clf)"
   ]
  },
  {
   "cell_type": "code",
   "execution_count": 16,
   "metadata": {},
   "outputs": [
    {
     "name": "stderr",
     "output_type": "stream",
     "text": [
      "/home/wenzhy/.conda/envs/py3/lib/python3.7/site-packages/sklearn/utils/validation.py:724: DataConversionWarning: A column-vector y was passed when a 1d array was expected. Please change the shape of y to (n_samples, ), for example using ravel().\n",
      "  y = column_or_1d(y, warn=True)\n"
     ]
    },
    {
     "name": "stdout",
     "output_type": "stream",
     "text": [
      "the classifier is : gradient_boost\n",
      "the score is : 0.871654305062883\n"
     ]
    }
   ],
   "source": [
    "df_se1_features = pd.read_csv(feature_12)\n",
    "df_se1_labels = pd.read_csv(labels)\n",
    "df_se1_labels.shape\n",
    "X_train, X_test, y_train, y_test = train_test_split(df_se1_features, df_se1_labels, test_size = 0.2, stratify=df_se1_labels)\n",
    "\n",
    "X_resampled_smote, y_resampled_smote = SMOTE().fit_sample(X_train, y_train)\n",
    "clfs = {#'svm': svm.SVC(),\\\n",
    "#         'decision_tree':tree.DecisionTreeClassifier(),\n",
    "#         'naive_gaussian': naive_bayes.GaussianNB(), \\\n",
    "#         'naive_mul':naive_bayes.MultinomialNB(),\\\n",
    "#         'K_neighbor' : neighbors.KNeighborsClassifier(),\\\n",
    "#         'bagging_knn' : BaggingClassifier(neighbors.KNeighborsClassifier(), max_samples=0.5,max_features=0.5), \\\n",
    "#         'bagging_tree': BaggingClassifier(tree.DecisionTreeClassifier(), max_samples=0.5,max_features=0.5),\n",
    "#         'random_forest' : RandomForestClassifier(n_estimators=50),\\\n",
    "#         'adaboost':AdaBoostClassifier(n_estimators=50),\\\n",
    "        'gradient_boost' : GradientBoostingClassifier(n_estimators=50, learning_rate=3.0,max_depth=10, random_state=0)\n",
    "        }\n",
    "\n",
    "def try_different_method(clf):\n",
    "    clf.fit(X_resampled_smote,y_resampled_smote.ravel())\n",
    "    predictions = clf.predict(X_test)\n",
    "    score = f1_score(y_test, predictions, average='micro')\n",
    "    print('the score is :', score)\n",
    "\n",
    "for clf_key in clfs.keys():\n",
    "    print('the classifier is :',clf_key)\n",
    "    clf = clfs[clf_key]\n",
    "    try_different_method(clf)"
   ]
  }
 ],
 "metadata": {
  "kernelspec": {
   "display_name": "Python 3",
   "language": "python",
   "name": "python3"
  },
  "language_info": {
   "codemirror_mode": {
    "name": "ipython",
    "version": 3
   },
   "file_extension": ".py",
   "mimetype": "text/x-python",
   "name": "python",
   "nbconvert_exporter": "python",
   "pygments_lexer": "ipython3",
   "version": "3.7.4"
  }
 },
 "nbformat": 4,
 "nbformat_minor": 2
}
