{
 "cells": [
  {
   "cell_type": "code",
   "execution_count": 137,
   "metadata": {},
   "outputs": [],
   "source": [
    "import numpy as np\n",
    "import pandas as pd\n",
    "import re"
   ]
  },
  {
   "cell_type": "code",
   "execution_count": 138,
   "metadata": {},
   "outputs": [
    {
     "data": {
      "text/html": [
       "<div>\n",
       "<style scoped>\n",
       "    .dataframe tbody tr th:only-of-type {\n",
       "        vertical-align: middle;\n",
       "    }\n",
       "\n",
       "    .dataframe tbody tr th {\n",
       "        vertical-align: top;\n",
       "    }\n",
       "\n",
       "    .dataframe thead tr th {\n",
       "        text-align: left;\n",
       "    }\n",
       "</style>\n",
       "<table border=\"1\" class=\"dataframe\">\n",
       "  <thead>\n",
       "    <tr>\n",
       "      <th></th>\n",
       "      <th>Total_LMS</th>\n",
       "      <th>At_risk_LMS</th>\n",
       "      <th>Total_LIB</th>\n",
       "      <th>At_risk_LIB</th>\n",
       "    </tr>\n",
       "  </thead>\n",
       "  <tbody>\n",
       "    <tr>\n",
       "      <th>se1_week_1</th>\n",
       "      <td>0.918040</td>\n",
       "      <td>0.406529</td>\n",
       "      <td>0.710784</td>\n",
       "      <td>0.337064</td>\n",
       "    </tr>\n",
       "    <tr>\n",
       "      <th>se1_week_2</th>\n",
       "      <td>0.322255</td>\n",
       "      <td>0.883100</td>\n",
       "      <td>0.198682</td>\n",
       "      <td>0.158977</td>\n",
       "    </tr>\n",
       "    <tr>\n",
       "      <th>se1_week_3</th>\n",
       "      <td>0.188352</td>\n",
       "      <td>0.107828</td>\n",
       "      <td>0.277797</td>\n",
       "      <td>0.022961</td>\n",
       "    </tr>\n",
       "    <tr>\n",
       "      <th>se1_week_4</th>\n",
       "      <td>0.327612</td>\n",
       "      <td>0.895929</td>\n",
       "      <td>0.543016</td>\n",
       "      <td>0.224944</td>\n",
       "    </tr>\n",
       "    <tr>\n",
       "      <th>se1_week_5</th>\n",
       "      <td>0.137814</td>\n",
       "      <td>0.662864</td>\n",
       "      <td>0.632963</td>\n",
       "      <td>0.895400</td>\n",
       "    </tr>\n",
       "    <tr>\n",
       "      <th>se1_week_6</th>\n",
       "      <td>0.655798</td>\n",
       "      <td>0.600573</td>\n",
       "      <td>0.980186</td>\n",
       "      <td>0.683610</td>\n",
       "    </tr>\n",
       "    <tr>\n",
       "      <th>se1_week_7</th>\n",
       "      <td>0.822130</td>\n",
       "      <td>0.754878</td>\n",
       "      <td>0.312764</td>\n",
       "      <td>0.558915</td>\n",
       "    </tr>\n",
       "    <tr>\n",
       "      <th>se1_week_8</th>\n",
       "      <td>0.232469</td>\n",
       "      <td>0.887083</td>\n",
       "      <td>0.009553</td>\n",
       "      <td>0.756618</td>\n",
       "    </tr>\n",
       "    <tr>\n",
       "      <th>se1_week_9</th>\n",
       "      <td>0.597552</td>\n",
       "      <td>0.096042</td>\n",
       "      <td>0.774888</td>\n",
       "      <td>0.734644</td>\n",
       "    </tr>\n",
       "    <tr>\n",
       "      <th>se1_week_10</th>\n",
       "      <td>0.376905</td>\n",
       "      <td>0.583985</td>\n",
       "      <td>0.478189</td>\n",
       "      <td>0.597092</td>\n",
       "    </tr>\n",
       "    <tr>\n",
       "      <th>se1_week_11</th>\n",
       "      <td>0.774554</td>\n",
       "      <td>0.833559</td>\n",
       "      <td>0.714713</td>\n",
       "      <td>0.253220</td>\n",
       "    </tr>\n",
       "    <tr>\n",
       "      <th>se1_week_12</th>\n",
       "      <td>0.804358</td>\n",
       "      <td>0.354464</td>\n",
       "      <td>0.957907</td>\n",
       "      <td>0.002117</td>\n",
       "    </tr>\n",
       "    <tr>\n",
       "      <th>se1_week_13</th>\n",
       "      <td>0.204365</td>\n",
       "      <td>0.151198</td>\n",
       "      <td>0.137667</td>\n",
       "      <td>0.949239</td>\n",
       "    </tr>\n",
       "    <tr>\n",
       "      <th>se1_week_14</th>\n",
       "      <td>0.215432</td>\n",
       "      <td>0.760861</td>\n",
       "      <td>0.100962</td>\n",
       "      <td>0.921598</td>\n",
       "    </tr>\n",
       "    <tr>\n",
       "      <th>se1_week_15</th>\n",
       "      <td>0.751032</td>\n",
       "      <td>0.173687</td>\n",
       "      <td>0.148005</td>\n",
       "      <td>0.923562</td>\n",
       "    </tr>\n",
       "    <tr>\n",
       "      <th>se1_week_16</th>\n",
       "      <td>0.115381</td>\n",
       "      <td>0.567793</td>\n",
       "      <td>0.292910</td>\n",
       "      <td>0.739723</td>\n",
       "    </tr>\n",
       "    <tr>\n",
       "      <th>se2_week_1</th>\n",
       "      <td>0.726667</td>\n",
       "      <td>0.366637</td>\n",
       "      <td>0.074729</td>\n",
       "      <td>0.812125</td>\n",
       "    </tr>\n",
       "    <tr>\n",
       "      <th>se2_week_2</th>\n",
       "      <td>0.837230</td>\n",
       "      <td>0.085369</td>\n",
       "      <td>0.840577</td>\n",
       "      <td>0.883433</td>\n",
       "    </tr>\n",
       "    <tr>\n",
       "      <th>se2_week_3</th>\n",
       "      <td>0.195899</td>\n",
       "      <td>0.798485</td>\n",
       "      <td>0.245814</td>\n",
       "      <td>0.384568</td>\n",
       "    </tr>\n",
       "    <tr>\n",
       "      <th>se2_week_4</th>\n",
       "      <td>0.198192</td>\n",
       "      <td>0.766378</td>\n",
       "      <td>0.212198</td>\n",
       "      <td>0.400095</td>\n",
       "    </tr>\n",
       "    <tr>\n",
       "      <th>se2_week_5</th>\n",
       "      <td>0.399316</td>\n",
       "      <td>0.749911</td>\n",
       "      <td>0.462491</td>\n",
       "      <td>0.342383</td>\n",
       "    </tr>\n",
       "    <tr>\n",
       "      <th>se2_week_6</th>\n",
       "      <td>0.705477</td>\n",
       "      <td>0.381916</td>\n",
       "      <td>0.519151</td>\n",
       "      <td>0.833793</td>\n",
       "    </tr>\n",
       "    <tr>\n",
       "      <th>se2_week_7</th>\n",
       "      <td>0.087182</td>\n",
       "      <td>0.585502</td>\n",
       "      <td>0.683328</td>\n",
       "      <td>0.975298</td>\n",
       "    </tr>\n",
       "    <tr>\n",
       "      <th>se2_week_8</th>\n",
       "      <td>0.208817</td>\n",
       "      <td>0.242990</td>\n",
       "      <td>0.197385</td>\n",
       "      <td>0.550075</td>\n",
       "    </tr>\n",
       "    <tr>\n",
       "      <th>se2_week_9</th>\n",
       "      <td>0.291326</td>\n",
       "      <td>0.263395</td>\n",
       "      <td>0.413897</td>\n",
       "      <td>0.745434</td>\n",
       "    </tr>\n",
       "    <tr>\n",
       "      <th>se2_week_10</th>\n",
       "      <td>0.056148</td>\n",
       "      <td>0.534381</td>\n",
       "      <td>0.040898</td>\n",
       "      <td>0.845835</td>\n",
       "    </tr>\n",
       "    <tr>\n",
       "      <th>se2_week_11</th>\n",
       "      <td>0.008856</td>\n",
       "      <td>0.918595</td>\n",
       "      <td>0.773201</td>\n",
       "      <td>0.220220</td>\n",
       "    </tr>\n",
       "    <tr>\n",
       "      <th>se2_week_12</th>\n",
       "      <td>0.349134</td>\n",
       "      <td>0.382918</td>\n",
       "      <td>0.522315</td>\n",
       "      <td>0.199965</td>\n",
       "    </tr>\n",
       "    <tr>\n",
       "      <th>se2_week_13</th>\n",
       "      <td>0.749092</td>\n",
       "      <td>0.816158</td>\n",
       "      <td>0.834603</td>\n",
       "      <td>0.845038</td>\n",
       "    </tr>\n",
       "    <tr>\n",
       "      <th>se2_week_14</th>\n",
       "      <td>0.685548</td>\n",
       "      <td>0.621509</td>\n",
       "      <td>0.448752</td>\n",
       "      <td>0.111227</td>\n",
       "    </tr>\n",
       "    <tr>\n",
       "      <th>se2_week_15</th>\n",
       "      <td>0.153255</td>\n",
       "      <td>0.048837</td>\n",
       "      <td>0.706464</td>\n",
       "      <td>0.257235</td>\n",
       "    </tr>\n",
       "    <tr>\n",
       "      <th>se2_week_16</th>\n",
       "      <td>0.010618</td>\n",
       "      <td>0.568288</td>\n",
       "      <td>0.644022</td>\n",
       "      <td>0.390111</td>\n",
       "    </tr>\n",
       "  </tbody>\n",
       "</table>\n",
       "</div>"
      ],
      "text/plain": [
       "            Total_LMS At_risk_LMS Total_LIB At_risk_LIB\n",
       "se1_week_1   0.918040    0.406529  0.710784    0.337064\n",
       "se1_week_2   0.322255    0.883100  0.198682    0.158977\n",
       "se1_week_3   0.188352    0.107828  0.277797    0.022961\n",
       "se1_week_4   0.327612    0.895929  0.543016    0.224944\n",
       "se1_week_5   0.137814    0.662864  0.632963    0.895400\n",
       "se1_week_6   0.655798    0.600573  0.980186    0.683610\n",
       "se1_week_7   0.822130    0.754878  0.312764    0.558915\n",
       "se1_week_8   0.232469    0.887083  0.009553    0.756618\n",
       "se1_week_9   0.597552    0.096042  0.774888    0.734644\n",
       "se1_week_10  0.376905    0.583985  0.478189    0.597092\n",
       "se1_week_11  0.774554    0.833559  0.714713    0.253220\n",
       "se1_week_12  0.804358    0.354464  0.957907    0.002117\n",
       "se1_week_13  0.204365    0.151198  0.137667    0.949239\n",
       "se1_week_14  0.215432    0.760861  0.100962    0.921598\n",
       "se1_week_15  0.751032    0.173687  0.148005    0.923562\n",
       "se1_week_16  0.115381    0.567793  0.292910    0.739723\n",
       "se2_week_1   0.726667    0.366637  0.074729    0.812125\n",
       "se2_week_2   0.837230    0.085369  0.840577    0.883433\n",
       "se2_week_3   0.195899    0.798485  0.245814    0.384568\n",
       "se2_week_4   0.198192    0.766378  0.212198    0.400095\n",
       "se2_week_5   0.399316    0.749911  0.462491    0.342383\n",
       "se2_week_6   0.705477    0.381916  0.519151    0.833793\n",
       "se2_week_7   0.087182    0.585502  0.683328    0.975298\n",
       "se2_week_8   0.208817    0.242990  0.197385    0.550075\n",
       "se2_week_9   0.291326    0.263395  0.413897    0.745434\n",
       "se2_week_10  0.056148    0.534381  0.040898    0.845835\n",
       "se2_week_11  0.008856    0.918595  0.773201    0.220220\n",
       "se2_week_12  0.349134    0.382918  0.522315    0.199965\n",
       "se2_week_13  0.749092    0.816158  0.834603    0.845038\n",
       "se2_week_14  0.685548    0.621509  0.448752    0.111227\n",
       "se2_week_15  0.153255    0.048837  0.706464    0.257235\n",
       "se2_week_16  0.010618    0.568288  0.644022    0.390111"
      ]
     },
     "execution_count": 138,
     "metadata": {},
     "output_type": "execute_result"
    }
   ],
   "source": [
    "rows = [\n",
    "    'se1_week_1',\n",
    "    'se1_week_2',\n",
    "    'se1_week_3',\n",
    "    'se1_week_4',\n",
    "    'se1_week_5',\n",
    "    'se1_week_6',\n",
    "    'se1_week_7',\n",
    "    'se1_week_8',\n",
    "    'se1_week_9',\n",
    "    'se1_week_10',\n",
    "    'se1_week_11',\n",
    "    'se1_week_12',\n",
    "    'se1_week_13',\n",
    "    'se1_week_14',\n",
    "    'se1_week_15',\n",
    "    'se1_week_16',\n",
    "\n",
    "    'se2_week_1',\n",
    "    'se2_week_2',\n",
    "    'se2_week_3',\n",
    "    'se2_week_4',\n",
    "    'se2_week_5',\n",
    "    'se2_week_6',\n",
    "    'se2_week_7',\n",
    "    'se2_week_8',\n",
    "    'se2_week_9',\n",
    "    'se2_week_10',\n",
    "    'se2_week_11',\n",
    "    'se2_week_12',\n",
    "    'se2_week_13',\n",
    "    'se2_week_14',\n",
    "    'se2_week_15',\n",
    "    'se2_week_16'   \n",
    "]\n",
    "\n",
    "\n",
    "columns = [\n",
    "    'Total_LMS',\n",
    "    'At_risk_LMS',\n",
    "    'Total_LIB',\n",
    "    'At_risk_LIB'\n",
    "]\n",
    "\n",
    "Data_statistical = pd.DataFrame(np.random.rand(32,4), index=rows, columns=columns).fillna(0)\n",
    "Data_statistical"
   ]
  },
  {
   "cell_type": "code",
   "execution_count": 139,
   "metadata": {},
   "outputs": [
    {
     "name": "stdout",
     "output_type": "stream",
     "text": [
      "0\n",
      "1\n",
      "2\n",
      "3\n",
      "4\n",
      "5\n",
      "6\n",
      "7\n"
     ]
    },
    {
     "data": {
      "text/html": [
       "<div>\n",
       "<style scoped>\n",
       "    .dataframe tbody tr th:only-of-type {\n",
       "        vertical-align: middle;\n",
       "    }\n",
       "\n",
       "    .dataframe tbody tr th {\n",
       "        vertical-align: top;\n",
       "    }\n",
       "\n",
       "    .dataframe thead tr th {\n",
       "        text-align: left;\n",
       "    }\n",
       "</style>\n",
       "<table border=\"1\" class=\"dataframe\">\n",
       "  <thead>\n",
       "    <tr>\n",
       "      <th></th>\n",
       "      <th>Total_LMS</th>\n",
       "      <th>At_risk_LMS</th>\n",
       "      <th>Total_LIB</th>\n",
       "      <th>At_risk_LIB</th>\n",
       "    </tr>\n",
       "  </thead>\n",
       "  <tbody>\n",
       "    <tr>\n",
       "      <th>se1_week_1</th>\n",
       "      <td>5008338</td>\n",
       "      <td>82429</td>\n",
       "      <td>0.710784</td>\n",
       "      <td>0.337064</td>\n",
       "    </tr>\n",
       "    <tr>\n",
       "      <th>se1_week_2</th>\n",
       "      <td>7315455</td>\n",
       "      <td>153269</td>\n",
       "      <td>0.198682</td>\n",
       "      <td>0.158977</td>\n",
       "    </tr>\n",
       "    <tr>\n",
       "      <th>se1_week_3</th>\n",
       "      <td>6901651</td>\n",
       "      <td>154446</td>\n",
       "      <td>0.277797</td>\n",
       "      <td>0.022961</td>\n",
       "    </tr>\n",
       "    <tr>\n",
       "      <th>se1_week_4</th>\n",
       "      <td>6978122</td>\n",
       "      <td>153795</td>\n",
       "      <td>0.543016</td>\n",
       "      <td>0.224944</td>\n",
       "    </tr>\n",
       "    <tr>\n",
       "      <th>se1_week_5</th>\n",
       "      <td>6786573</td>\n",
       "      <td>157468</td>\n",
       "      <td>0.632963</td>\n",
       "      <td>0.895400</td>\n",
       "    </tr>\n",
       "    <tr>\n",
       "      <th>se1_week_6</th>\n",
       "      <td>6917831</td>\n",
       "      <td>164800</td>\n",
       "      <td>0.980186</td>\n",
       "      <td>0.683610</td>\n",
       "    </tr>\n",
       "    <tr>\n",
       "      <th>se1_week_7</th>\n",
       "      <td>8197995</td>\n",
       "      <td>165056</td>\n",
       "      <td>0.312764</td>\n",
       "      <td>0.558915</td>\n",
       "    </tr>\n",
       "    <tr>\n",
       "      <th>se1_week_8</th>\n",
       "      <td>8332744</td>\n",
       "      <td>199054</td>\n",
       "      <td>0.009553</td>\n",
       "      <td>0.756618</td>\n",
       "    </tr>\n",
       "    <tr>\n",
       "      <th>se1_week_9</th>\n",
       "      <td>7300965</td>\n",
       "      <td>186066</td>\n",
       "      <td>0.774888</td>\n",
       "      <td>0.734644</td>\n",
       "    </tr>\n",
       "    <tr>\n",
       "      <th>se1_week_10</th>\n",
       "      <td>8484064</td>\n",
       "      <td>179234</td>\n",
       "      <td>0.478189</td>\n",
       "      <td>0.597092</td>\n",
       "    </tr>\n",
       "    <tr>\n",
       "      <th>se1_week_11</th>\n",
       "      <td>9053825</td>\n",
       "      <td>218146</td>\n",
       "      <td>0.714713</td>\n",
       "      <td>0.253220</td>\n",
       "    </tr>\n",
       "    <tr>\n",
       "      <th>se1_week_12</th>\n",
       "      <td>8553906</td>\n",
       "      <td>180647</td>\n",
       "      <td>0.957907</td>\n",
       "      <td>0.002117</td>\n",
       "    </tr>\n",
       "    <tr>\n",
       "      <th>se1_week_13</th>\n",
       "      <td>8343150</td>\n",
       "      <td>231195</td>\n",
       "      <td>0.137667</td>\n",
       "      <td>0.949239</td>\n",
       "    </tr>\n",
       "    <tr>\n",
       "      <th>se1_week_14</th>\n",
       "      <td>7165913</td>\n",
       "      <td>219257</td>\n",
       "      <td>0.100962</td>\n",
       "      <td>0.921598</td>\n",
       "    </tr>\n",
       "    <tr>\n",
       "      <th>se1_week_15</th>\n",
       "      <td>3577330</td>\n",
       "      <td>95091</td>\n",
       "      <td>0.148005</td>\n",
       "      <td>0.923562</td>\n",
       "    </tr>\n",
       "    <tr>\n",
       "      <th>se1_week_16</th>\n",
       "      <td>480205</td>\n",
       "      <td>6888</td>\n",
       "      <td>0.292910</td>\n",
       "      <td>0.739723</td>\n",
       "    </tr>\n",
       "    <tr>\n",
       "      <th>se2_week_1</th>\n",
       "      <td>3111619</td>\n",
       "      <td>36637</td>\n",
       "      <td>0.074729</td>\n",
       "      <td>0.812125</td>\n",
       "    </tr>\n",
       "    <tr>\n",
       "      <th>se2_week_2</th>\n",
       "      <td>5688999</td>\n",
       "      <td>72731</td>\n",
       "      <td>0.840577</td>\n",
       "      <td>0.883433</td>\n",
       "    </tr>\n",
       "    <tr>\n",
       "      <th>se2_week_3</th>\n",
       "      <td>5838113</td>\n",
       "      <td>89963</td>\n",
       "      <td>0.245814</td>\n",
       "      <td>0.384568</td>\n",
       "    </tr>\n",
       "    <tr>\n",
       "      <th>se2_week_4</th>\n",
       "      <td>3713313</td>\n",
       "      <td>51421</td>\n",
       "      <td>0.212198</td>\n",
       "      <td>0.400095</td>\n",
       "    </tr>\n",
       "    <tr>\n",
       "      <th>se2_week_5</th>\n",
       "      <td>5434004</td>\n",
       "      <td>71924</td>\n",
       "      <td>0.462491</td>\n",
       "      <td>0.342383</td>\n",
       "    </tr>\n",
       "    <tr>\n",
       "      <th>se2_week_6</th>\n",
       "      <td>6782345</td>\n",
       "      <td>91269</td>\n",
       "      <td>0.519151</td>\n",
       "      <td>0.833793</td>\n",
       "    </tr>\n",
       "    <tr>\n",
       "      <th>se2_week_7</th>\n",
       "      <td>6675190</td>\n",
       "      <td>89576</td>\n",
       "      <td>0.683328</td>\n",
       "      <td>0.975298</td>\n",
       "    </tr>\n",
       "    <tr>\n",
       "      <th>se2_week_8</th>\n",
       "      <td>6526890</td>\n",
       "      <td>93857</td>\n",
       "      <td>0.197385</td>\n",
       "      <td>0.550075</td>\n",
       "    </tr>\n",
       "    <tr>\n",
       "      <th>se2_week_9</th>\n",
       "      <td>5302088</td>\n",
       "      <td>79819</td>\n",
       "      <td>0.413897</td>\n",
       "      <td>0.745434</td>\n",
       "    </tr>\n",
       "    <tr>\n",
       "      <th>se2_week_10</th>\n",
       "      <td>6278335</td>\n",
       "      <td>94125</td>\n",
       "      <td>0.040898</td>\n",
       "      <td>0.845835</td>\n",
       "    </tr>\n",
       "    <tr>\n",
       "      <th>se2_week_11</th>\n",
       "      <td>7079630</td>\n",
       "      <td>96201</td>\n",
       "      <td>0.773201</td>\n",
       "      <td>0.220220</td>\n",
       "    </tr>\n",
       "    <tr>\n",
       "      <th>se2_week_12</th>\n",
       "      <td>5359068</td>\n",
       "      <td>81940</td>\n",
       "      <td>0.522315</td>\n",
       "      <td>0.199965</td>\n",
       "    </tr>\n",
       "    <tr>\n",
       "      <th>se2_week_13</th>\n",
       "      <td>4103968</td>\n",
       "      <td>69671</td>\n",
       "      <td>0.834603</td>\n",
       "      <td>0.845038</td>\n",
       "    </tr>\n",
       "    <tr>\n",
       "      <th>se2_week_14</th>\n",
       "      <td>3491522</td>\n",
       "      <td>61906</td>\n",
       "      <td>0.448752</td>\n",
       "      <td>0.111227</td>\n",
       "    </tr>\n",
       "    <tr>\n",
       "      <th>se2_week_15</th>\n",
       "      <td>783608</td>\n",
       "      <td>7182</td>\n",
       "      <td>0.706464</td>\n",
       "      <td>0.257235</td>\n",
       "    </tr>\n",
       "    <tr>\n",
       "      <th>se2_week_16</th>\n",
       "      <td>860217</td>\n",
       "      <td>9153</td>\n",
       "      <td>0.644022</td>\n",
       "      <td>0.390111</td>\n",
       "    </tr>\n",
       "  </tbody>\n",
       "</table>\n",
       "</div>"
      ],
      "text/plain": [
       "            Total_LMS At_risk_LMS Total_LIB At_risk_LIB\n",
       "se1_week_1    5008338       82429  0.710784    0.337064\n",
       "se1_week_2    7315455      153269  0.198682    0.158977\n",
       "se1_week_3    6901651      154446  0.277797    0.022961\n",
       "se1_week_4    6978122      153795  0.543016    0.224944\n",
       "se1_week_5    6786573      157468  0.632963    0.895400\n",
       "se1_week_6    6917831      164800  0.980186    0.683610\n",
       "se1_week_7    8197995      165056  0.312764    0.558915\n",
       "se1_week_8    8332744      199054  0.009553    0.756618\n",
       "se1_week_9    7300965      186066  0.774888    0.734644\n",
       "se1_week_10   8484064      179234  0.478189    0.597092\n",
       "se1_week_11   9053825      218146  0.714713    0.253220\n",
       "se1_week_12   8553906      180647  0.957907    0.002117\n",
       "se1_week_13   8343150      231195  0.137667    0.949239\n",
       "se1_week_14   7165913      219257  0.100962    0.921598\n",
       "se1_week_15   3577330       95091  0.148005    0.923562\n",
       "se1_week_16    480205        6888  0.292910    0.739723\n",
       "se2_week_1    3111619       36637  0.074729    0.812125\n",
       "se2_week_2    5688999       72731  0.840577    0.883433\n",
       "se2_week_3    5838113       89963  0.245814    0.384568\n",
       "se2_week_4    3713313       51421  0.212198    0.400095\n",
       "se2_week_5    5434004       71924  0.462491    0.342383\n",
       "se2_week_6    6782345       91269  0.519151    0.833793\n",
       "se2_week_7    6675190       89576  0.683328    0.975298\n",
       "se2_week_8    6526890       93857  0.197385    0.550075\n",
       "se2_week_9    5302088       79819  0.413897    0.745434\n",
       "se2_week_10   6278335       94125  0.040898    0.845835\n",
       "se2_week_11   7079630       96201  0.773201    0.220220\n",
       "se2_week_12   5359068       81940  0.522315    0.199965\n",
       "se2_week_13   4103968       69671  0.834603    0.845038\n",
       "se2_week_14   3491522       61906  0.448752    0.111227\n",
       "se2_week_15    783608        7182  0.706464    0.257235\n",
       "se2_week_16    860217        9153  0.644022    0.390111"
      ]
     },
     "execution_count": 139,
     "metadata": {},
     "output_type": "execute_result"
    }
   ],
   "source": [
    "# add lms\n",
    "data_path_list = [\n",
    "    'DR0008_activity_accumulator_2016_09.csv',\n",
    "    'DR0008_activity_accumulator_2016-10.csv',\n",
    "    'DR0008_activity_accumulator_2016-11.csv',\n",
    "    'DR0008_activity_accumulator_2016-12.csv',\n",
    "    'DR0008_activity_accumulator_2017-02.csv',\n",
    "    'DR0008_activity_accumulator_2017-03.csv',\n",
    "    'DR0008_activity_accumulator_2017-04.csv',\n",
    "    'DR0008_activity_accumulator_2017-05.csv'\n",
    "]\n",
    "\n",
    "se1_at_risks = pd.read_csv('Std_list_atRist_2016_se1.csv')\n",
    "se1_at_risks = se1_at_risks.rename(columns={'MASKED_STUDENT_ID':'De-id', 'CUM_GPA':'CUM_GPA'})\n",
    "\n",
    "se2_at_risks = pd.read_csv('Std_list_atRist_2016_se2.csv')\n",
    "se2_at_risks = se2_at_risks.rename(columns={'MASKED_STUDENT_ID':'De-id', 'CUM_GPA':'CUM_GPA'})\n",
    "\n",
    "total_LMS = []\n",
    "at_risk_LMS = []\n",
    "\n",
    "index = 0\n",
    "for path in data_path_list:\n",
    "    print(index)\n",
    "    df = pd.read_csv(path, sep='\\t')\n",
    "    dt = pd.to_datetime(df['timestamp'])\n",
    "    \n",
    "    test = dt.apply(lambda x: 1 if x.day >=1 and x.day <=7 else 0)\n",
    "    total_LMS.append([test.sum()])\n",
    "    \n",
    "    test = dt.apply(lambda x: 1 if x.day >=8 and x.day <=15 else 0)\n",
    "    total_LMS.append([test.sum()])\n",
    "    \n",
    "    test = dt.apply(lambda x: 1 if x.day >=16 and x.day <=23 else 0)\n",
    "    total_LMS.append([test.sum()])\n",
    "    \n",
    "    test = dt.apply(lambda x: 1 if x.day >=24 and x.day <=32 else 0)\n",
    "    total_LMS.append([test.sum()])\n",
    "    \n",
    "    if index < 4:\n",
    "        df = pd.merge(df, se1_at_risks, on='De-id', how='right')\n",
    "    else:\n",
    "        df = pd.merge(df, se2_at_risks, on='De-id', how='right')\n",
    "    \n",
    "    dt = pd.to_datetime(df['timestamp'])\n",
    "    test = dt.apply(lambda x: 1 if x.day >=1 and x.day <=7 else 0)\n",
    "    at_risk_LMS.append([test.sum()])\n",
    "    test = dt.apply(lambda x: 1 if x.day >=8 and x.day <=15 else 0)\n",
    "    at_risk_LMS.append([test.sum()])\n",
    "    test = dt.apply(lambda x: 1 if x.day >=16 and x.day <=23 else 0)\n",
    "    at_risk_LMS.append([test.sum()])\n",
    "    test = dt.apply(lambda x: 1 if x.day >=24 and x.day <=32 else 0)\n",
    "    at_risk_LMS.append([test.sum()])\n",
    "    \n",
    "    index += 1\n",
    "\n",
    "total_LMS = np.array(total_LMS)\n",
    "Data_statistical['Total_LMS'] = total_LMS\n",
    "at_risk_LMS = np.array(at_risk_LMS)\n",
    "Data_statistical['At_risk_LMS'] = at_risk_LMS\n",
    "Data_statistical"
   ]
  },
  {
   "cell_type": "code",
   "execution_count": 140,
   "metadata": {},
   "outputs": [
    {
     "data": {
      "text/plain": [
       "Total_LMS      1.864270e+08\n",
       "At_risk_LMS    3.644216e+06\n",
       "Total_LIB      1.489081e+01\n",
       "At_risk_LIB    1.755652e+01\n",
       "dtype: float64"
      ]
     },
     "execution_count": 140,
     "metadata": {},
     "output_type": "execute_result"
    }
   ],
   "source": [
    "Data_statistical.sum()"
   ]
  },
  {
   "cell_type": "code",
   "execution_count": 141,
   "metadata": {},
   "outputs": [
    {
     "data": {
      "text/html": [
       "<div>\n",
       "<style scoped>\n",
       "    .dataframe tbody tr th:only-of-type {\n",
       "        vertical-align: middle;\n",
       "    }\n",
       "\n",
       "    .dataframe tbody tr th {\n",
       "        vertical-align: top;\n",
       "    }\n",
       "\n",
       "    .dataframe thead tr th {\n",
       "        text-align: left;\n",
       "    }\n",
       "</style>\n",
       "<table border=\"1\" class=\"dataframe\">\n",
       "  <thead>\n",
       "    <tr>\n",
       "      <th></th>\n",
       "      <th>Total_LMS</th>\n",
       "      <th>At_risk_LMS</th>\n",
       "      <th>Total_LIB</th>\n",
       "      <th>At_risk_LIB</th>\n",
       "    </tr>\n",
       "  </thead>\n",
       "  <tbody>\n",
       "    <tr>\n",
       "      <th>se1_week_1</th>\n",
       "      <td>5008338</td>\n",
       "      <td>82429</td>\n",
       "      <td>25667</td>\n",
       "      <td>474</td>\n",
       "    </tr>\n",
       "    <tr>\n",
       "      <th>se1_week_2</th>\n",
       "      <td>7315455</td>\n",
       "      <td>153269</td>\n",
       "      <td>46163</td>\n",
       "      <td>924</td>\n",
       "    </tr>\n",
       "    <tr>\n",
       "      <th>se1_week_3</th>\n",
       "      <td>6901651</td>\n",
       "      <td>154446</td>\n",
       "      <td>44051</td>\n",
       "      <td>924</td>\n",
       "    </tr>\n",
       "    <tr>\n",
       "      <th>se1_week_4</th>\n",
       "      <td>6978122</td>\n",
       "      <td>153795</td>\n",
       "      <td>47719</td>\n",
       "      <td>906</td>\n",
       "    </tr>\n",
       "    <tr>\n",
       "      <th>se1_week_5</th>\n",
       "      <td>6786573</td>\n",
       "      <td>157468</td>\n",
       "      <td>47619</td>\n",
       "      <td>1012</td>\n",
       "    </tr>\n",
       "    <tr>\n",
       "      <th>se1_week_6</th>\n",
       "      <td>6917831</td>\n",
       "      <td>164800</td>\n",
       "      <td>46427</td>\n",
       "      <td>1109</td>\n",
       "    </tr>\n",
       "    <tr>\n",
       "      <th>se1_week_7</th>\n",
       "      <td>8197995</td>\n",
       "      <td>165056</td>\n",
       "      <td>48161</td>\n",
       "      <td>960</td>\n",
       "    </tr>\n",
       "    <tr>\n",
       "      <th>se1_week_8</th>\n",
       "      <td>8332744</td>\n",
       "      <td>199054</td>\n",
       "      <td>64267</td>\n",
       "      <td>1372</td>\n",
       "    </tr>\n",
       "    <tr>\n",
       "      <th>se1_week_9</th>\n",
       "      <td>7300965</td>\n",
       "      <td>186066</td>\n",
       "      <td>52902</td>\n",
       "      <td>1371</td>\n",
       "    </tr>\n",
       "    <tr>\n",
       "      <th>se1_week_10</th>\n",
       "      <td>8484064</td>\n",
       "      <td>179234</td>\n",
       "      <td>59463</td>\n",
       "      <td>1272</td>\n",
       "    </tr>\n",
       "    <tr>\n",
       "      <th>se1_week_11</th>\n",
       "      <td>9053825</td>\n",
       "      <td>218146</td>\n",
       "      <td>63591</td>\n",
       "      <td>1388</td>\n",
       "    </tr>\n",
       "    <tr>\n",
       "      <th>se1_week_12</th>\n",
       "      <td>8553906</td>\n",
       "      <td>180647</td>\n",
       "      <td>56870</td>\n",
       "      <td>1214</td>\n",
       "    </tr>\n",
       "    <tr>\n",
       "      <th>se1_week_13</th>\n",
       "      <td>8343150</td>\n",
       "      <td>231195</td>\n",
       "      <td>47498</td>\n",
       "      <td>1119</td>\n",
       "    </tr>\n",
       "    <tr>\n",
       "      <th>se1_week_14</th>\n",
       "      <td>7165913</td>\n",
       "      <td>219257</td>\n",
       "      <td>47775</td>\n",
       "      <td>1330</td>\n",
       "    </tr>\n",
       "    <tr>\n",
       "      <th>se1_week_15</th>\n",
       "      <td>3577330</td>\n",
       "      <td>95091</td>\n",
       "      <td>30214</td>\n",
       "      <td>829</td>\n",
       "    </tr>\n",
       "    <tr>\n",
       "      <th>se1_week_16</th>\n",
       "      <td>480205</td>\n",
       "      <td>6888</td>\n",
       "      <td>4088</td>\n",
       "      <td>109</td>\n",
       "    </tr>\n",
       "    <tr>\n",
       "      <th>se2_week_1</th>\n",
       "      <td>3111619</td>\n",
       "      <td>36637</td>\n",
       "      <td>17101</td>\n",
       "      <td>201</td>\n",
       "    </tr>\n",
       "    <tr>\n",
       "      <th>se2_week_2</th>\n",
       "      <td>5688999</td>\n",
       "      <td>72731</td>\n",
       "      <td>39821</td>\n",
       "      <td>424</td>\n",
       "    </tr>\n",
       "    <tr>\n",
       "      <th>se2_week_3</th>\n",
       "      <td>5838113</td>\n",
       "      <td>89963</td>\n",
       "      <td>45154</td>\n",
       "      <td>533</td>\n",
       "    </tr>\n",
       "    <tr>\n",
       "      <th>se2_week_4</th>\n",
       "      <td>3713313</td>\n",
       "      <td>51421</td>\n",
       "      <td>25773</td>\n",
       "      <td>311</td>\n",
       "    </tr>\n",
       "    <tr>\n",
       "      <th>se2_week_5</th>\n",
       "      <td>5434004</td>\n",
       "      <td>71924</td>\n",
       "      <td>41437</td>\n",
       "      <td>498</td>\n",
       "    </tr>\n",
       "    <tr>\n",
       "      <th>se2_week_6</th>\n",
       "      <td>6782345</td>\n",
       "      <td>91269</td>\n",
       "      <td>53625</td>\n",
       "      <td>646</td>\n",
       "    </tr>\n",
       "    <tr>\n",
       "      <th>se2_week_7</th>\n",
       "      <td>6675190</td>\n",
       "      <td>89576</td>\n",
       "      <td>52340</td>\n",
       "      <td>641</td>\n",
       "    </tr>\n",
       "    <tr>\n",
       "      <th>se2_week_8</th>\n",
       "      <td>6526890</td>\n",
       "      <td>93857</td>\n",
       "      <td>50578</td>\n",
       "      <td>597</td>\n",
       "    </tr>\n",
       "    <tr>\n",
       "      <th>se2_week_9</th>\n",
       "      <td>5302088</td>\n",
       "      <td>79819</td>\n",
       "      <td>35429</td>\n",
       "      <td>376</td>\n",
       "    </tr>\n",
       "    <tr>\n",
       "      <th>se2_week_10</th>\n",
       "      <td>6278335</td>\n",
       "      <td>94125</td>\n",
       "      <td>40557</td>\n",
       "      <td>443</td>\n",
       "    </tr>\n",
       "    <tr>\n",
       "      <th>se2_week_11</th>\n",
       "      <td>7079630</td>\n",
       "      <td>96201</td>\n",
       "      <td>45927</td>\n",
       "      <td>520</td>\n",
       "    </tr>\n",
       "    <tr>\n",
       "      <th>se2_week_12</th>\n",
       "      <td>5359068</td>\n",
       "      <td>81940</td>\n",
       "      <td>38661</td>\n",
       "      <td>497</td>\n",
       "    </tr>\n",
       "    <tr>\n",
       "      <th>se2_week_13</th>\n",
       "      <td>4103968</td>\n",
       "      <td>69671</td>\n",
       "      <td>37399</td>\n",
       "      <td>558</td>\n",
       "    </tr>\n",
       "    <tr>\n",
       "      <th>se2_week_14</th>\n",
       "      <td>3491522</td>\n",
       "      <td>61906</td>\n",
       "      <td>32897</td>\n",
       "      <td>507</td>\n",
       "    </tr>\n",
       "    <tr>\n",
       "      <th>se2_week_15</th>\n",
       "      <td>783608</td>\n",
       "      <td>7182</td>\n",
       "      <td>9184</td>\n",
       "      <td>76</td>\n",
       "    </tr>\n",
       "    <tr>\n",
       "      <th>se2_week_16</th>\n",
       "      <td>860217</td>\n",
       "      <td>9153</td>\n",
       "      <td>6853</td>\n",
       "      <td>86</td>\n",
       "    </tr>\n",
       "  </tbody>\n",
       "</table>\n",
       "</div>"
      ],
      "text/plain": [
       "            Total_LMS At_risk_LMS Total_LIB At_risk_LIB\n",
       "se1_week_1    5008338       82429     25667         474\n",
       "se1_week_2    7315455      153269     46163         924\n",
       "se1_week_3    6901651      154446     44051         924\n",
       "se1_week_4    6978122      153795     47719         906\n",
       "se1_week_5    6786573      157468     47619        1012\n",
       "se1_week_6    6917831      164800     46427        1109\n",
       "se1_week_7    8197995      165056     48161         960\n",
       "se1_week_8    8332744      199054     64267        1372\n",
       "se1_week_9    7300965      186066     52902        1371\n",
       "se1_week_10   8484064      179234     59463        1272\n",
       "se1_week_11   9053825      218146     63591        1388\n",
       "se1_week_12   8553906      180647     56870        1214\n",
       "se1_week_13   8343150      231195     47498        1119\n",
       "se1_week_14   7165913      219257     47775        1330\n",
       "se1_week_15   3577330       95091     30214         829\n",
       "se1_week_16    480205        6888      4088         109\n",
       "se2_week_1    3111619       36637     17101         201\n",
       "se2_week_2    5688999       72731     39821         424\n",
       "se2_week_3    5838113       89963     45154         533\n",
       "se2_week_4    3713313       51421     25773         311\n",
       "se2_week_5    5434004       71924     41437         498\n",
       "se2_week_6    6782345       91269     53625         646\n",
       "se2_week_7    6675190       89576     52340         641\n",
       "se2_week_8    6526890       93857     50578         597\n",
       "se2_week_9    5302088       79819     35429         376\n",
       "se2_week_10   6278335       94125     40557         443\n",
       "se2_week_11   7079630       96201     45927         520\n",
       "se2_week_12   5359068       81940     38661         497\n",
       "se2_week_13   4103968       69671     37399         558\n",
       "se2_week_14   3491522       61906     32897         507\n",
       "se2_week_15    783608        7182      9184          76\n",
       "se2_week_16    860217        9153      6853          86"
      ]
     },
     "execution_count": 141,
     "metadata": {},
     "output_type": "execute_result"
    }
   ],
   "source": [
    "se1_at_risks = pd.read_csv('Std_list_atRist_2016_se1.csv')\n",
    "se1_at_risks = se1_at_risks.rename(columns={'MASKED_STUDENT_ID':'comp_masked_net_id', 'CUM_GPA':'CUM_GPA'})\n",
    "se2_at_risks = pd.read_csv('Std_list_atRist_2016_se2.csv')\n",
    "se2_at_risks = se2_at_risks.rename(columns={'MASKED_STUDENT_ID':'comp_masked_net_id', 'CUM_GPA':'CUM_GPA'})\n",
    "\n",
    "\n",
    "total_lib = []\n",
    "at_risk_lib = []\n",
    "\n",
    "df_2016_lib = pd.read_csv('Gate_2016_deidentiy_filtered.csv')\n",
    "months = [9, 10, 11, 12]\n",
    "\n",
    "for mon in months:\n",
    "    dt = pd.to_datetime(df_2016_lib['Column 1'])\n",
    "    test = dt.apply(lambda x: 1 if x.month == mon and x.day >=1 and x.day <=7 else 0)\n",
    "    total_lib.append([test.sum()])\n",
    "    test = dt.apply(lambda x: 1 if x.month == mon and x.day >=8 and x.day <=15 else 0)\n",
    "    total_lib.append([test.sum()])\n",
    "    test = dt.apply(lambda x: 1 if x.month == mon and x.day >=16 and x.day <=23 else 0)\n",
    "    total_lib.append([test.sum()])\n",
    "    test = dt.apply(lambda x: 1 if x.month == mon and x.day >=24 and x.day <=32 else 0)\n",
    "    total_lib.append([test.sum()])\n",
    "\n",
    "    df = pd.merge(df_2016_lib, se1_at_risks, on='comp_masked_net_id', how='right')\n",
    "    dt = pd.to_datetime(df['Column 1'])\n",
    "    test = dt.apply(lambda x: 1 if x.month == mon and x.day >=1 and x.day <=7 else 0)\n",
    "    at_risk_lib.append([test.sum()])\n",
    "    test = dt.apply(lambda x: 1 if x.month == mon and x.day >=8 and x.day <=15 else 0)\n",
    "    at_risk_lib.append([test.sum()])\n",
    "    test = dt.apply(lambda x: 1 if x.month == mon and x.day >=16 and x.day <=23 else 0)\n",
    "    at_risk_lib.append([test.sum()])\n",
    "    test = dt.apply(lambda x: 1 if x.month == mon and x.day >=24 and x.day <=32 else 0)\n",
    "    at_risk_lib.append([test.sum()])\n",
    "\n",
    "\n",
    "df_2017_lib = pd.read_csv('Gate_2017_deidentiy_filtered.csv')\n",
    "months = [2, 3, 4, 5]\n",
    "\n",
    "for mon in months:\n",
    "    dt = pd.to_datetime(df_2017_lib['Column 1'])\n",
    "    test = dt.apply(lambda x: 1 if x.month == mon and x.day >=1 and x.day <=7 else 0)\n",
    "    total_lib.append([test.sum()])\n",
    "    test = dt.apply(lambda x: 1 if x.month == mon and x.day >=8 and x.day <=15 else 0)\n",
    "    total_lib.append([test.sum()])\n",
    "    test = dt.apply(lambda x: 1 if x.month == mon and x.day >=16 and x.day <=23 else 0)\n",
    "    total_lib.append([test.sum()])\n",
    "    test = dt.apply(lambda x: 1 if x.month == mon and x.day >=24 and x.day <=32 else 0)\n",
    "    total_lib.append([test.sum()])\n",
    "\n",
    "    df = pd.merge(df_2017_lib, se2_at_risks, on='comp_masked_net_id', how='right')\n",
    "    dt = pd.to_datetime(df['Column 1'])\n",
    "    test = dt.apply(lambda x: 1 if x.month == mon and x.day >=1 and x.day <=7 else 0)\n",
    "    at_risk_lib.append([test.sum()])\n",
    "    test = dt.apply(lambda x: 1 if x.month == mon and x.day >=8 and x.day <=15 else 0)\n",
    "    at_risk_lib.append([test.sum()])\n",
    "    test = dt.apply(lambda x: 1 if x.month == mon and x.day >=16 and x.day <=23 else 0)\n",
    "    at_risk_lib.append([test.sum()])\n",
    "    test = dt.apply(lambda x: 1 if x.month == mon and x.day >=24 and x.day <=32 else 0)\n",
    "    at_risk_lib.append([test.sum()])\n",
    "\n",
    "total_lib = np.array(total_lib)\n",
    "Data_statistical['Total_LIB'] = total_lib\n",
    "at_risk_lib = np.array(at_risk_lib)\n",
    "Data_statistical['At_risk_LIB'] = at_risk_lib\n",
    "Data_statistical"
   ]
  },
  {
   "cell_type": "code",
   "execution_count": 157,
   "metadata": {},
   "outputs": [
    {
     "data": {
      "text/html": [
       "<div>\n",
       "<style scoped>\n",
       "    .dataframe tbody tr th:only-of-type {\n",
       "        vertical-align: middle;\n",
       "    }\n",
       "\n",
       "    .dataframe tbody tr th {\n",
       "        vertical-align: top;\n",
       "    }\n",
       "\n",
       "    .dataframe thead th {\n",
       "        text-align: right;\n",
       "    }\n",
       "</style>\n",
       "<table border=\"1\" class=\"dataframe\">\n",
       "  <thead>\n",
       "    <tr style=\"text-align: right;\">\n",
       "      <th></th>\n",
       "      <th>comp_masked_net_id</th>\n",
       "      <th>CUM_GPA</th>\n",
       "    </tr>\n",
       "  </thead>\n",
       "  <tbody>\n",
       "    <tr>\n",
       "      <th>0</th>\n",
       "      <td>P5D4NOGJ</td>\n",
       "      <td>1.40</td>\n",
       "    </tr>\n",
       "    <tr>\n",
       "      <th>1</th>\n",
       "      <td>IBHEHSIE</td>\n",
       "      <td>1.75</td>\n",
       "    </tr>\n",
       "    <tr>\n",
       "      <th>2</th>\n",
       "      <td>KSHXX7FK</td>\n",
       "      <td>1.75</td>\n",
       "    </tr>\n",
       "    <tr>\n",
       "      <th>3</th>\n",
       "      <td>RQ9ERG37</td>\n",
       "      <td>1.91</td>\n",
       "    </tr>\n",
       "    <tr>\n",
       "      <th>4</th>\n",
       "      <td>XOWI6BMY</td>\n",
       "      <td>2.00</td>\n",
       "    </tr>\n",
       "    <tr>\n",
       "      <th>...</th>\n",
       "      <td>...</td>\n",
       "      <td>...</td>\n",
       "    </tr>\n",
       "    <tr>\n",
       "      <th>386</th>\n",
       "      <td>YNKV84XW</td>\n",
       "      <td>1.72</td>\n",
       "    </tr>\n",
       "    <tr>\n",
       "      <th>387</th>\n",
       "      <td>DVW15LZ5</td>\n",
       "      <td>1.50</td>\n",
       "    </tr>\n",
       "    <tr>\n",
       "      <th>388</th>\n",
       "      <td>QV962CBO</td>\n",
       "      <td>1.97</td>\n",
       "    </tr>\n",
       "    <tr>\n",
       "      <th>389</th>\n",
       "      <td>U6LHQMJM</td>\n",
       "      <td>1.88</td>\n",
       "    </tr>\n",
       "    <tr>\n",
       "      <th>390</th>\n",
       "      <td>NILZGD4F</td>\n",
       "      <td>1.98</td>\n",
       "    </tr>\n",
       "  </tbody>\n",
       "</table>\n",
       "<p>391 rows × 2 columns</p>\n",
       "</div>"
      ],
      "text/plain": [
       "    comp_masked_net_id  CUM_GPA\n",
       "0             P5D4NOGJ     1.40\n",
       "1             IBHEHSIE     1.75\n",
       "2             KSHXX7FK     1.75\n",
       "3             RQ9ERG37     1.91\n",
       "4             XOWI6BMY     2.00\n",
       "..                 ...      ...\n",
       "386           YNKV84XW     1.72\n",
       "387           DVW15LZ5     1.50\n",
       "388           QV962CBO     1.97\n",
       "389           U6LHQMJM     1.88\n",
       "390           NILZGD4F     1.98\n",
       "\n",
       "[391 rows x 2 columns]"
      ]
     },
     "execution_count": 157,
     "metadata": {},
     "output_type": "execute_result"
    }
   ],
   "source": [
    "se1_at_risks"
   ]
  },
  {
   "cell_type": "code",
   "execution_count": 142,
   "metadata": {},
   "outputs": [
    {
     "data": {
      "text/html": [
       "<div>\n",
       "<style scoped>\n",
       "    .dataframe tbody tr th:only-of-type {\n",
       "        vertical-align: middle;\n",
       "    }\n",
       "\n",
       "    .dataframe tbody tr th {\n",
       "        vertical-align: top;\n",
       "    }\n",
       "\n",
       "    .dataframe thead tr th {\n",
       "        text-align: left;\n",
       "    }\n",
       "</style>\n",
       "<table border=\"1\" class=\"dataframe\">\n",
       "  <thead>\n",
       "    <tr>\n",
       "      <th></th>\n",
       "      <th>Total_LMS</th>\n",
       "      <th>At_risk_LMS</th>\n",
       "      <th>Total_LIB</th>\n",
       "      <th>At_risk_LIB</th>\n",
       "    </tr>\n",
       "  </thead>\n",
       "  <tbody>\n",
       "    <tr>\n",
       "      <th>se1_week_1</th>\n",
       "      <td>5008338</td>\n",
       "      <td>82429</td>\n",
       "      <td>25667</td>\n",
       "      <td>474</td>\n",
       "    </tr>\n",
       "    <tr>\n",
       "      <th>se1_week_2</th>\n",
       "      <td>7315455</td>\n",
       "      <td>153269</td>\n",
       "      <td>46163</td>\n",
       "      <td>924</td>\n",
       "    </tr>\n",
       "    <tr>\n",
       "      <th>se1_week_3</th>\n",
       "      <td>6901651</td>\n",
       "      <td>154446</td>\n",
       "      <td>44051</td>\n",
       "      <td>924</td>\n",
       "    </tr>\n",
       "    <tr>\n",
       "      <th>se1_week_4</th>\n",
       "      <td>6978122</td>\n",
       "      <td>153795</td>\n",
       "      <td>47719</td>\n",
       "      <td>906</td>\n",
       "    </tr>\n",
       "    <tr>\n",
       "      <th>se1_week_5</th>\n",
       "      <td>6786573</td>\n",
       "      <td>157468</td>\n",
       "      <td>47619</td>\n",
       "      <td>1012</td>\n",
       "    </tr>\n",
       "    <tr>\n",
       "      <th>se1_week_6</th>\n",
       "      <td>6917831</td>\n",
       "      <td>164800</td>\n",
       "      <td>46427</td>\n",
       "      <td>1109</td>\n",
       "    </tr>\n",
       "    <tr>\n",
       "      <th>se1_week_7</th>\n",
       "      <td>8197995</td>\n",
       "      <td>165056</td>\n",
       "      <td>48161</td>\n",
       "      <td>960</td>\n",
       "    </tr>\n",
       "    <tr>\n",
       "      <th>se1_week_8</th>\n",
       "      <td>8332744</td>\n",
       "      <td>199054</td>\n",
       "      <td>64267</td>\n",
       "      <td>1372</td>\n",
       "    </tr>\n",
       "    <tr>\n",
       "      <th>se1_week_9</th>\n",
       "      <td>7300965</td>\n",
       "      <td>186066</td>\n",
       "      <td>52902</td>\n",
       "      <td>1371</td>\n",
       "    </tr>\n",
       "    <tr>\n",
       "      <th>se1_week_10</th>\n",
       "      <td>8484064</td>\n",
       "      <td>179234</td>\n",
       "      <td>59463</td>\n",
       "      <td>1272</td>\n",
       "    </tr>\n",
       "    <tr>\n",
       "      <th>se1_week_11</th>\n",
       "      <td>9053825</td>\n",
       "      <td>218146</td>\n",
       "      <td>63591</td>\n",
       "      <td>1388</td>\n",
       "    </tr>\n",
       "    <tr>\n",
       "      <th>se1_week_12</th>\n",
       "      <td>8553906</td>\n",
       "      <td>180647</td>\n",
       "      <td>56870</td>\n",
       "      <td>1214</td>\n",
       "    </tr>\n",
       "    <tr>\n",
       "      <th>se1_week_13</th>\n",
       "      <td>8343150</td>\n",
       "      <td>231195</td>\n",
       "      <td>47498</td>\n",
       "      <td>1119</td>\n",
       "    </tr>\n",
       "    <tr>\n",
       "      <th>se2_week_1</th>\n",
       "      <td>3111619</td>\n",
       "      <td>36637</td>\n",
       "      <td>17101</td>\n",
       "      <td>201</td>\n",
       "    </tr>\n",
       "    <tr>\n",
       "      <th>se2_week_2</th>\n",
       "      <td>5688999</td>\n",
       "      <td>72731</td>\n",
       "      <td>39821</td>\n",
       "      <td>424</td>\n",
       "    </tr>\n",
       "    <tr>\n",
       "      <th>se2_week_3</th>\n",
       "      <td>5838113</td>\n",
       "      <td>89963</td>\n",
       "      <td>45154</td>\n",
       "      <td>533</td>\n",
       "    </tr>\n",
       "    <tr>\n",
       "      <th>se2_week_4</th>\n",
       "      <td>3713313</td>\n",
       "      <td>51421</td>\n",
       "      <td>25773</td>\n",
       "      <td>311</td>\n",
       "    </tr>\n",
       "    <tr>\n",
       "      <th>se2_week_5</th>\n",
       "      <td>5434004</td>\n",
       "      <td>71924</td>\n",
       "      <td>41437</td>\n",
       "      <td>498</td>\n",
       "    </tr>\n",
       "    <tr>\n",
       "      <th>se2_week_6</th>\n",
       "      <td>6782345</td>\n",
       "      <td>91269</td>\n",
       "      <td>53625</td>\n",
       "      <td>646</td>\n",
       "    </tr>\n",
       "    <tr>\n",
       "      <th>se2_week_7</th>\n",
       "      <td>6675190</td>\n",
       "      <td>89576</td>\n",
       "      <td>52340</td>\n",
       "      <td>641</td>\n",
       "    </tr>\n",
       "    <tr>\n",
       "      <th>se2_week_8</th>\n",
       "      <td>6526890</td>\n",
       "      <td>93857</td>\n",
       "      <td>50578</td>\n",
       "      <td>597</td>\n",
       "    </tr>\n",
       "    <tr>\n",
       "      <th>se2_week_9</th>\n",
       "      <td>5302088</td>\n",
       "      <td>79819</td>\n",
       "      <td>35429</td>\n",
       "      <td>376</td>\n",
       "    </tr>\n",
       "    <tr>\n",
       "      <th>se2_week_10</th>\n",
       "      <td>6278335</td>\n",
       "      <td>94125</td>\n",
       "      <td>40557</td>\n",
       "      <td>443</td>\n",
       "    </tr>\n",
       "    <tr>\n",
       "      <th>se2_week_11</th>\n",
       "      <td>7079630</td>\n",
       "      <td>96201</td>\n",
       "      <td>45927</td>\n",
       "      <td>520</td>\n",
       "    </tr>\n",
       "    <tr>\n",
       "      <th>se2_week_12</th>\n",
       "      <td>5359068</td>\n",
       "      <td>81940</td>\n",
       "      <td>38661</td>\n",
       "      <td>497</td>\n",
       "    </tr>\n",
       "    <tr>\n",
       "      <th>se2_week_13</th>\n",
       "      <td>4103968</td>\n",
       "      <td>69671</td>\n",
       "      <td>37399</td>\n",
       "      <td>558</td>\n",
       "    </tr>\n",
       "  </tbody>\n",
       "</table>\n",
       "</div>"
      ],
      "text/plain": [
       "            Total_LMS At_risk_LMS Total_LIB At_risk_LIB\n",
       "se1_week_1    5008338       82429     25667         474\n",
       "se1_week_2    7315455      153269     46163         924\n",
       "se1_week_3    6901651      154446     44051         924\n",
       "se1_week_4    6978122      153795     47719         906\n",
       "se1_week_5    6786573      157468     47619        1012\n",
       "se1_week_6    6917831      164800     46427        1109\n",
       "se1_week_7    8197995      165056     48161         960\n",
       "se1_week_8    8332744      199054     64267        1372\n",
       "se1_week_9    7300965      186066     52902        1371\n",
       "se1_week_10   8484064      179234     59463        1272\n",
       "se1_week_11   9053825      218146     63591        1388\n",
       "se1_week_12   8553906      180647     56870        1214\n",
       "se1_week_13   8343150      231195     47498        1119\n",
       "se2_week_1    3111619       36637     17101         201\n",
       "se2_week_2    5688999       72731     39821         424\n",
       "se2_week_3    5838113       89963     45154         533\n",
       "se2_week_4    3713313       51421     25773         311\n",
       "se2_week_5    5434004       71924     41437         498\n",
       "se2_week_6    6782345       91269     53625         646\n",
       "se2_week_7    6675190       89576     52340         641\n",
       "se2_week_8    6526890       93857     50578         597\n",
       "se2_week_9    5302088       79819     35429         376\n",
       "se2_week_10   6278335       94125     40557         443\n",
       "se2_week_11   7079630       96201     45927         520\n",
       "se2_week_12   5359068       81940     38661         497\n",
       "se2_week_13   4103968       69671     37399         558"
      ]
     },
     "execution_count": 142,
     "metadata": {},
     "output_type": "execute_result"
    }
   ],
   "source": [
    "se1 = Data_statistical.head(13)\n",
    "se2 = Data_statistical.iloc[16:29]\n",
    "New_Data = pd.concat([se1, se2])\n",
    "New_Data"
   ]
  },
  {
   "cell_type": "code",
   "execution_count": 151,
   "metadata": {},
   "outputs": [],
   "source": [
    "New_Data.columns = columns"
   ]
  },
  {
   "cell_type": "code",
   "execution_count": 153,
   "metadata": {},
   "outputs": [
    {
     "data": {
      "text/html": [
       "<div>\n",
       "<style scoped>\n",
       "    .dataframe tbody tr th:only-of-type {\n",
       "        vertical-align: middle;\n",
       "    }\n",
       "\n",
       "    .dataframe tbody tr th {\n",
       "        vertical-align: top;\n",
       "    }\n",
       "\n",
       "    .dataframe thead th {\n",
       "        text-align: right;\n",
       "    }\n",
       "</style>\n",
       "<table border=\"1\" class=\"dataframe\">\n",
       "  <thead>\n",
       "    <tr style=\"text-align: right;\">\n",
       "      <th></th>\n",
       "      <th>Total_LMS</th>\n",
       "      <th>Normal_LMS</th>\n",
       "      <th>At_risk_LMS</th>\n",
       "      <th>Total_LIB</th>\n",
       "      <th>Normal_LIB</th>\n",
       "      <th>At_risk_LIB</th>\n",
       "    </tr>\n",
       "  </thead>\n",
       "  <tbody>\n",
       "    <tr>\n",
       "      <th>se1_week_1</th>\n",
       "      <td>5008338</td>\n",
       "      <td>4925909</td>\n",
       "      <td>82429</td>\n",
       "      <td>25667</td>\n",
       "      <td>25193</td>\n",
       "      <td>474</td>\n",
       "    </tr>\n",
       "    <tr>\n",
       "      <th>se1_week_2</th>\n",
       "      <td>7315455</td>\n",
       "      <td>7162186</td>\n",
       "      <td>153269</td>\n",
       "      <td>46163</td>\n",
       "      <td>45239</td>\n",
       "      <td>924</td>\n",
       "    </tr>\n",
       "    <tr>\n",
       "      <th>se1_week_3</th>\n",
       "      <td>6901651</td>\n",
       "      <td>6747205</td>\n",
       "      <td>154446</td>\n",
       "      <td>44051</td>\n",
       "      <td>43127</td>\n",
       "      <td>924</td>\n",
       "    </tr>\n",
       "    <tr>\n",
       "      <th>se1_week_4</th>\n",
       "      <td>6978122</td>\n",
       "      <td>6824327</td>\n",
       "      <td>153795</td>\n",
       "      <td>47719</td>\n",
       "      <td>46813</td>\n",
       "      <td>906</td>\n",
       "    </tr>\n",
       "    <tr>\n",
       "      <th>se1_week_5</th>\n",
       "      <td>6786573</td>\n",
       "      <td>6629105</td>\n",
       "      <td>157468</td>\n",
       "      <td>47619</td>\n",
       "      <td>46607</td>\n",
       "      <td>1012</td>\n",
       "    </tr>\n",
       "    <tr>\n",
       "      <th>se1_week_6</th>\n",
       "      <td>6917831</td>\n",
       "      <td>6753031</td>\n",
       "      <td>164800</td>\n",
       "      <td>46427</td>\n",
       "      <td>45318</td>\n",
       "      <td>1109</td>\n",
       "    </tr>\n",
       "    <tr>\n",
       "      <th>se1_week_7</th>\n",
       "      <td>8197995</td>\n",
       "      <td>8032939</td>\n",
       "      <td>165056</td>\n",
       "      <td>48161</td>\n",
       "      <td>47201</td>\n",
       "      <td>960</td>\n",
       "    </tr>\n",
       "    <tr>\n",
       "      <th>se1_week_8</th>\n",
       "      <td>8332744</td>\n",
       "      <td>8133690</td>\n",
       "      <td>199054</td>\n",
       "      <td>64267</td>\n",
       "      <td>62895</td>\n",
       "      <td>1372</td>\n",
       "    </tr>\n",
       "    <tr>\n",
       "      <th>se1_week_9</th>\n",
       "      <td>7300965</td>\n",
       "      <td>7114899</td>\n",
       "      <td>186066</td>\n",
       "      <td>52902</td>\n",
       "      <td>51531</td>\n",
       "      <td>1371</td>\n",
       "    </tr>\n",
       "    <tr>\n",
       "      <th>se1_week_10</th>\n",
       "      <td>8484064</td>\n",
       "      <td>8304830</td>\n",
       "      <td>179234</td>\n",
       "      <td>59463</td>\n",
       "      <td>58191</td>\n",
       "      <td>1272</td>\n",
       "    </tr>\n",
       "    <tr>\n",
       "      <th>se1_week_11</th>\n",
       "      <td>9053825</td>\n",
       "      <td>8835679</td>\n",
       "      <td>218146</td>\n",
       "      <td>63591</td>\n",
       "      <td>62203</td>\n",
       "      <td>1388</td>\n",
       "    </tr>\n",
       "    <tr>\n",
       "      <th>se1_week_12</th>\n",
       "      <td>8553906</td>\n",
       "      <td>8373259</td>\n",
       "      <td>180647</td>\n",
       "      <td>56870</td>\n",
       "      <td>55656</td>\n",
       "      <td>1214</td>\n",
       "    </tr>\n",
       "    <tr>\n",
       "      <th>se1_week_13</th>\n",
       "      <td>8343150</td>\n",
       "      <td>8111955</td>\n",
       "      <td>231195</td>\n",
       "      <td>47498</td>\n",
       "      <td>46379</td>\n",
       "      <td>1119</td>\n",
       "    </tr>\n",
       "    <tr>\n",
       "      <th>se2_week_1</th>\n",
       "      <td>3111619</td>\n",
       "      <td>3074982</td>\n",
       "      <td>36637</td>\n",
       "      <td>17101</td>\n",
       "      <td>16900</td>\n",
       "      <td>201</td>\n",
       "    </tr>\n",
       "    <tr>\n",
       "      <th>se2_week_2</th>\n",
       "      <td>5688999</td>\n",
       "      <td>5616268</td>\n",
       "      <td>72731</td>\n",
       "      <td>39821</td>\n",
       "      <td>39397</td>\n",
       "      <td>424</td>\n",
       "    </tr>\n",
       "    <tr>\n",
       "      <th>se2_week_3</th>\n",
       "      <td>5838113</td>\n",
       "      <td>5748150</td>\n",
       "      <td>89963</td>\n",
       "      <td>45154</td>\n",
       "      <td>44621</td>\n",
       "      <td>533</td>\n",
       "    </tr>\n",
       "    <tr>\n",
       "      <th>se2_week_4</th>\n",
       "      <td>3713313</td>\n",
       "      <td>3661892</td>\n",
       "      <td>51421</td>\n",
       "      <td>25773</td>\n",
       "      <td>25462</td>\n",
       "      <td>311</td>\n",
       "    </tr>\n",
       "    <tr>\n",
       "      <th>se2_week_5</th>\n",
       "      <td>5434004</td>\n",
       "      <td>5362080</td>\n",
       "      <td>71924</td>\n",
       "      <td>41437</td>\n",
       "      <td>40939</td>\n",
       "      <td>498</td>\n",
       "    </tr>\n",
       "    <tr>\n",
       "      <th>se2_week_6</th>\n",
       "      <td>6782345</td>\n",
       "      <td>6691076</td>\n",
       "      <td>91269</td>\n",
       "      <td>53625</td>\n",
       "      <td>52979</td>\n",
       "      <td>646</td>\n",
       "    </tr>\n",
       "    <tr>\n",
       "      <th>se2_week_7</th>\n",
       "      <td>6675190</td>\n",
       "      <td>6585614</td>\n",
       "      <td>89576</td>\n",
       "      <td>52340</td>\n",
       "      <td>51699</td>\n",
       "      <td>641</td>\n",
       "    </tr>\n",
       "    <tr>\n",
       "      <th>se2_week_8</th>\n",
       "      <td>6526890</td>\n",
       "      <td>6433033</td>\n",
       "      <td>93857</td>\n",
       "      <td>50578</td>\n",
       "      <td>49981</td>\n",
       "      <td>597</td>\n",
       "    </tr>\n",
       "    <tr>\n",
       "      <th>se2_week_9</th>\n",
       "      <td>5302088</td>\n",
       "      <td>5222269</td>\n",
       "      <td>79819</td>\n",
       "      <td>35429</td>\n",
       "      <td>35053</td>\n",
       "      <td>376</td>\n",
       "    </tr>\n",
       "    <tr>\n",
       "      <th>se2_week_10</th>\n",
       "      <td>6278335</td>\n",
       "      <td>6184210</td>\n",
       "      <td>94125</td>\n",
       "      <td>40557</td>\n",
       "      <td>40114</td>\n",
       "      <td>443</td>\n",
       "    </tr>\n",
       "    <tr>\n",
       "      <th>se2_week_11</th>\n",
       "      <td>7079630</td>\n",
       "      <td>6983429</td>\n",
       "      <td>96201</td>\n",
       "      <td>45927</td>\n",
       "      <td>45407</td>\n",
       "      <td>520</td>\n",
       "    </tr>\n",
       "    <tr>\n",
       "      <th>se2_week_12</th>\n",
       "      <td>5359068</td>\n",
       "      <td>5277128</td>\n",
       "      <td>81940</td>\n",
       "      <td>38661</td>\n",
       "      <td>38164</td>\n",
       "      <td>497</td>\n",
       "    </tr>\n",
       "    <tr>\n",
       "      <th>se2_week_13</th>\n",
       "      <td>4103968</td>\n",
       "      <td>4034297</td>\n",
       "      <td>69671</td>\n",
       "      <td>37399</td>\n",
       "      <td>36841</td>\n",
       "      <td>558</td>\n",
       "    </tr>\n",
       "  </tbody>\n",
       "</table>\n",
       "</div>"
      ],
      "text/plain": [
       "             Total_LMS  Normal_LMS  At_risk_LMS  Total_LIB  Normal_LIB  \\\n",
       "se1_week_1     5008338     4925909        82429      25667       25193   \n",
       "se1_week_2     7315455     7162186       153269      46163       45239   \n",
       "se1_week_3     6901651     6747205       154446      44051       43127   \n",
       "se1_week_4     6978122     6824327       153795      47719       46813   \n",
       "se1_week_5     6786573     6629105       157468      47619       46607   \n",
       "se1_week_6     6917831     6753031       164800      46427       45318   \n",
       "se1_week_7     8197995     8032939       165056      48161       47201   \n",
       "se1_week_8     8332744     8133690       199054      64267       62895   \n",
       "se1_week_9     7300965     7114899       186066      52902       51531   \n",
       "se1_week_10    8484064     8304830       179234      59463       58191   \n",
       "se1_week_11    9053825     8835679       218146      63591       62203   \n",
       "se1_week_12    8553906     8373259       180647      56870       55656   \n",
       "se1_week_13    8343150     8111955       231195      47498       46379   \n",
       "se2_week_1     3111619     3074982        36637      17101       16900   \n",
       "se2_week_2     5688999     5616268        72731      39821       39397   \n",
       "se2_week_3     5838113     5748150        89963      45154       44621   \n",
       "se2_week_4     3713313     3661892        51421      25773       25462   \n",
       "se2_week_5     5434004     5362080        71924      41437       40939   \n",
       "se2_week_6     6782345     6691076        91269      53625       52979   \n",
       "se2_week_7     6675190     6585614        89576      52340       51699   \n",
       "se2_week_8     6526890     6433033        93857      50578       49981   \n",
       "se2_week_9     5302088     5222269        79819      35429       35053   \n",
       "se2_week_10    6278335     6184210        94125      40557       40114   \n",
       "se2_week_11    7079630     6983429        96201      45927       45407   \n",
       "se2_week_12    5359068     5277128        81940      38661       38164   \n",
       "se2_week_13    4103968     4034297        69671      37399       36841   \n",
       "\n",
       "             At_risk_LIB  \n",
       "se1_week_1           474  \n",
       "se1_week_2           924  \n",
       "se1_week_3           924  \n",
       "se1_week_4           906  \n",
       "se1_week_5          1012  \n",
       "se1_week_6          1109  \n",
       "se1_week_7           960  \n",
       "se1_week_8          1372  \n",
       "se1_week_9          1371  \n",
       "se1_week_10         1272  \n",
       "se1_week_11         1388  \n",
       "se1_week_12         1214  \n",
       "se1_week_13         1119  \n",
       "se2_week_1           201  \n",
       "se2_week_2           424  \n",
       "se2_week_3           533  \n",
       "se2_week_4           311  \n",
       "se2_week_5           498  \n",
       "se2_week_6           646  \n",
       "se2_week_7           641  \n",
       "se2_week_8           597  \n",
       "se2_week_9           376  \n",
       "se2_week_10          443  \n",
       "se2_week_11          520  \n",
       "se2_week_12          497  \n",
       "se2_week_13          558  "
      ]
     },
     "execution_count": 153,
     "metadata": {},
     "output_type": "execute_result"
    }
   ],
   "source": [
    "New_Data['Normal_LMS'] = New_Data['Total_LMS'] - New_Data['At_risk_LMS']\n",
    "New_Data['Normal_LIB'] = New_Data['Total_LIB'] - New_Data['At_risk_LIB']\n",
    "New_Data = New_Data[['Total_LMS', 'Normal_LMS', 'At_risk_LMS', 'Total_LIB', 'Normal_LIB', 'At_risk_LIB']]\n",
    "New_Data"
   ]
  },
  {
   "cell_type": "code",
   "execution_count": 154,
   "metadata": {},
   "outputs": [
    {
     "data": {
      "text/plain": [
       "Total_LMS      170068181\n",
       "Normal_LMS     166823442\n",
       "At_risk_LMS      3244739\n",
       "Total_LIB        1174200\n",
       "Normal_LIB       1153910\n",
       "At_risk_LIB        20290\n",
       "dtype: int64"
      ]
     },
     "execution_count": 154,
     "metadata": {},
     "output_type": "execute_result"
    }
   ],
   "source": [
    "New_Data.sum()"
   ]
  },
  {
   "cell_type": "code",
   "execution_count": 155,
   "metadata": {},
   "outputs": [
    {
     "name": "stdout",
     "output_type": "stream",
     "text": [
      "Total_LMS      98174619\n",
      "Normal_LMS     95949014\n",
      "At_risk_LMS     2225605\n",
      "Total_LIB        650398\n",
      "Normal_LIB       636353\n",
      "At_risk_LIB       14045\n",
      "dtype: int64\n",
      "\n",
      "Total_LMS      71893562\n",
      "Normal_LMS     70874428\n",
      "At_risk_LMS     1019134\n",
      "Total_LIB        523802\n",
      "Normal_LIB       517557\n",
      "At_risk_LIB        6245\n",
      "dtype: int64\n"
     ]
    }
   ],
   "source": [
    "se1 = New_Data.head(13)\n",
    "se2 = New_Data.tail(13)\n",
    "print(se1.sum())\n",
    "print('')\n",
    "print(se2.sum())"
   ]
  },
  {
   "cell_type": "code",
   "execution_count": 109,
   "metadata": {},
   "outputs": [
    {
     "data": {
      "text/plain": [
       "Total_LMS      77028909\n",
       "At_risk_LMS     1097375\n",
       "Total_LIB        572736\n",
       "At_risk_LIB       11692\n",
       "dtype: int64"
      ]
     },
     "execution_count": 109,
     "metadata": {},
     "output_type": "execute_result"
    }
   ],
   "source": [
    "Data_statistical.tail(16).sum()"
   ]
  },
  {
   "cell_type": "code",
   "execution_count": 112,
   "metadata": {},
   "outputs": [
    {
     "data": {
      "text/plain": [
       "49.283685970880306"
      ]
     },
     "execution_count": 112,
     "metadata": {},
     "output_type": "execute_result"
    }
   ],
   "source": [
    "186426976/122/(391+225)"
   ]
  },
  {
   "cell_type": "code",
   "execution_count": 111,
   "metadata": {},
   "outputs": [
    {
     "data": {
      "text/plain": [
       "47.01708649920727"
      ]
     },
     "execution_count": 111,
     "metadata": {},
     "output_type": "execute_result"
    }
   ],
   "source": [
    "(2546841/122/391 + 1097375/120/225)/2"
   ]
  },
  {
   "cell_type": "code",
   "execution_count": 41,
   "metadata": {},
   "outputs": [
    {
     "data": {
      "text/plain": [
       "Total_LMS      170068181\n",
       "At_risk_LMS      3244739\n",
       "Total_LIB        1174200\n",
       "At_risk_LIB        24721\n",
       "dtype: int64"
      ]
     },
     "execution_count": 41,
     "metadata": {},
     "output_type": "execute_result"
    }
   ],
   "source": [
    "New_Data.sum()"
   ]
  },
  {
   "cell_type": "code",
   "execution_count": 163,
   "metadata": {},
   "outputs": [
    {
     "name": "stdout",
     "output_type": "stream",
     "text": [
      "0.037036670927680336\n",
      "0.0513388183436674\n",
      "\n",
      "0.033748665005339976\n",
      "0.0395896617129172\n",
      "\n",
      "0.03594914898335253\n",
      "0.04338633956947067\n",
      "\n",
      "0.032185748598879106\n",
      "0.03265340822363527\n",
      "\n"
     ]
    }
   ],
   "source": [
    "t=1\n",
    "print(se1['At_risk_LMS'].head(t).sum()/se1['At_risk_LMS'].sum())\n",
    "print(se1['Normal_LMS'].head(t).sum()/se1['Normal_LMS'].sum())\n",
    "print()\n",
    "print(se1['At_risk_LIB'].head(t).sum()/se1['At_risk_LIB'].sum())\n",
    "print(se1['Normal_LIB'].head(t).sum()/se1['Normal_LIB'].sum())\n",
    "print()\n",
    "print(se2['At_risk_LMS'].head(t).sum()/se2['At_risk_LMS'].sum())\n",
    "print(se2['Normal_LMS'].head(t).sum()/se2['Normal_LMS'].sum())\n",
    "print()\n",
    "print(se2['At_risk_LIB'].head(t).sum()/se2['At_risk_LIB'].sum())\n",
    "print(se2['Normal_LIB'].head(t).sum()/se2['Normal_LIB'].sum())\n",
    "print()"
   ]
  },
  {
   "cell_type": "code",
   "execution_count": 71,
   "metadata": {},
   "outputs": [
    {
     "data": {
      "text/plain": [
       "Total_LMS      98174619\n",
       "At_risk_LMS     2225605\n",
       "Total_LIB        650398\n",
       "At_risk_LIB       14045\n",
       "dtype: int64"
      ]
     },
     "execution_count": 71,
     "metadata": {},
     "output_type": "execute_result"
    }
   ],
   "source": [
    "se1.sum()"
   ]
  },
  {
   "cell_type": "code",
   "execution_count": 97,
   "metadata": {},
   "outputs": [
    {
     "data": {
      "text/plain": [
       "Total_LMS      8800618\n",
       "At_risk_LMS     109368\n",
       "Total_LIB        56922\n",
       "At_risk_LIB       1147\n",
       "dtype: int64"
      ]
     },
     "execution_count": 97,
     "metadata": {},
     "output_type": "execute_result"
    }
   ],
   "source": [
    "se2.head(2).sum()"
   ]
  },
  {
   "cell_type": "code",
   "execution_count": 77,
   "metadata": {},
   "outputs": [
    {
     "data": {
      "text/plain": [
       "Total_LMS      71893562\n",
       "At_risk_LMS     1019134\n",
       "Total_LIB        523802\n",
       "At_risk_LIB       10676\n",
       "dtype: int64"
      ]
     },
     "execution_count": 77,
     "metadata": {},
     "output_type": "execute_result"
    }
   ],
   "source": [
    "se2.sum()"
   ]
  },
  {
   "cell_type": "code",
   "execution_count": 98,
   "metadata": {},
   "outputs": [
    {
     "data": {
      "text/plain": [
       "0.1239705429388738"
      ]
     },
     "execution_count": 98,
     "metadata": {},
     "output_type": "execute_result"
    }
   ],
   "source": [
    "# total LMS\n",
    "\n",
    "((12323793/98174619)+(8800618/71893562))/2"
   ]
  },
  {
   "cell_type": "code",
   "execution_count": 99,
   "metadata": {},
   "outputs": [
    {
     "data": {
      "text/plain": [
       "0.10660876548672692"
      ]
     },
     "execution_count": 99,
     "metadata": {},
     "output_type": "execute_result"
    }
   ],
   "source": [
    "# at-risk LMS\n",
    "\n",
    "((235698/2225605)+(109368/1019134))/2"
   ]
  },
  {
   "cell_type": "code",
   "execution_count": 100,
   "metadata": {},
   "outputs": [
    {
     "data": {
      "text/plain": [
       "0.10955545131975632"
      ]
     },
     "execution_count": 100,
     "metadata": {},
     "output_type": "execute_result"
    }
   ],
   "source": [
    "# total LIB\n",
    "\n",
    "((71830/650398)+(56922/523802))/2"
   ]
  },
  {
   "cell_type": "code",
   "execution_count": 101,
   "metadata": {},
   "outputs": [
    {
     "data": {
      "text/plain": [
       "0.10348722213204066"
      ]
     },
     "execution_count": 101,
     "metadata": {},
     "output_type": "execute_result"
    }
   ],
   "source": [
    "# at-risk LIB\n",
    "\n",
    "((1398/14045)+(1147/10676))/2"
   ]
  },
  {
   "cell_type": "code",
   "execution_count": 50,
   "metadata": {},
   "outputs": [
    {
     "data": {
      "text/plain": [
       "Total_LMS      18352044\n",
       "At_risk_LMS      250752\n",
       "Total_LIB        127849\n",
       "At_risk_LIB        2564\n",
       "dtype: int64"
      ]
     },
     "execution_count": 50,
     "metadata": {},
     "output_type": "execute_result"
    }
   ],
   "source": [
    "se2.head(4).sum()"
   ]
  },
  {
   "cell_type": "code",
   "execution_count": 51,
   "metadata": {},
   "outputs": [
    {
     "data": {
      "text/plain": [
       "55.40412868933156"
      ]
     },
     "execution_count": 51,
     "metadata": {},
     "output_type": "execute_result"
    }
   ],
   "source": [
    "170068181/15503/(99)/2"
   ]
  },
  {
   "cell_type": "code",
   "execution_count": 52,
   "metadata": {},
   "outputs": [
    {
     "data": {
      "text/plain": [
       "0.38252615818248276"
      ]
     },
     "execution_count": 52,
     "metadata": {},
     "output_type": "execute_result"
    }
   ],
   "source": [
    "1174200/15503/(99)/2"
   ]
  },
  {
   "cell_type": "code",
   "execution_count": 56,
   "metadata": {},
   "outputs": [
    {
     "data": {
      "text/plain": [
       "51.62408506778498"
      ]
     },
     "execution_count": 56,
     "metadata": {},
     "output_type": "execute_result"
    }
   ],
   "source": [
    "(2225605/391/(99) + 1019134/225/(99))/2"
   ]
  },
  {
   "cell_type": "code",
   "execution_count": 54,
   "metadata": {},
   "outputs": [
    {
     "data": {
      "text/plain": [
       "0.42105861111828713"
      ]
     },
     "execution_count": 54,
     "metadata": {},
     "output_type": "execute_result"
    }
   ],
   "source": [
    "(14045/391/(99) + 10676/225/(99))/2"
   ]
  },
  {
   "cell_type": "code",
   "execution_count": 67,
   "metadata": {},
   "outputs": [
    {
     "data": {
      "text/plain": [
       "0.3450445339505944"
      ]
     },
     "execution_count": 67,
     "metadata": {},
     "output_type": "execute_result"
    }
   ],
   "source": [
    "(1305211)/15503/(122)/2"
   ]
  },
  {
   "cell_type": "code",
   "execution_count": 58,
   "metadata": {},
   "outputs": [
    {
     "data": {
      "text/plain": [
       "0.8267817051018221"
      ]
     },
     "execution_count": 58,
     "metadata": {},
     "output_type": "execute_result"
    }
   ],
   "source": [
    "(543939+250752)/15503/(31)/2"
   ]
  },
  {
   "cell_type": "code",
   "execution_count": null,
   "metadata": {},
   "outputs": [],
   "source": [
    "3111619\t36637\t17101\t379\n",
    "5688999\t72731\t39821\t768\n",
    "5838113\t89963\t45154\t861\n",
    "3713313\t51421\t25773\t556"
   ]
  },
  {
   "cell_type": "code",
   "execution_count": 68,
   "metadata": {},
   "outputs": [
    {
     "data": {
      "text/plain": [
       "0.3450445339505944"
      ]
     },
     "execution_count": 68,
     "metadata": {},
     "output_type": "execute_result"
    }
   ],
   "source": [
    "1305211/15503/122/2"
   ]
  },
  {
   "cell_type": "code",
   "execution_count": 69,
   "metadata": {},
   "outputs": [
    {
     "data": {
      "text/plain": [
       "0.2935411513144103"
      ]
     },
     "execution_count": 69,
     "metadata": {},
     "output_type": "execute_result"
    }
   ],
   "source": [
    "28005/(391)/122/2"
   ]
  },
  {
   "cell_type": "code",
   "execution_count": 14,
   "metadata": {},
   "outputs": [
    {
     "data": {
      "text/plain": [
       "18352044"
      ]
     },
     "execution_count": 14,
     "metadata": {},
     "output_type": "execute_result"
    }
   ],
   "source": [
    "3111619+5688999+5838113+3713313"
   ]
  },
  {
   "cell_type": "code",
   "execution_count": 20,
   "metadata": {},
   "outputs": [
    {
     "data": {
      "text/plain": [
       "46.35482622510107"
      ]
     },
     "execution_count": 20,
     "metadata": {},
     "output_type": "execute_result"
    }
   ],
   "source": [
    "(18352044+26203566)/15503/31/2"
   ]
  },
  {
   "cell_type": "code",
   "execution_count": 22,
   "metadata": {},
   "outputs": [
    {
     "data": {
      "text/plain": [
       "40.41293017627808"
      ]
     },
     "execution_count": 22,
     "metadata": {},
     "output_type": "execute_result"
    }
   ],
   "source": [
    "(543939/(391)/31 + 250752/225/31)/2"
   ]
  },
  {
   "cell_type": "code",
   "execution_count": 21,
   "metadata": {},
   "outputs": [
    {
     "data": {
      "text/plain": [
       "0.3032181076295327"
      ]
     },
     "execution_count": 21,
     "metadata": {},
     "output_type": "execute_result"
    }
   ],
   "source": [
    "(163600+(17101+39821+45154+25773))/15503/31/2"
   ]
  },
  {
   "cell_type": "code",
   "execution_count": 26,
   "metadata": {},
   "outputs": [
    {
     "data": {
      "text/plain": [
       "0.2663146605065589"
      ]
     },
     "execution_count": 26,
     "metadata": {},
     "output_type": "execute_result"
    }
   ],
   "source": [
    "3228/391/31"
   ]
  },
  {
   "cell_type": "code",
   "execution_count": 27,
   "metadata": {},
   "outputs": [
    {
     "data": {
      "text/plain": [
       "0.34041278170926337"
      ]
     },
     "execution_count": 27,
     "metadata": {},
     "output_type": "execute_result"
    }
   ],
   "source": [
    "163600/15503/31"
   ]
  },
  {
   "cell_type": "code",
   "execution_count": 28,
   "metadata": {},
   "outputs": [
    {
     "data": {
      "text/plain": [
       "54.523403378742515"
      ]
     },
     "execution_count": 28,
     "metadata": {},
     "output_type": "execute_result"
    }
   ],
   "source": [
    "26203566/15503/31"
   ]
  },
  {
   "cell_type": "code",
   "execution_count": 29,
   "metadata": {},
   "outputs": [
    {
     "data": {
      "text/plain": [
       "20.687402029535516"
      ]
     },
     "execution_count": 29,
     "metadata": {},
     "output_type": "execute_result"
    }
   ],
   "source": [
    "(36637+72731+89963+51421)/391/31"
   ]
  },
  {
   "cell_type": "code",
   "execution_count": 191,
   "metadata": {},
   "outputs": [],
   "source": [
    "Data_statistical.to_csv('Data_statistical.csv')"
   ]
  },
  {
   "cell_type": "code",
   "execution_count": 2,
   "metadata": {},
   "outputs": [
    {
     "data": {
      "text/html": [
       "<div>\n",
       "<style scoped>\n",
       "    .dataframe tbody tr th:only-of-type {\n",
       "        vertical-align: middle;\n",
       "    }\n",
       "\n",
       "    .dataframe tbody tr th {\n",
       "        vertical-align: top;\n",
       "    }\n",
       "\n",
       "    .dataframe thead th {\n",
       "        text-align: right;\n",
       "    }\n",
       "</style>\n",
       "<table border=\"1\" class=\"dataframe\">\n",
       "  <thead>\n",
       "    <tr style=\"text-align: right;\">\n",
       "      <th></th>\n",
       "      <th>Total_LMS</th>\n",
       "      <th>At_risk_LMS</th>\n",
       "      <th>Total_LIB</th>\n",
       "      <th>At_risk_LIB</th>\n",
       "    </tr>\n",
       "  </thead>\n",
       "  <tbody>\n",
       "    <tr>\n",
       "      <th>se1_week_1</th>\n",
       "      <td>5008338</td>\n",
       "      <td>82429</td>\n",
       "      <td>25667</td>\n",
       "      <td>474</td>\n",
       "    </tr>\n",
       "    <tr>\n",
       "      <th>se1_week_2</th>\n",
       "      <td>7315455</td>\n",
       "      <td>153269</td>\n",
       "      <td>46163</td>\n",
       "      <td>924</td>\n",
       "    </tr>\n",
       "    <tr>\n",
       "      <th>se1_week_3</th>\n",
       "      <td>6901651</td>\n",
       "      <td>154446</td>\n",
       "      <td>44051</td>\n",
       "      <td>924</td>\n",
       "    </tr>\n",
       "    <tr>\n",
       "      <th>se1_week_4</th>\n",
       "      <td>6978122</td>\n",
       "      <td>153795</td>\n",
       "      <td>47719</td>\n",
       "      <td>906</td>\n",
       "    </tr>\n",
       "    <tr>\n",
       "      <th>se1_week_5</th>\n",
       "      <td>6786573</td>\n",
       "      <td>157468</td>\n",
       "      <td>47619</td>\n",
       "      <td>1012</td>\n",
       "    </tr>\n",
       "    <tr>\n",
       "      <th>se1_week_6</th>\n",
       "      <td>6917831</td>\n",
       "      <td>164800</td>\n",
       "      <td>46427</td>\n",
       "      <td>1109</td>\n",
       "    </tr>\n",
       "    <tr>\n",
       "      <th>se1_week_7</th>\n",
       "      <td>8197995</td>\n",
       "      <td>165056</td>\n",
       "      <td>48161</td>\n",
       "      <td>960</td>\n",
       "    </tr>\n",
       "    <tr>\n",
       "      <th>se1_week_8</th>\n",
       "      <td>8332744</td>\n",
       "      <td>199054</td>\n",
       "      <td>64267</td>\n",
       "      <td>1372</td>\n",
       "    </tr>\n",
       "    <tr>\n",
       "      <th>se1_week_9</th>\n",
       "      <td>7300965</td>\n",
       "      <td>186066</td>\n",
       "      <td>52902</td>\n",
       "      <td>1371</td>\n",
       "    </tr>\n",
       "    <tr>\n",
       "      <th>se1_week_10</th>\n",
       "      <td>8484064</td>\n",
       "      <td>179234</td>\n",
       "      <td>59463</td>\n",
       "      <td>1272</td>\n",
       "    </tr>\n",
       "    <tr>\n",
       "      <th>se1_week_11</th>\n",
       "      <td>9053825</td>\n",
       "      <td>218146</td>\n",
       "      <td>63591</td>\n",
       "      <td>1388</td>\n",
       "    </tr>\n",
       "    <tr>\n",
       "      <th>se1_week_12</th>\n",
       "      <td>8553906</td>\n",
       "      <td>180647</td>\n",
       "      <td>56870</td>\n",
       "      <td>1214</td>\n",
       "    </tr>\n",
       "    <tr>\n",
       "      <th>se1_week_13</th>\n",
       "      <td>8343150</td>\n",
       "      <td>231195</td>\n",
       "      <td>47498</td>\n",
       "      <td>1119</td>\n",
       "    </tr>\n",
       "    <tr>\n",
       "      <th>se1_week_14</th>\n",
       "      <td>7165913</td>\n",
       "      <td>219257</td>\n",
       "      <td>47775</td>\n",
       "      <td>1330</td>\n",
       "    </tr>\n",
       "    <tr>\n",
       "      <th>se1_week_15</th>\n",
       "      <td>3577330</td>\n",
       "      <td>95091</td>\n",
       "      <td>30214</td>\n",
       "      <td>829</td>\n",
       "    </tr>\n",
       "    <tr>\n",
       "      <th>se1_week_16</th>\n",
       "      <td>480205</td>\n",
       "      <td>6888</td>\n",
       "      <td>4088</td>\n",
       "      <td>109</td>\n",
       "    </tr>\n",
       "    <tr>\n",
       "      <th>se2_week_1</th>\n",
       "      <td>3111619</td>\n",
       "      <td>36637</td>\n",
       "      <td>17101</td>\n",
       "      <td>379</td>\n",
       "    </tr>\n",
       "    <tr>\n",
       "      <th>se2_week_2</th>\n",
       "      <td>5688999</td>\n",
       "      <td>72731</td>\n",
       "      <td>39821</td>\n",
       "      <td>768</td>\n",
       "    </tr>\n",
       "    <tr>\n",
       "      <th>se2_week_3</th>\n",
       "      <td>5838113</td>\n",
       "      <td>89963</td>\n",
       "      <td>45154</td>\n",
       "      <td>861</td>\n",
       "    </tr>\n",
       "    <tr>\n",
       "      <th>se2_week_4</th>\n",
       "      <td>3713313</td>\n",
       "      <td>51421</td>\n",
       "      <td>25773</td>\n",
       "      <td>556</td>\n",
       "    </tr>\n",
       "    <tr>\n",
       "      <th>se2_week_5</th>\n",
       "      <td>5434004</td>\n",
       "      <td>71924</td>\n",
       "      <td>41437</td>\n",
       "      <td>784</td>\n",
       "    </tr>\n",
       "    <tr>\n",
       "      <th>se2_week_6</th>\n",
       "      <td>6782345</td>\n",
       "      <td>91269</td>\n",
       "      <td>53625</td>\n",
       "      <td>985</td>\n",
       "    </tr>\n",
       "    <tr>\n",
       "      <th>se2_week_7</th>\n",
       "      <td>6675190</td>\n",
       "      <td>89576</td>\n",
       "      <td>52340</td>\n",
       "      <td>1107</td>\n",
       "    </tr>\n",
       "    <tr>\n",
       "      <th>se2_week_8</th>\n",
       "      <td>6526890</td>\n",
       "      <td>93857</td>\n",
       "      <td>50578</td>\n",
       "      <td>1088</td>\n",
       "    </tr>\n",
       "    <tr>\n",
       "      <th>se2_week_9</th>\n",
       "      <td>5302088</td>\n",
       "      <td>79819</td>\n",
       "      <td>35429</td>\n",
       "      <td>659</td>\n",
       "    </tr>\n",
       "    <tr>\n",
       "      <th>se2_week_10</th>\n",
       "      <td>6278335</td>\n",
       "      <td>94125</td>\n",
       "      <td>40557</td>\n",
       "      <td>817</td>\n",
       "    </tr>\n",
       "    <tr>\n",
       "      <th>se2_week_11</th>\n",
       "      <td>7079630</td>\n",
       "      <td>96201</td>\n",
       "      <td>45927</td>\n",
       "      <td>933</td>\n",
       "    </tr>\n",
       "    <tr>\n",
       "      <th>se2_week_12</th>\n",
       "      <td>5359068</td>\n",
       "      <td>81940</td>\n",
       "      <td>38661</td>\n",
       "      <td>869</td>\n",
       "    </tr>\n",
       "    <tr>\n",
       "      <th>se2_week_13</th>\n",
       "      <td>4103968</td>\n",
       "      <td>69671</td>\n",
       "      <td>37399</td>\n",
       "      <td>870</td>\n",
       "    </tr>\n",
       "    <tr>\n",
       "      <th>se2_week_14</th>\n",
       "      <td>3491522</td>\n",
       "      <td>61906</td>\n",
       "      <td>32897</td>\n",
       "      <td>811</td>\n",
       "    </tr>\n",
       "    <tr>\n",
       "      <th>se2_week_15</th>\n",
       "      <td>783608</td>\n",
       "      <td>7182</td>\n",
       "      <td>9184</td>\n",
       "      <td>98</td>\n",
       "    </tr>\n",
       "    <tr>\n",
       "      <th>se2_week_16</th>\n",
       "      <td>860217</td>\n",
       "      <td>9153</td>\n",
       "      <td>6853</td>\n",
       "      <td>107</td>\n",
       "    </tr>\n",
       "  </tbody>\n",
       "</table>\n",
       "</div>"
      ],
      "text/plain": [
       "             Total_LMS  At_risk_LMS  Total_LIB  At_risk_LIB\n",
       "se1_week_1     5008338        82429      25667          474\n",
       "se1_week_2     7315455       153269      46163          924\n",
       "se1_week_3     6901651       154446      44051          924\n",
       "se1_week_4     6978122       153795      47719          906\n",
       "se1_week_5     6786573       157468      47619         1012\n",
       "se1_week_6     6917831       164800      46427         1109\n",
       "se1_week_7     8197995       165056      48161          960\n",
       "se1_week_8     8332744       199054      64267         1372\n",
       "se1_week_9     7300965       186066      52902         1371\n",
       "se1_week_10    8484064       179234      59463         1272\n",
       "se1_week_11    9053825       218146      63591         1388\n",
       "se1_week_12    8553906       180647      56870         1214\n",
       "se1_week_13    8343150       231195      47498         1119\n",
       "se1_week_14    7165913       219257      47775         1330\n",
       "se1_week_15    3577330        95091      30214          829\n",
       "se1_week_16     480205         6888       4088          109\n",
       "se2_week_1     3111619        36637      17101          379\n",
       "se2_week_2     5688999        72731      39821          768\n",
       "se2_week_3     5838113        89963      45154          861\n",
       "se2_week_4     3713313        51421      25773          556\n",
       "se2_week_5     5434004        71924      41437          784\n",
       "se2_week_6     6782345        91269      53625          985\n",
       "se2_week_7     6675190        89576      52340         1107\n",
       "se2_week_8     6526890        93857      50578         1088\n",
       "se2_week_9     5302088        79819      35429          659\n",
       "se2_week_10    6278335        94125      40557          817\n",
       "se2_week_11    7079630        96201      45927          933\n",
       "se2_week_12    5359068        81940      38661          869\n",
       "se2_week_13    4103968        69671      37399          870\n",
       "se2_week_14    3491522        61906      32897          811\n",
       "se2_week_15     783608         7182       9184           98\n",
       "se2_week_16     860217         9153       6853          107"
      ]
     },
     "execution_count": 2,
     "metadata": {},
     "output_type": "execute_result"
    }
   ],
   "source": [
    "Data_statistical = pd.read_csv('Data_statistical.csv', index_col=0)\n",
    "Data_statistical"
   ]
  },
  {
   "cell_type": "code",
   "execution_count": 4,
   "metadata": {},
   "outputs": [
    {
     "data": {
      "text/plain": [
       "Total_LMS      186426976\n",
       "At_risk_LMS      3644216\n",
       "Total_LIB        1305211\n",
       "At_risk_LIB        28005\n",
       "dtype: int64"
      ]
     },
     "execution_count": 4,
     "metadata": {},
     "output_type": "execute_result"
    }
   ],
   "source": [
    "Data_statistical.sum()"
   ]
  },
  {
   "cell_type": "code",
   "execution_count": 8,
   "metadata": {},
   "outputs": [
    {
     "data": {
      "text/plain": [
       "0.18632238662976366"
      ]
     },
     "execution_count": 8,
     "metadata": {},
     "output_type": "execute_result"
    }
   ],
   "source": [
    " 186426976/122/(391+225)/2"
   ]
  },
  {
   "cell_type": "code",
   "execution_count": 4,
   "metadata": {},
   "outputs": [],
   "source": [
    "import pandas as pd\n",
    "import numpy as np\n",
    "import matplotlib.pyplot as plt  \n",
    "import seaborn as sns  \n",
    "sns.set_style(\"whitegrid\")  \n",
    "%matplotlib inline"
   ]
  },
  {
   "cell_type": "code",
   "execution_count": 6,
   "metadata": {},
   "outputs": [
    {
     "data": {
      "text/plain": [
       "<matplotlib.axes._subplots.AxesSubplot at 0x7fac2b571e10>"
      ]
     },
     "execution_count": 6,
     "metadata": {},
     "output_type": "execute_result"
    },
    {
     "data": {
      "image/png": "[encoded data removed]",
      "text/plain": [
       "<Figure size 432x288 with 1 Axes>"
      ]
     },
     "metadata": {
      "needs_background": "light"
     },
     "output_type": "display_data"
    }
   ],
   "source": [
    "fig1, ax_lst = plt.subplots(1,1)\n",
    "Data_statistical['At_risk_LIB'].plot(style='-o',color='r')"
   ]
  },
  {
   "cell_type": "code",
   "execution_count": 7,
   "metadata": {},
   "outputs": [
    {
     "data": {
      "text/plain": [
       "<matplotlib.axes._subplots.AxesSubplot at 0x7fac2a974110>"
      ]
     },
     "execution_count": 7,
     "metadata": {},
     "output_type": "execute_result"
    },
    {
     "data": {
      "image/png": "[encoded data removed]",
      "text/plain": [
       "<Figure size 432x288 with 1 Axes>"
      ]
     },
     "metadata": {
      "needs_background": "light"
     },
     "output_type": "display_data"
    }
   ],
   "source": [
    "fig2, ax_lst = plt.subplots(1,1)\n",
    "Data_statistical['Total_LIB'].plot(style='-o',color='g')"
   ]
  },
  {
   "cell_type": "code",
   "execution_count": 8,
   "metadata": {},
   "outputs": [
    {
     "data": {
      "text/plain": [
       "<matplotlib.axes._subplots.AxesSubplot at 0x7fac2a7b2610>"
      ]
     },
     "execution_count": 8,
     "metadata": {},
     "output_type": "execute_result"
    },
    {
     "data": {
      "image/png": "[encoded data removed]",
      "text/plain": [
       "<Figure size 432x288 with 1 Axes>"
      ]
     },
     "metadata": {
      "needs_background": "light"
     },
     "output_type": "display_data"
    }
   ],
   "source": [
    "fig3, ax_lst = plt.subplots(1,1)\n",
    "Data_statistical['At_risk_LMS'].plot(style='-o',color='y')"
   ]
  },
  {
   "cell_type": "code",
   "execution_count": 9,
   "metadata": {},
   "outputs": [
    {
     "data": {
      "text/plain": [
       "<matplotlib.axes._subplots.AxesSubplot at 0x7fac2a7d0e10>"
      ]
     },
     "execution_count": 9,
     "metadata": {},
     "output_type": "execute_result"
    },
    {
     "data": {
      "image/png": "[encoded data removed]",
      "text/plain": [
       "<Figure size 432x288 with 1 Axes>"
      ]
     },
     "metadata": {
      "needs_background": "light"
     },
     "output_type": "display_data"
    }
   ],
   "source": [
    "fig4, ax_lst = plt.subplots(1,1)\n",
    "Data_statistical['Total_LMS'].plot(style='-o',color='b')"
   ]
  },
  {
   "cell_type": "code",
   "execution_count": 17,
   "metadata": {},
   "outputs": [
    {
     "name": "stdout",
     "output_type": "stream",
     "text": [
      "0.45667098966236475 0.3875392571358001 0.42210512339908246\n",
      "0.4218082656608021 0.40387867328868354 0.4128434694747428\n",
      "0.43801034987030435 0.3909852987776188 0.41449782432396154\n",
      "0.4103414634146341 0.3989203276247208 0.40463089551967746\n"
     ]
    }
   ],
   "source": [
    "## 前14周作为一学期的数据\n",
    "\n",
    "temp_list = Data_statistical['Total_LMS']\n",
    "a = float(temp_list[:7].sum())/temp_list[:14].sum()\n",
    "b = float(temp_list[14:21].sum())/temp_list[14:28].sum()\n",
    "print(a, b, (a+b)/2.0)\n",
    "temp_list = Data_statistical['At_risk_LMS']\n",
    "a = float(temp_list[:7].sum())/temp_list[:14].sum()\n",
    "b = float(temp_list[14:21].sum())/temp_list[14:28].sum()\n",
    "print(a, b, (a+b)/2.0)\n",
    "temp_list = Data_statistical['Total_LIB']\n",
    "a = float(temp_list[:7].sum())/temp_list[:14].sum()\n",
    "b = float(temp_list[14:21].sum())/temp_list[14:28].sum()\n",
    "print(a, b, (a+b)/2.0)\n",
    "temp_list = Data_statistical['At_risk_LIB']\n",
    "a = float(temp_list[:7].sum())/temp_list[:14].sum()\n",
    "b = float(temp_list[14:21].sum())/temp_list[14:28].sum()\n",
    "print(a, b, (a+b)/2.0)"
   ]
  },
  {
   "cell_type": "code",
   "execution_count": 118,
   "metadata": {},
   "outputs": [
    {
     "name": "stdout",
     "output_type": "stream",
     "text": [
      "Total_LMS      98174619\n",
      "Normal_LMS     95949014\n",
      "At_risk_LMS     2225605\n",
      "Total_LIB        650398\n",
      "Normal_LIB       636353\n",
      "At_risk_LIB       14045\n",
      "dtype: int64\n",
      "Total_LMS      71893562\n",
      "Normal_LMS     70874428\n",
      "At_risk_LMS     1019134\n",
      "Total_LIB        523802\n",
      "Normal_LIB       513126\n",
      "At_risk_LIB       10676\n",
      "dtype: int64\n"
     ]
    }
   ],
   "source": [
    "se1 = New_Data.head(13)\n",
    "se2 = New_Data.tail(13)\n",
    "print(se1.sum())\n",
    "\n",
    "print(se2.sum())"
   ]
  },
  {
   "cell_type": "code",
   "execution_count": 135,
   "metadata": {},
   "outputs": [
    {
     "data": {
      "text/plain": [
       "33.58594056813719"
      ]
     },
     "execution_count": 135,
     "metadata": {},
     "output_type": "execute_result"
    }
   ],
   "source": [
    "513126/15278"
   ]
  },
  {
   "cell_type": "code",
   "execution_count": 133,
   "metadata": {},
   "outputs": [
    {
     "data": {
      "text/plain": [
       "4529.484444444444"
      ]
     },
     "execution_count": 133,
     "metadata": {},
     "output_type": "execute_result"
    }
   ],
   "source": [
    "1019134/225"
   ]
  }
 ],
 "metadata": {
  "kernelspec": {
   "display_name": "Python 3",
   "language": "python",
   "name": "python3"
  },
  "language_info": {
   "codemirror_mode": {
    "name": "ipython",
    "version": 3
   },
   "file_extension": ".py",
   "mimetype": "text/x-python",
   "name": "python",
   "nbconvert_exporter": "python",
   "pygments_lexer": "ipython3",
   "version": "3.7.4"
  }
 },
 "nbformat": 4,
 "nbformat_minor": 2
}
