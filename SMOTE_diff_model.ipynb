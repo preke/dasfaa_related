{
 "cells": [
  {
   "cell_type": "code",
   "execution_count": 183,
   "metadata": {},
   "outputs": [],
   "source": [
    "import pandas as pd\n",
    "import numpy as np\n",
    "from sklearn.metrics import f1_score\n",
    "from imblearn.ensemble import BalancedRandomForestClassifier\n",
    "from sklearn.metrics import confusion_matrix, accuracy_score, balanced_accuracy_score, recall_score\n",
    "from sklearn.model_selection import train_test_split\n",
    "from sklearn import tree, svm, naive_bayes,neighbors\n",
    "from sklearn.ensemble import BaggingClassifier, AdaBoostClassifier, RandomForestClassifier, GradientBoostingClassifier\n",
    "from imblearn.over_sampling import SMOTE, ADASYN, SVMSMOTE\n",
    "import matplotlib.pyplot as plt\n",
    "from sklearn import svm, datasets\n",
    "from sklearn.metrics import roc_curve, auc, precision_recall_curve  ###计算roc和auc\n",
    "from imblearn.over_sampling import RandomOverSampler\n",
    "from imblearn.ensemble import BalancedBaggingClassifier\n"
   ]
  },
  {
   "cell_type": "code",
   "execution_count": 184,
   "metadata": {},
   "outputs": [],
   "source": [
    "# read in data\n",
    "STATISTICAL = '2016_se1_lib_lms.csv'\n",
    "student_features = pd.read_csv(STATISTICAL)\n",
    "df_se1_features = student_features[[i for i in student_features.columns if i != 'label_atRist' and i != 'MASKED_STUDENT_ID']]\n",
    "df_se1_labels = student_features['label_atRist']\n",
    "labels = df_se1_labels.apply(lambda x: str(x))"
   ]
  },
  {
   "cell_type": "code",
   "execution_count": 185,
   "metadata": {},
   "outputs": [
    {
     "data": {
      "text/plain": [
       "Index(['MASKED_STUDENT_ID', 'workday', 'weekend', 'morning', 'afternoon',\n",
       "       'evening', 'overnight', 'workday_ExamMonth', 'weekend_ExamMonth',\n",
       "       'morning_ExamMonth', 'afternoon_ExamMonth', 'evening_ExamMonth',\n",
       "       'overnight_ExamMonth', 'workday_notExamMonth', 'weekend_notExamMonth',\n",
       "       'morning_notExamMonth', 'afternoon_notExamMonth',\n",
       "       'evening_notExamMonth', 'overnight_notExamMonth', 'workday_firstMonth',\n",
       "       'weekend_firstMonth', 'morning_firstMonth', 'afternoon_firstMonth',\n",
       "       'evening_firstMonth', 'overnight_firstMonth', 'examMonth',\n",
       "       'notExamMonth', 'firstMonth', 'total_checkin', 'label_atRist',\n",
       "       '09LOGIN_ATTEMPT', '09SESSION_TIMEOUT', '09LOGOUT', '09group', '09db',\n",
       "       '09myinfo', '09course', '09journal', '09email', '09staff',\n",
       "       '09annoucements', '09content', '09grade', '10LOGIN_ATTEMPT',\n",
       "       '10SESSION_TIMEOUT', '10LOGOUT', '10group', '10db', '10myinfo',\n",
       "       '10course', '10journal', '10email', '10staff', '10annoucements',\n",
       "       '10content', '10grade', '11LOGIN_ATTEMPT', '11SESSION_TIMEOUT',\n",
       "       '11LOGOUT', '11group', '11db', '11myinfo', '11course', '11journal',\n",
       "       '11email', '11staff', '11annoucements', '11content', '11grade',\n",
       "       '12LOGIN_ATTEMPT', '12SESSION_TIMEOUT', '12LOGOUT', '12group', '12db',\n",
       "       '12myinfo', '12course', '12journal', '12email', '12staff',\n",
       "       '12annoucements', '12content', '12grade'],\n",
       "      dtype='object')"
      ]
     },
     "execution_count": 185,
     "metadata": {},
     "output_type": "execute_result"
    }
   ],
   "source": [
    "# only somte on train set\n",
    "student_features.columns"
   ]
  },
  {
   "cell_type": "code",
   "execution_count": 63,
   "metadata": {},
   "outputs": [
    {
     "name": "stdout",
     "output_type": "stream",
     "text": [
      "15122\n"
     ]
    },
    {
     "data": {
      "text/plain": [
       "(30244,)"
      ]
     },
     "execution_count": 63,
     "metadata": {},
     "output_type": "execute_result"
    }
   ],
   "source": [
    "ros = RandomOverSampler(random_state=0)\n",
    "X_resampled_smote, y_resampled_smote = ros.fit_sample(df_se1_features, df_se1_labels)\n",
    "\n",
    "\n",
    "# X_resampled_smote, y_resampled_smote = SVMSMOTE(random_state=1, sampling_strategy='auto',k_neighbors=10).fit_sample(df_se1_features, df_se1_labels)\n",
    "print(y_resampled_smote.sum())\n",
    "y_resampled_smote.shape"
   ]
  },
  {
   "cell_type": "code",
   "execution_count": 179,
   "metadata": {},
   "outputs": [
    {
     "name": "stdout",
     "output_type": "stream",
     "text": [
      "the classifier is : decision_tree\n",
      "0.5184819486733363\n",
      "the classifier is : bagging_tree\n",
      "0.6261787733797304\n",
      "the classifier is : random_forest\n",
      "0.7421378860374077\n",
      "the classifier is : balanced_rf\n",
      "0.7249608525445845\n",
      "the classifier is : gradient_boost\n",
      "0.7720922140060896\n"
     ]
    }
   ],
   "source": [
    "X_train, X_test, y_train, y_test = train_test_split(df_se1_features, df_se1_labels, test_size=0.2, stratify=df_se1_labels)\n",
    "\n",
    "X_resampled_smote, y_resampled_smote = SMOTE(random_state=0, sampling_strategy='auto',k_neighbors=10).fit_sample(X_train, y_train)\n",
    "\n",
    "# ros = RandomOverSampler(random_state=0)\n",
    "# X_resampled_smote, y_resampled_smote = ros.fit_sample(X_train, y_train)\n",
    "\n",
    "# X_resampled_smote, y_resampled_smote = ADASYN().fit_sample(X_train, y_train)\n",
    "\n",
    "# from imblearn.combine import SMOTEENN\n",
    "# smote_enn = SMOTEENN(random_state=0)\n",
    "# X_resampled_smote, y_resampled_smote = smote_enn.fit_sample(X_train, y_train)\n",
    "\n",
    "# from imblearn.under_sampling import RandomUnderSampler\n",
    "# rus = RandomUnderSampler(random_state=0)\n",
    "# X_resampled_smote, y_resampled_smote = rus.fit_sample(X_train, y_train)\n",
    "\n",
    "# from imblearn.combine import SMOTETomek\n",
    "# smote_tomek = SMOTETomek(random_state=0)\n",
    "# X_resampled_smote, y_resampled_smote = smote_tomek.fit_sample(X_train, y_train)\n",
    "\n",
    "\n",
    "# print(y_resampled_smote.sum())\n",
    "# print(y_resampled_smote.shape)\n",
    "\n",
    "from sklearn.preprocessing import StandardScaler\n",
    "from sklearn import preprocessing\n",
    "\n",
    "clfs = {\n",
    "        'svm': svm.SVC(class_weight='balanced'),\\\n",
    "        'decision_tree':tree.DecisionTreeClassifier(),\\\n",
    "        'naive_gaussian': naive_bayes.GaussianNB(), \\\n",
    "        'naive_mul':naive_bayes.MultinomialNB(),\\\n",
    "        'K_neighbor' : neighbors.KNeighborsClassifier(),\\\n",
    "        'bagging_knn' : BaggingClassifier(neighbors.KNeighborsClassifier(), max_samples=0.5,max_features=0.5),\\\n",
    "        'bagging_tree': BaggingClassifier(tree.DecisionTreeClassifier(), max_samples=0.5,max_features=0.5),\\\n",
    "        'random_forest' : RandomForestClassifier(n_estimators=100),\\\n",
    "        'balanced_rf':BalancedRandomForestClassifier(n_estimators=200, criterion = 'gini', max_features = 1.0, random_state=0),\n",
    "        'adaboost':AdaBoostClassifier(n_estimators=50),\\\n",
    "        'gradient_boost' : GradientBoostingClassifier(n_estimators=100, learning_rate=0.1,max_depth=10, random_state=42, min_samples_leaf=1),\n",
    "        'bbc' : BalancedBaggingClassifier(base_estimator=tree.DecisionTreeClassifier(),\n",
    "                                ratio='auto',\n",
    "                                replacement=False,\n",
    "                                random_state=0)\n",
    "\n",
    "}\n",
    "\n",
    "def try_different_method(clf):\n",
    "    # clf.fit(X_train, y_train.ravel())\n",
    "    clf.fit(X_resampled_smote, y_resampled_smote.ravel())\n",
    "    y_predprob = clf.predict_proba(X_test)[:,1]\n",
    "    \n",
    "    # features_imp = clf.feature_importances_\n",
    "    # X_new = X_resampled_smote[:, clf.feature_importances_>0]\n",
    "    # X_test_new = X_test[:, clf.feature_importances_>0]\n",
    "    # clf.fit(X_new,y_resampled_smote.ravel())        \n",
    "    return y_predprob\n",
    "\n",
    "    \n",
    "# y_predprob = np.array([0]*len(y_test))\n",
    "clf_keys = ['decision_tree', 'bagging_tree', 'random_forest', 'balanced_rf', 'gradient_boost']\n",
    "# clf_keys = ['balanced_rf']\n",
    "best_auc = 0\n",
    "predprob = []\n",
    "for clf_key in clf_keys:\n",
    "    print('the classifier is :',clf_key)\n",
    "    clf = clfs[clf_key]\n",
    "    y_predprob = try_different_method(clf)\n",
    "    fpr,tpr,threshold = roc_curve(y_test, y_predprob)\n",
    "    roc_auc = auc(fpr,tpr)\n",
    "    print(roc_auc)\n",
    "    if best_auc < roc_auc:\n",
    "        best_auc = roc_auc\n",
    "        predprob = y_predprob"
   ]
  },
  {
   "cell_type": "code",
   "execution_count": 180,
   "metadata": {},
   "outputs": [
    {
     "name": "stderr",
     "output_type": "stream",
     "text": [
      "/home/wenzhy/.conda/envs/py3/lib/python3.7/site-packages/sklearn/metrics/classification.py:1437: UndefinedMetricWarning: F-score is ill-defined and being set to 0.0 in labels with no predicted samples.\n",
      "  'precision', 'predicted', average, warn_for)\n"
     ]
    },
    {
     "name": "stdout",
     "output_type": "stream",
     "text": [
      "the macro F-score is : 0.02392193893610324\n",
      "current j is: 0\n",
      "the macro F-score is : 0.3373532222188186\n",
      "current j is: 0.001\n",
      "the macro F-score is : 0.4422451863984659\n",
      "current j is: 0.002\n",
      "the macro F-score is : 0.4885806072906412\n",
      "current j is: 0.003\n",
      "the macro F-score is : 0.5088513267902581\n",
      "current j is: 0.004\n",
      "the macro F-score is : 0.5114192203848661\n",
      "current j is: 0.005\n",
      "the macro F-score is : 0.5182690388115788\n",
      "current j is: 0.006\n",
      "the macro F-score is : 0.5241245666471886\n",
      "current j is: 0.007\n",
      "the macro F-score is : 0.5306975517061658\n",
      "current j is: 0.008\n",
      "the macro F-score is : 0.5395234296872844\n",
      "current j is: 0.009000000000000001\n",
      "the macro F-score is : 0.5430068957846735\n",
      "current j is: 0.010000000000000002\n",
      "the macro F-score is : 0.5476255342499633\n",
      "current j is: 0.011000000000000003\n",
      "the macro F-score is : 0.5515918384910244\n",
      "current j is: 0.012000000000000004\n",
      "the macro F-score is : 0.5555074208294768\n",
      "current j is: 0.013000000000000005\n",
      "the macro F-score is : 0.5597242535430511\n",
      "current j is: 0.014000000000000005\n",
      "the macro F-score is : 0.5616580696359488\n",
      "current j is: 0.016000000000000007\n",
      "the macro F-score is : 0.5640359590480996\n",
      "current j is: 0.017000000000000008\n",
      "the macro F-score is : 0.5669511575615414\n",
      "current j is: 0.01800000000000001\n",
      "the macro F-score is : 0.5699983360141994\n",
      "current j is: 0.01900000000000001\n",
      "the macro F-score is : 0.571048953085413\n",
      "current j is: 0.02000000000000001\n",
      "the macro F-score is : 0.5753664886015368\n",
      "current j is: 0.02100000000000001\n"
     ]
    }
   ],
   "source": [
    "j = 0\n",
    "best_f1 = 0\n",
    "while j < 1:\n",
    "    predictions = np.array([1 if i > j else 0 for i in predprob])\n",
    "    '''\n",
    "    print('Sum of predictions:', predictions.sum())\n",
    "    print('Sum of Y test:', y_test.sum())\n",
    "    pos_recall = recall_score(y_test, predictions, pos_label=1)\n",
    "    print('the at-risk recall is :', pos_recall)\n",
    "    neg_recall = recall_score(y_test, predictions, pos_label=0)\n",
    "    print('the normal recall is :', neg_recall)\n",
    "    '''\n",
    "    score = f1_score(y_test, predictions, average='macro')\n",
    "    if best_f1 < score:\n",
    "        print('the macro F-score is :', score)\n",
    "        print('current j is:', j)\n",
    "        best_f1 = score\n",
    "    j += 0.001"
   ]
  },
  {
   "cell_type": "code",
   "execution_count": null,
   "metadata": {},
   "outputs": [],
   "source": []
  },
  {
   "cell_type": "code",
   "execution_count": 182,
   "metadata": {},
   "outputs": [
    {
     "name": "stdout",
     "output_type": "stream",
     "text": [
      "Sum of predictions: 145\n",
      "Sum of Y test: 76\n",
      "the at-risk recall is : 0.2631578947368421\n",
      "the normal recall is : 0.9586776859504132\n",
      "the macro F-score is : 0.5753664886015368\n",
      "the micro F-score is : 0.9416317316994518\n"
     ]
    }
   ],
   "source": [
    "    j = 0.02100000000000001\n",
    "    predictions = np.array([1 if i > j else 0 for i in predprob])\n",
    "    print('Sum of predictions:', predictions.sum())\n",
    "    print('Sum of Y test:', y_test.sum())\n",
    "    pos_recall = recall_score(y_test, predictions, pos_label=1)\n",
    "    print('the at-risk recall is :', pos_recall)\n",
    "    neg_recall = recall_score(y_test, predictions, pos_label=0)\n",
    "    print('the normal recall is :', neg_recall)\n",
    "    score = f1_score(y_test, predictions, average='macro')\n",
    "    print('the macro F-score is :', score)\n",
    "    score = f1_score(y_test, predictions, average='micro')\n",
    "    print('the micro F-score is :', score)"
   ]
  },
  {
   "cell_type": "code",
   "execution_count": 34,
   "metadata": {},
   "outputs": [],
   "source": [
    "def get_pr(pos_prob,y_true):\n",
    "    pos = y_true[y_true==1]\n",
    "    threshold = np.sort(pos_prob)[::-1]\n",
    "    y = y_true[pos_prob.argsort()[::-1]]\n",
    "    recall = [] ; precision = []\n",
    "    tp = 0 ; fp = 0\n",
    "    auc = 0.0\n",
    "    for i in range(len(threshold)):\n",
    "        if y[i] == 1:\n",
    "            tp += 1\n",
    "            recall.append(tp/len(pos))\n",
    "            precision.append(tp/(tp+fp))\n",
    "            auc += (recall[i]-recall[i-1])*precision[i]\n",
    "        else:\n",
    "            fp += 1\n",
    "            recall.append(tp/len(pos))\n",
    "            precision.append(tp/(tp+fp))\n",
    "    return precision,recall,auc"
   ]
  },
  {
   "cell_type": "code",
   "execution_count": 114,
   "metadata": {},
   "outputs": [
    {
     "data": {
      "text/plain": [
       "<Figure size 432x288 with 0 Axes>"
      ]
     },
     "metadata": {},
     "output_type": "display_data"
    },
    {
     "data": {
      "image/png": "[encoded data removed]",
      "text/plain": [
       "<Figure size 720x720 with 1 Axes>"
      ]
     },
     "metadata": {
      "needs_background": "light"
     },
     "output_type": "display_data"
    }
   ],
   "source": [
    "fpr,tpr,threshold = roc_curve(y_test, predprob)\n",
    "roc_auc = auc(fpr,tpr)\n",
    "plt.figure()\n",
    "lw = 2\n",
    "plt.figure(figsize=(10,10))\n",
    "plt.plot(fpr, tpr, color='darkorange',\n",
    "         lw=lw, label='ROC curve (area = %0.2f)' % roc_auc) \n",
    "plt.plot([0, 1], [0, 1], color='navy', lw=lw, linestyle='--')\n",
    "plt.xlim([0.0, 1.0])\n",
    "plt.ylim([0.0, 1.05])\n",
    "plt.xlabel('False Positive Rate')\n",
    "plt.ylabel('True Positive Rate')\n",
    "plt.title('Receiver operating characteristic example')\n",
    "plt.legend(loc=\"lower right\")\n",
    "plt.show()"
   ]
  },
  {
   "cell_type": "code",
   "execution_count": 94,
   "metadata": {},
   "outputs": [
    {
     "name": "stderr",
     "output_type": "stream",
     "text": [
      "/home/wenzhy/.conda/envs/py3/lib/python3.7/site-packages/pandas/core/series.py:1146: FutureWarning: \n",
      "Passing list-likes to .loc or [] with any missing label will raise\n",
      "KeyError in the future, you can use .reindex() as an alternative.\n",
      "\n",
      "See the documentation here:\n",
      "https://pandas.pydata.org/pandas-docs/stable/user_guide/indexing.html#deprecate-loc-reindex-listlike\n",
      "  return self.loc[key]\n"
     ]
    },
    {
     "data": {
      "text/plain": [
       "<matplotlib.legend.Legend at 0x7f0ab9bdf510>"
      ]
     },
     "execution_count": 94,
     "metadata": {},
     "output_type": "execute_result"
    },
    {
     "data": {
      "image/png": "[encoded data removed]",
      "text/plain": [
       "<Figure size 720x432 with 1 Axes>"
      ]
     },
     "metadata": {
      "needs_background": "light"
     },
     "output_type": "display_data"
    }
   ],
   "source": [
    "precision_lr,recall_lr,auc_lr = get_pr(predprob, y_test)\n",
    "\n",
    "plt.figure(figsize=(10,6))\n",
    "plt.plot(recall_lr,precision_lr,label=\"(AUC: {:.6f})\".format(auc_lr),linewidth=2)\n",
    "plt.xlabel(\"Recall\",fontsize=16)\n",
    "plt.ylabel(\"Precision\",fontsize=16)\n",
    "plt.title(\"Precision Recall Curve\",fontsize=17)\n",
    "plt.legend(fontsize=16)"
   ]
  },
  {
   "cell_type": "code",
   "execution_count": 85,
   "metadata": {},
   "outputs": [
    {
     "data": {
      "text/plain": [
       "array([ -6.02980283, -11.41655766,  -8.28326678, ...,  -8.40883856,\n",
       "        -8.2470736 ,  -6.11169668])"
      ]
     },
     "execution_count": 85,
     "metadata": {},
     "output_type": "execute_result"
    }
   ],
   "source": [
    "predprob"
   ]
  },
  {
   "cell_type": "code",
   "execution_count": null,
   "metadata": {},
   "outputs": [],
   "source": []
  },
  {
   "cell_type": "code",
   "execution_count": 66,
   "metadata": {},
   "outputs": [
    {
     "name": "stdout",
     "output_type": "stream",
     "text": [
      "the classifier is : gradient_boost\n",
      "Sum of predictions: 86\n",
      "Sum of Y test: 76\n",
      "the neg recall is : 0.02631578947368421\n",
      "the pos recall is : 0.9722314049586777\n",
      "the micro F-score is : 0.9490486939696872\n"
     ]
    }
   ],
   "source": [
    "# without somte\n",
    "# from sklearn.model_selection import train_test_split\n",
    "X_train, X_test, y_train, y_test = train_test_split(df_se1_features, df_se1_labels, test_size = 0.2, stratify=df_se1_labels)\n",
    "# from sklearn import tree, svm, naive_bayes,neighbors\n",
    "# from sklearn.ensemble import BaggingClassifier, AdaBoostClassifier, RandomForestClassifier, GradientBoostingClassifier\n",
    "clfs = {\n",
    "#         'svm': svm.SVC(),\\\n",
    "#         'decision_tree':tree.DecisionTreeClassifier(),\n",
    "#         'naive_gaussian': naive_bayes.GaussianNB(), \\\n",
    "#         'naive_mul':naive_bayes.MultinomialNB(),\\\n",
    "#         'K_neighbor' : neighbors.KNeighborsClassifier(),\\\n",
    "#         'bagging_knn' : BaggingClassifier(neighbors.KNeighborsClassifier(), max_samples=0.5,max_features=0.5), \\\n",
    "#         'bagging_tree': BaggingClassifier(tree.DecisionTreeClassifier(), max_samples=0.5,max_features=0.5),\n",
    "#         'random_forest' : RandomForestClassifier(n_estimators=50),\\\n",
    "#         'adaboost':AdaBoostClassifier(n_estimators=50),\\\n",
    "        'gradient_boost' : GradientBoostingClassifier(n_estimators=50, learning_rate=0.5,max_depth=10, random_state=0, min_samples_leaf=2)\n",
    "        }\n",
    "\n",
    "def try_different_method(clf):\n",
    "    clf.fit(X_train,y_train.ravel())\n",
    "    predictions = clf.predict(X_test)\n",
    "    print('Sum of predictions:', predictions.sum())\n",
    "    print('Sum of Y test:', y_test.sum())\n",
    "    neg_recall = recall_score(y_test, predictions, pos_label=1)\n",
    "    print('the neg recall is :', neg_recall)\n",
    "    pos_recall = recall_score(y_test, predictions, pos_label=0)\n",
    "    print('the pos recall is :', pos_recall)\n",
    "    score = f1_score(y_test, predictions, average='micro')\n",
    "    print('the micro F-score is :', score)\n",
    "\n",
    "for clf_key in clfs.keys():\n",
    "    print('the classifier is :',clf_key)\n",
    "    clf = clfs[clf_key]\n",
    "    try_different_method(clf)"
   ]
  },
  {
   "cell_type": "code",
   "execution_count": null,
   "metadata": {},
   "outputs": [],
   "source": []
  }
 ],
 "metadata": {
  "kernelspec": {
   "display_name": "Python 3",
   "language": "python",
   "name": "python3"
  },
  "language_info": {
   "codemirror_mode": {
    "name": "ipython",
    "version": 3
   },
   "file_extension": ".py",
   "mimetype": "text/x-python",
   "name": "python",
   "nbconvert_exporter": "python",
   "pygments_lexer": "ipython3",
   "version": "3.7.4"
  }
 },
 "nbformat": 4,
 "nbformat_minor": 2
}
