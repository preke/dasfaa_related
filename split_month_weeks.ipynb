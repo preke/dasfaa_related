{
 "cells": [
  {
   "cell_type": "code",
   "execution_count": 1,
   "metadata": {},
   "outputs": [
    {
     "data": {
      "text/html": [
       "<div>\n",
       "<style scoped>\n",
       "    .dataframe tbody tr th:only-of-type {\n",
       "        vertical-align: middle;\n",
       "    }\n",
       "\n",
       "    .dataframe tbody tr th {\n",
       "        vertical-align: top;\n",
       "    }\n",
       "\n",
       "    .dataframe thead th {\n",
       "        text-align: right;\n",
       "    }\n",
       "</style>\n",
       "<table border=\"1\" class=\"dataframe\">\n",
       "  <thead>\n",
       "    <tr style=\"text-align: right;\">\n",
       "      <th></th>\n",
       "      <th>MASKED_STUDENT_ID</th>\n",
       "      <th>workday</th>\n",
       "      <th>weekend</th>\n",
       "      <th>morning</th>\n",
       "      <th>afternoon</th>\n",
       "      <th>evening</th>\n",
       "      <th>overnight</th>\n",
       "      <th>workday_ExamMonth</th>\n",
       "      <th>weekend_ExamMonth</th>\n",
       "      <th>morning_ExamMonth</th>\n",
       "      <th>...</th>\n",
       "      <th>12group</th>\n",
       "      <th>12db</th>\n",
       "      <th>12myinfo</th>\n",
       "      <th>12course</th>\n",
       "      <th>12journal</th>\n",
       "      <th>12email</th>\n",
       "      <th>12staff</th>\n",
       "      <th>12annoucements</th>\n",
       "      <th>12content</th>\n",
       "      <th>12grade</th>\n",
       "    </tr>\n",
       "  </thead>\n",
       "  <tbody>\n",
       "    <tr>\n",
       "      <th>0</th>\n",
       "      <td>8TMIKVZ5</td>\n",
       "      <td>25</td>\n",
       "      <td>0</td>\n",
       "      <td>0</td>\n",
       "      <td>25</td>\n",
       "      <td>0</td>\n",
       "      <td>0</td>\n",
       "      <td>0</td>\n",
       "      <td>0</td>\n",
       "      <td>0</td>\n",
       "      <td>...</td>\n",
       "      <td>44.0</td>\n",
       "      <td>0.0</td>\n",
       "      <td>15.0</td>\n",
       "      <td>6.0</td>\n",
       "      <td>9.0</td>\n",
       "      <td>0.0</td>\n",
       "      <td>0.0</td>\n",
       "      <td>27.0</td>\n",
       "      <td>331.0</td>\n",
       "      <td>4.0</td>\n",
       "    </tr>\n",
       "    <tr>\n",
       "      <th>1</th>\n",
       "      <td>N2YYKTMZ</td>\n",
       "      <td>61</td>\n",
       "      <td>3</td>\n",
       "      <td>1</td>\n",
       "      <td>45</td>\n",
       "      <td>18</td>\n",
       "      <td>0</td>\n",
       "      <td>5</td>\n",
       "      <td>0</td>\n",
       "      <td>0</td>\n",
       "      <td>...</td>\n",
       "      <td>4.0</td>\n",
       "      <td>2.0</td>\n",
       "      <td>4.0</td>\n",
       "      <td>0.0</td>\n",
       "      <td>0.0</td>\n",
       "      <td>0.0</td>\n",
       "      <td>2.0</td>\n",
       "      <td>11.0</td>\n",
       "      <td>202.0</td>\n",
       "      <td>4.0</td>\n",
       "    </tr>\n",
       "    <tr>\n",
       "      <th>2</th>\n",
       "      <td>BZRW4GD3</td>\n",
       "      <td>0</td>\n",
       "      <td>1</td>\n",
       "      <td>0</td>\n",
       "      <td>1</td>\n",
       "      <td>0</td>\n",
       "      <td>0</td>\n",
       "      <td>0</td>\n",
       "      <td>1</td>\n",
       "      <td>0</td>\n",
       "      <td>...</td>\n",
       "      <td>0.0</td>\n",
       "      <td>0.0</td>\n",
       "      <td>0.0</td>\n",
       "      <td>0.0</td>\n",
       "      <td>0.0</td>\n",
       "      <td>0.0</td>\n",
       "      <td>0.0</td>\n",
       "      <td>0.0</td>\n",
       "      <td>13.0</td>\n",
       "      <td>2.0</td>\n",
       "    </tr>\n",
       "    <tr>\n",
       "      <th>3</th>\n",
       "      <td>HJTBF62Q</td>\n",
       "      <td>14</td>\n",
       "      <td>21</td>\n",
       "      <td>1</td>\n",
       "      <td>26</td>\n",
       "      <td>8</td>\n",
       "      <td>0</td>\n",
       "      <td>4</td>\n",
       "      <td>7</td>\n",
       "      <td>1</td>\n",
       "      <td>...</td>\n",
       "      <td>0.0</td>\n",
       "      <td>2.0</td>\n",
       "      <td>0.0</td>\n",
       "      <td>0.0</td>\n",
       "      <td>0.0</td>\n",
       "      <td>0.0</td>\n",
       "      <td>0.0</td>\n",
       "      <td>0.0</td>\n",
       "      <td>31.0</td>\n",
       "      <td>0.0</td>\n",
       "    </tr>\n",
       "    <tr>\n",
       "      <th>4</th>\n",
       "      <td>33XUIDIG</td>\n",
       "      <td>20</td>\n",
       "      <td>5</td>\n",
       "      <td>0</td>\n",
       "      <td>16</td>\n",
       "      <td>9</td>\n",
       "      <td>0</td>\n",
       "      <td>3</td>\n",
       "      <td>0</td>\n",
       "      <td>0</td>\n",
       "      <td>...</td>\n",
       "      <td>0.0</td>\n",
       "      <td>0.0</td>\n",
       "      <td>0.0</td>\n",
       "      <td>0.0</td>\n",
       "      <td>0.0</td>\n",
       "      <td>0.0</td>\n",
       "      <td>0.0</td>\n",
       "      <td>1.0</td>\n",
       "      <td>10.0</td>\n",
       "      <td>0.0</td>\n",
       "    </tr>\n",
       "  </tbody>\n",
       "</table>\n",
       "<p>5 rows × 82 columns</p>\n",
       "</div>"
      ],
      "text/plain": [
       "  MASKED_STUDENT_ID  workday  weekend  morning  afternoon  evening  overnight  \\\n",
       "0          8TMIKVZ5       25        0        0         25        0          0   \n",
       "1          N2YYKTMZ       61        3        1         45       18          0   \n",
       "2          BZRW4GD3        0        1        0          1        0          0   \n",
       "3          HJTBF62Q       14       21        1         26        8          0   \n",
       "4          33XUIDIG       20        5        0         16        9          0   \n",
       "\n",
       "   workday_ExamMonth  weekend_ExamMonth  morning_ExamMonth  ...  12group  \\\n",
       "0                  0                  0                  0  ...     44.0   \n",
       "1                  5                  0                  0  ...      4.0   \n",
       "2                  0                  1                  0  ...      0.0   \n",
       "3                  4                  7                  1  ...      0.0   \n",
       "4                  3                  0                  0  ...      0.0   \n",
       "\n",
       "   12db  12myinfo  12course  12journal  12email  12staff  12annoucements  \\\n",
       "0   0.0      15.0       6.0        9.0      0.0      0.0            27.0   \n",
       "1   2.0       4.0       0.0        0.0      0.0      2.0            11.0   \n",
       "2   0.0       0.0       0.0        0.0      0.0      0.0             0.0   \n",
       "3   2.0       0.0       0.0        0.0      0.0      0.0             0.0   \n",
       "4   0.0       0.0       0.0        0.0      0.0      0.0             1.0   \n",
       "\n",
       "   12content  12grade  \n",
       "0      331.0      4.0  \n",
       "1      202.0      4.0  \n",
       "2       13.0      2.0  \n",
       "3       31.0      0.0  \n",
       "4       10.0      0.0  \n",
       "\n",
       "[5 rows x 82 columns]"
      ]
     },
     "execution_count": 1,
     "metadata": {},
     "output_type": "execute_result"
    }
   ],
   "source": [
    "# split data with months and weeks\n",
    "import pandas as pd\n",
    "import numpy as np\n",
    "from sklearn.metrics import f1_score\n",
    "student_features = pd.read_csv('2016_se1_lib_lms.csv')\n",
    "student_features.head()"
   ]
  },
  {
   "cell_type": "code",
   "execution_count": 2,
   "metadata": {},
   "outputs": [],
   "source": [
    "df_se1_features = student_features[[i for i in student_features.columns if i != 'label_atRist' and i != 'MASKED_STUDENT_ID']]\n",
    "df_se1_labels = student_features[['label_atRist']]"
   ]
  },
  {
   "cell_type": "code",
   "execution_count": 7,
   "metadata": {},
   "outputs": [
    {
     "data": {
      "text/plain": [
       "(15503, 1)"
      ]
     },
     "execution_count": 7,
     "metadata": {},
     "output_type": "execute_result"
    }
   ],
   "source": [
    "df_se1_labels.shape"
   ]
  },
  {
   "cell_type": "code",
   "execution_count": 8,
   "metadata": {},
   "outputs": [],
   "source": [
    "df_se1_labels.to_csv('labels.csv', index=False)"
   ]
  },
  {
   "cell_type": "code",
   "execution_count": 4,
   "metadata": {},
   "outputs": [
    {
     "data": {
      "text/plain": [
       "0    0\n",
       "1    0\n",
       "2    0\n",
       "3    0\n",
       "4    0\n",
       "Name: label_atRist, dtype: int64"
      ]
     },
     "execution_count": 4,
     "metadata": {},
     "output_type": "execute_result"
    }
   ],
   "source": [
    "df_se1_labels.head()"
   ]
  },
  {
   "cell_type": "code",
   "execution_count": 4,
   "metadata": {},
   "outputs": [
    {
     "data": {
      "text/plain": [
       "Index(['workday', 'weekend', 'morning', 'afternoon', 'evening', 'overnight',\n",
       "       'workday_ExamMonth', 'weekend_ExamMonth', 'morning_ExamMonth',\n",
       "       'afternoon_ExamMonth', 'evening_ExamMonth', 'overnight_ExamMonth',\n",
       "       'workday_notExamMonth', 'weekend_notExamMonth', 'morning_notExamMonth',\n",
       "       'afternoon_notExamMonth', 'evening_notExamMonth',\n",
       "       'overnight_notExamMonth', 'workday_firstMonth', 'weekend_firstMonth',\n",
       "       'morning_firstMonth', 'afternoon_firstMonth', 'evening_firstMonth',\n",
       "       'overnight_firstMonth', 'examMonth', 'notExamMonth', 'firstMonth',\n",
       "       'total_checkin', '09LOGIN_ATTEMPT', '09SESSION_TIMEOUT', '09LOGOUT',\n",
       "       '09group', '09db', '09myinfo', '09course', '09journal', '09email',\n",
       "       '09staff', '09annoucements', '09content', '09grade', '10LOGIN_ATTEMPT',\n",
       "       '10SESSION_TIMEOUT', '10LOGOUT', '10group', '10db', '10myinfo',\n",
       "       '10course', '10journal', '10email', '10staff', '10annoucements',\n",
       "       '10content', '10grade', '11LOGIN_ATTEMPT', '11SESSION_TIMEOUT',\n",
       "       '11LOGOUT', '11group', '11db', '11myinfo', '11course', '11journal',\n",
       "       '11email', '11staff', '11annoucements', '11content', '11grade',\n",
       "       '12LOGIN_ATTEMPT', '12SESSION_TIMEOUT', '12LOGOUT', '12group', '12db',\n",
       "       '12myinfo', '12course', '12journal', '12email', '12staff',\n",
       "       '12annoucements', '12content', '12grade'],\n",
       "      dtype='object')"
      ]
     },
     "execution_count": 4,
     "metadata": {},
     "output_type": "execute_result"
    }
   ],
   "source": [
    "df_se1_features.columns"
   ]
  },
  {
   "cell_type": "code",
   "execution_count": 10,
   "metadata": {},
   "outputs": [],
   "source": [
    "df_se1_feature_09 = df_se1_features[['workday_firstMonth','weekend_firstMonth',\n",
    "       'morning_firstMonth', 'afternoon_firstMonth', 'evening_firstMonth','overnight_firstMonth','firstMonth',\n",
    "       '09LOGIN_ATTEMPT', '09SESSION_TIMEOUT', '09LOGOUT',\n",
    "       '09group', '09db', '09myinfo', '09course', '09journal', '09email',\n",
    "       '09staff', '09annoucements', '09content', '09grade']]\n",
    "df_se1_feature_09.to_csv('feature_09.csv', index=False)"
   ]
  },
  {
   "cell_type": "code",
   "execution_count": 10,
   "metadata": {},
   "outputs": [],
   "source": [
    "df_se1_feature_10 = df_se1_features[['workday_firstMonth','weekend_firstMonth',\n",
    "       'morning_firstMonth', 'afternoon_firstMonth', 'evening_firstMonth','overnight_firstMonth','firstMonth',\n",
    "       '09LOGIN_ATTEMPT', '09SESSION_TIMEOUT', '09LOGOUT',\n",
    "       '09group', '09db', '09myinfo', '09course', '09journal', '09email',\n",
    "       '09staff', '09annoucements', '09content', '09grade',    \n",
    "       'workday_notExamMonth', 'weekend_notExamMonth', 'morning_notExamMonth',\n",
    "       'afternoon_notExamMonth', 'evening_notExamMonth','overnight_notExamMonth','notExamMonth',\n",
    "       '10LOGIN_ATTEMPT','10SESSION_TIMEOUT', '10LOGOUT', '10group', '10db', '10myinfo',\n",
    "       '10course', '10journal', '10email', '10staff', '10annoucements',\n",
    "       '10content', '10grade']]\n",
    "df_se1_feature_10.to_csv('feature_10.csv', index=False)"
   ]
  },
  {
   "cell_type": "code",
   "execution_count": 11,
   "metadata": {},
   "outputs": [],
   "source": [
    "df_se1_feature_11 = df_se1_features[['workday_firstMonth','weekend_firstMonth',\n",
    "       'morning_firstMonth', 'afternoon_firstMonth', 'evening_firstMonth','overnight_firstMonth','firstMonth',\n",
    "       '09LOGIN_ATTEMPT', '09SESSION_TIMEOUT', '09LOGOUT',\n",
    "       '09group', '09db', '09myinfo', '09course', '09journal', '09email',\n",
    "       '09staff', '09annoucements', '09content', '09grade',    \n",
    "       'workday_notExamMonth', 'weekend_notExamMonth', 'morning_notExamMonth',\n",
    "       'afternoon_notExamMonth', 'evening_notExamMonth','overnight_notExamMonth','notExamMonth',\n",
    "       '10LOGIN_ATTEMPT','10SESSION_TIMEOUT', '10LOGOUT', '10group', '10db', '10myinfo',\n",
    "       '10course', '10journal', '10email', '10staff', '10annoucements',\n",
    "       '10content', '10grade',\n",
    "       '11LOGIN_ATTEMPT', '11SESSION_TIMEOUT',\n",
    "       '11LOGOUT', '11group', '11db', '11myinfo', '11course', '11journal',\n",
    "       '11email', '11staff', '11annoucements', '11content', '11grade']]\n",
    "df_se1_feature_11.to_csv('feature_11.csv', index=False)"
   ]
  },
  {
   "cell_type": "code",
   "execution_count": 12,
   "metadata": {},
   "outputs": [],
   "source": [
    "df_se1_features.to_csv('feature_12.csv', index=False)"
   ]
  },
  {
   "cell_type": "markdown",
   "metadata": {},
   "source": [
    "## Now combine with seq "
   ]
  },
  {
   "cell_type": "code",
   "execution_count": 3,
   "metadata": {},
   "outputs": [],
   "source": [
    "seq_entropy = pd.read_csv('df_seq_week_entropy.csv')"
   ]
  },
  {
   "cell_type": "code",
   "execution_count": 9,
   "metadata": {},
   "outputs": [
    {
     "data": {
      "text/plain": [
       "Index(['Unnamed: 0', 'De-id', '09_day_list', '10_day_list', '11_day_list',\n",
       "       '12_day_list', 'total_list', '09_weekday_seq', '09_weekend_seq',\n",
       "       '10_weekday_seq', '10_weekend_seq', '11_weekday_seq', '11_weekend_seq',\n",
       "       '12_weekday_seq', '12_weekend_seq', 'total_weekday_seq',\n",
       "       'total_weekend_seq', '09_weekday_entropy_5', '10_weekday_entropy_5',\n",
       "       '11_weekday_entropy_5', '12_weekday_entropy_5',\n",
       "       'total_weekday_entropy_5', '09_weekend_entropy_2',\n",
       "       '10_weekend_entropy_2', '11_weekend_entropy_2', '12_weekend_entropy_2',\n",
       "       'total_weekend_entropy_2', 'CUM_GPA', 'at_risk'],\n",
       "      dtype='object')"
      ]
     },
     "execution_count": 9,
     "metadata": {},
     "output_type": "execute_result"
    }
   ],
   "source": [
    "seq_entropy.columns"
   ]
  },
  {
   "cell_type": "code",
   "execution_count": null,
   "metadata": {},
   "outputs": [],
   "source": [
    "df_se1_features"
   ]
  }
 ],
 "metadata": {
  "kernelspec": {
   "display_name": "Python 3",
   "language": "python",
   "name": "python3"
  },
  "language_info": {
   "codemirror_mode": {
    "name": "ipython",
    "version": 3
   },
   "file_extension": ".py",
   "mimetype": "text/x-python",
   "name": "python",
   "nbconvert_exporter": "python",
   "pygments_lexer": "ipython3",
   "version": "3.7.4"
  }
 },
 "nbformat": 4,
 "nbformat_minor": 2
}
