{
 "cells": [
  {
   "cell_type": "code",
   "execution_count": 1,
   "metadata": {},
   "outputs": [
    {
     "data": {
      "text/html": [
       "<div>\n",
       "<style scoped>\n",
       "    .dataframe tbody tr th:only-of-type {\n",
       "        vertical-align: middle;\n",
       "    }\n",
       "\n",
       "    .dataframe tbody tr th {\n",
       "        vertical-align: top;\n",
       "    }\n",
       "\n",
       "    .dataframe thead th {\n",
       "        text-align: right;\n",
       "    }\n",
       "</style>\n",
       "<table border=\"1\" class=\"dataframe\">\n",
       "  <thead>\n",
       "    <tr style=\"text-align: right;\">\n",
       "      <th></th>\n",
       "      <th>MASKED_STUDENT_ID</th>\n",
       "      <th>workday</th>\n",
       "      <th>weekend</th>\n",
       "      <th>morning</th>\n",
       "      <th>afternoon</th>\n",
       "      <th>evening</th>\n",
       "      <th>overnight</th>\n",
       "      <th>workday_ExamMonth</th>\n",
       "      <th>weekend_ExamMonth</th>\n",
       "      <th>morning_ExamMonth</th>\n",
       "      <th>...</th>\n",
       "      <th>12group</th>\n",
       "      <th>12db</th>\n",
       "      <th>12myinfo</th>\n",
       "      <th>12course</th>\n",
       "      <th>12journal</th>\n",
       "      <th>12email</th>\n",
       "      <th>12staff</th>\n",
       "      <th>12annoucements</th>\n",
       "      <th>12content</th>\n",
       "      <th>12grade</th>\n",
       "    </tr>\n",
       "  </thead>\n",
       "  <tbody>\n",
       "    <tr>\n",
       "      <th>0</th>\n",
       "      <td>8TMIKVZ5</td>\n",
       "      <td>25</td>\n",
       "      <td>0</td>\n",
       "      <td>0</td>\n",
       "      <td>25</td>\n",
       "      <td>0</td>\n",
       "      <td>0</td>\n",
       "      <td>0</td>\n",
       "      <td>0</td>\n",
       "      <td>0</td>\n",
       "      <td>...</td>\n",
       "      <td>44.0</td>\n",
       "      <td>0.0</td>\n",
       "      <td>15.0</td>\n",
       "      <td>6.0</td>\n",
       "      <td>9.0</td>\n",
       "      <td>0.0</td>\n",
       "      <td>0.0</td>\n",
       "      <td>27.0</td>\n",
       "      <td>331.0</td>\n",
       "      <td>4.0</td>\n",
       "    </tr>\n",
       "    <tr>\n",
       "      <th>1</th>\n",
       "      <td>N2YYKTMZ</td>\n",
       "      <td>61</td>\n",
       "      <td>3</td>\n",
       "      <td>1</td>\n",
       "      <td>45</td>\n",
       "      <td>18</td>\n",
       "      <td>0</td>\n",
       "      <td>5</td>\n",
       "      <td>0</td>\n",
       "      <td>0</td>\n",
       "      <td>...</td>\n",
       "      <td>4.0</td>\n",
       "      <td>2.0</td>\n",
       "      <td>4.0</td>\n",
       "      <td>0.0</td>\n",
       "      <td>0.0</td>\n",
       "      <td>0.0</td>\n",
       "      <td>2.0</td>\n",
       "      <td>11.0</td>\n",
       "      <td>202.0</td>\n",
       "      <td>4.0</td>\n",
       "    </tr>\n",
       "    <tr>\n",
       "      <th>2</th>\n",
       "      <td>BZRW4GD3</td>\n",
       "      <td>0</td>\n",
       "      <td>1</td>\n",
       "      <td>0</td>\n",
       "      <td>1</td>\n",
       "      <td>0</td>\n",
       "      <td>0</td>\n",
       "      <td>0</td>\n",
       "      <td>1</td>\n",
       "      <td>0</td>\n",
       "      <td>...</td>\n",
       "      <td>0.0</td>\n",
       "      <td>0.0</td>\n",
       "      <td>0.0</td>\n",
       "      <td>0.0</td>\n",
       "      <td>0.0</td>\n",
       "      <td>0.0</td>\n",
       "      <td>0.0</td>\n",
       "      <td>0.0</td>\n",
       "      <td>13.0</td>\n",
       "      <td>2.0</td>\n",
       "    </tr>\n",
       "    <tr>\n",
       "      <th>3</th>\n",
       "      <td>HJTBF62Q</td>\n",
       "      <td>14</td>\n",
       "      <td>21</td>\n",
       "      <td>1</td>\n",
       "      <td>26</td>\n",
       "      <td>8</td>\n",
       "      <td>0</td>\n",
       "      <td>4</td>\n",
       "      <td>7</td>\n",
       "      <td>1</td>\n",
       "      <td>...</td>\n",
       "      <td>0.0</td>\n",
       "      <td>2.0</td>\n",
       "      <td>0.0</td>\n",
       "      <td>0.0</td>\n",
       "      <td>0.0</td>\n",
       "      <td>0.0</td>\n",
       "      <td>0.0</td>\n",
       "      <td>0.0</td>\n",
       "      <td>31.0</td>\n",
       "      <td>0.0</td>\n",
       "    </tr>\n",
       "    <tr>\n",
       "      <th>4</th>\n",
       "      <td>33XUIDIG</td>\n",
       "      <td>20</td>\n",
       "      <td>5</td>\n",
       "      <td>0</td>\n",
       "      <td>16</td>\n",
       "      <td>9</td>\n",
       "      <td>0</td>\n",
       "      <td>3</td>\n",
       "      <td>0</td>\n",
       "      <td>0</td>\n",
       "      <td>...</td>\n",
       "      <td>0.0</td>\n",
       "      <td>0.0</td>\n",
       "      <td>0.0</td>\n",
       "      <td>0.0</td>\n",
       "      <td>0.0</td>\n",
       "      <td>0.0</td>\n",
       "      <td>0.0</td>\n",
       "      <td>1.0</td>\n",
       "      <td>10.0</td>\n",
       "      <td>0.0</td>\n",
       "    </tr>\n",
       "  </tbody>\n",
       "</table>\n",
       "<p>5 rows × 82 columns</p>\n",
       "</div>"
      ],
      "text/plain": [
       "  MASKED_STUDENT_ID  workday  weekend  morning  afternoon  evening  overnight  \\\n",
       "0          8TMIKVZ5       25        0        0         25        0          0   \n",
       "1          N2YYKTMZ       61        3        1         45       18          0   \n",
       "2          BZRW4GD3        0        1        0          1        0          0   \n",
       "3          HJTBF62Q       14       21        1         26        8          0   \n",
       "4          33XUIDIG       20        5        0         16        9          0   \n",
       "\n",
       "   workday_ExamMonth  weekend_ExamMonth  morning_ExamMonth  ...  12group  \\\n",
       "0                  0                  0                  0  ...     44.0   \n",
       "1                  5                  0                  0  ...      4.0   \n",
       "2                  0                  1                  0  ...      0.0   \n",
       "3                  4                  7                  1  ...      0.0   \n",
       "4                  3                  0                  0  ...      0.0   \n",
       "\n",
       "   12db  12myinfo  12course  12journal  12email  12staff  12annoucements  \\\n",
       "0   0.0      15.0       6.0        9.0      0.0      0.0            27.0   \n",
       "1   2.0       4.0       0.0        0.0      0.0      2.0            11.0   \n",
       "2   0.0       0.0       0.0        0.0      0.0      0.0             0.0   \n",
       "3   2.0       0.0       0.0        0.0      0.0      0.0             0.0   \n",
       "4   0.0       0.0       0.0        0.0      0.0      0.0             1.0   \n",
       "\n",
       "   12content  12grade  \n",
       "0      331.0      4.0  \n",
       "1      202.0      4.0  \n",
       "2       13.0      2.0  \n",
       "3       31.0      0.0  \n",
       "4       10.0      0.0  \n",
       "\n",
       "[5 rows x 82 columns]"
      ]
     },
     "execution_count": 1,
     "metadata": {},
     "output_type": "execute_result"
    }
   ],
   "source": [
    "import numpy as np\n",
    "import pandas as pd\n",
    "from imblearn.ensemble import BalancedRandomForestClassifier\n",
    "from sklearn.metrics import confusion_matrix, accuracy_score, balanced_accuracy_score\n",
    "from sklearn.model_selection import train_test_split\n",
    "import re\n",
    "\n",
    "df_se1 = pd.read_csv('2016_se1_lib_lms.csv')\n",
    "df_se1.head()"
   ]
  },
  {
   "cell_type": "code",
   "execution_count": 25,
   "metadata": {},
   "outputs": [
    {
     "data": {
      "text/plain": [
       "Index(['MASKED_STUDENT_ID', 'workday', 'weekend', 'morning', 'afternoon',\n",
       "       'evening', 'overnight', 'workday_ExamMonth', 'weekend_ExamMonth',\n",
       "       'morning_ExamMonth', 'afternoon_ExamMonth', 'evening_ExamMonth',\n",
       "       'overnight_ExamMonth', 'workday_notExamMonth', 'weekend_notExamMonth',\n",
       "       'morning_notExamMonth', 'afternoon_notExamMonth',\n",
       "       'evening_notExamMonth', 'overnight_notExamMonth', 'workday_firstMonth',\n",
       "       'weekend_firstMonth', 'morning_firstMonth', 'afternoon_firstMonth',\n",
       "       'evening_firstMonth', 'overnight_firstMonth', 'examMonth',\n",
       "       'notExamMonth', 'firstMonth', 'total_checkin', 'label_atRist',\n",
       "       '09LOGIN_ATTEMPT', '09SESSION_TIMEOUT', '09LOGOUT', '09group', '09db',\n",
       "       '09myinfo', '09course', '09journal', '09email', '09staff',\n",
       "       '09annoucements', '09content', '09grade', '10LOGIN_ATTEMPT',\n",
       "       '10SESSION_TIMEOUT', '10LOGOUT', '10group', '10db', '10myinfo',\n",
       "       '10course', '10journal', '10email', '10staff', '10annoucements',\n",
       "       '10content', '10grade', '11LOGIN_ATTEMPT', '11SESSION_TIMEOUT',\n",
       "       '11LOGOUT', '11group', '11db', '11myinfo', '11course', '11journal',\n",
       "       '11email', '11staff', '11annoucements', '11content', '11grade',\n",
       "       '12LOGIN_ATTEMPT', '12SESSION_TIMEOUT', '12LOGOUT', '12group', '12db',\n",
       "       '12myinfo', '12course', '12journal', '12email', '12staff',\n",
       "       '12annoucements', '12content', '12grade'],\n",
       "      dtype='object')"
      ]
     },
     "execution_count": 25,
     "metadata": {},
     "output_type": "execute_result"
    }
   ],
   "source": [
    "df_se1.columns"
   ]
  },
  {
   "cell_type": "code",
   "execution_count": 27,
   "metadata": {},
   "outputs": [],
   "source": [
    "def cal(row):\n",
    "    fs = ['09LOGIN_ATTEMPT', '09SESSION_TIMEOUT', '09LOGOUT', '09group', '09db',\n",
    "       '09myinfo', '09course', '09journal', '09email', '09staff',\n",
    "       '09annoucements', '09content', '09grade', '10LOGIN_ATTEMPT',\n",
    "       '10SESSION_TIMEOUT', '10LOGOUT', '10group', '10db', '10myinfo',\n",
    "       '10course', '10journal', '10email', '10staff', '10annoucements',\n",
    "       '10content', '10grade', '11LOGIN_ATTEMPT', '11SESSION_TIMEOUT',\n",
    "       '11LOGOUT', '11group', '11db', '11myinfo', '11course', '11journal',\n",
    "       '11email', '11staff', '11annoucements', '11content', '11grade',\n",
    "       '12LOGIN_ATTEMPT', '12SESSION_TIMEOUT', '12LOGOUT', '12group', '12db',\n",
    "       '12myinfo', '12course', '12journal', '12email', '12staff',\n",
    "       '12annoucements', '12content', '12grade']\n",
    "    ans = 0.0\n",
    "    for f in fs:\n",
    "        ans += row[f]\n",
    "    return ans/len(fs)\n",
    "df_se1['avg_online'] = df_se1.apply(cal, axis=1)"
   ]
  },
  {
   "cell_type": "code",
   "execution_count": 28,
   "metadata": {},
   "outputs": [
    {
     "data": {
      "text/plain": [
       "count    15503.000000\n",
       "mean        19.377928\n",
       "std         12.824723\n",
       "min          0.000000\n",
       "25%         10.115385\n",
       "50%         17.326923\n",
       "75%         26.269231\n",
       "max        206.230769\n",
       "Name: avg_online, dtype: float64"
      ]
     },
     "execution_count": 28,
     "metadata": {},
     "output_type": "execute_result"
    }
   ],
   "source": [
    "df_se1['avg_online'].describe()"
   ]
  },
  {
   "cell_type": "code",
   "execution_count": 8,
   "metadata": {},
   "outputs": [
    {
     "data": {
      "text/html": [
       "<div>\n",
       "<style scoped>\n",
       "    .dataframe tbody tr th:only-of-type {\n",
       "        vertical-align: middle;\n",
       "    }\n",
       "\n",
       "    .dataframe tbody tr th {\n",
       "        vertical-align: top;\n",
       "    }\n",
       "\n",
       "    .dataframe thead th {\n",
       "        text-align: right;\n",
       "    }\n",
       "</style>\n",
       "<table border=\"1\" class=\"dataframe\">\n",
       "  <thead>\n",
       "    <tr style=\"text-align: right;\">\n",
       "      <th></th>\n",
       "      <th>De-id</th>\n",
       "      <th>lib_total_list</th>\n",
       "    </tr>\n",
       "  </thead>\n",
       "  <tbody>\n",
       "    <tr>\n",
       "      <th>0</th>\n",
       "      <td>8TMIKVZ5</td>\n",
       "      <td>[0, 0, 0, 0, 1, 0, 0, 1, 0, 0, 0, 0, 4, 0, 1, ...</td>\n",
       "    </tr>\n",
       "    <tr>\n",
       "      <th>1</th>\n",
       "      <td>OZ6FIGHH</td>\n",
       "      <td>[0, 0, 0, 0, 0, 0, 0, 0, 0, 0, 0, 0, 0, 0, 0, ...</td>\n",
       "    </tr>\n",
       "    <tr>\n",
       "      <th>2</th>\n",
       "      <td>QSGBC7CZ</td>\n",
       "      <td>[0, 1, 0, 0, 0, 0, 0, 0, 0, 0, 0, 0, 1, 0, 0, ...</td>\n",
       "    </tr>\n",
       "    <tr>\n",
       "      <th>3</th>\n",
       "      <td>EIC4AO9Q</td>\n",
       "      <td>[0, 2, 1, 0, 2, 2, 1, 1, 0, 0, 0, 1, 0, 1, 0, ...</td>\n",
       "    </tr>\n",
       "    <tr>\n",
       "      <th>4</th>\n",
       "      <td>S9BIH11O</td>\n",
       "      <td>[0, 3, 1, 0, 6, 2, 1, 1, 3, 0, 0, 4, 2, 3, 3, ...</td>\n",
       "    </tr>\n",
       "  </tbody>\n",
       "</table>\n",
       "</div>"
      ],
      "text/plain": [
       "      De-id                                     lib_total_list\n",
       "0  8TMIKVZ5  [0, 0, 0, 0, 1, 0, 0, 1, 0, 0, 0, 0, 4, 0, 1, ...\n",
       "1  OZ6FIGHH  [0, 0, 0, 0, 0, 0, 0, 0, 0, 0, 0, 0, 0, 0, 0, ...\n",
       "2  QSGBC7CZ  [0, 1, 0, 0, 0, 0, 0, 0, 0, 0, 0, 0, 1, 0, 0, ...\n",
       "3  EIC4AO9Q  [0, 2, 1, 0, 2, 2, 1, 1, 0, 0, 0, 1, 0, 1, 0, ...\n",
       "4  S9BIH11O  [0, 3, 1, 0, 6, 2, 1, 1, 3, 0, 0, 4, 2, 3, 3, ..."
      ]
     },
     "execution_count": 8,
     "metadata": {},
     "output_type": "execute_result"
    }
   ],
   "source": [
    "df_lib_seq = pd.read_csv('Std_Lib_sequence_day_2016_se1.csv')\n",
    "df_lib_seq = df_lib_seq[['0','1']]\n",
    "df_lib_seq = df_lib_seq.rename(columns= {'0': 'De-id', '1':'lib_total_list'})\n",
    "semester_days = 122\n",
    "def clean_list(day_list):\n",
    "    try: \n",
    "        len(day_list)\n",
    "        ans = day_list[2:-2].split('.')[:-1]\n",
    "        return [int(i) for i in ans]\n",
    "    except:\n",
    "        return [0] * semester_days \n",
    "df_lib_seq['lib_total_list'] = df_lib_seq['lib_total_list'].apply(clean_list)\n",
    "df_lib_seq.head()"
   ]
  },
  {
   "cell_type": "code",
   "execution_count": 52,
   "metadata": {},
   "outputs": [
    {
     "data": {
      "text/plain": [
       "count    14501.000000\n",
       "mean         0.361534\n",
       "std          0.381828\n",
       "min          0.000000\n",
       "25%          0.100000\n",
       "50%          0.266667\n",
       "75%          0.500000\n",
       "max          6.400000\n",
       "Name: former, dtype: float64"
      ]
     },
     "execution_count": 52,
     "metadata": {},
     "output_type": "execute_result"
    }
   ],
   "source": [
    "def count(arr):\n",
    "    ans = 0\n",
    "    for i in arr:\n",
    "        if i > 0:\n",
    "            ans +=i\n",
    "    return ans\n",
    "\n",
    "df_lib_seq['former'] = df_lib_seq['lib_total_list'].apply(lambda x: sum(x[:30])/30.0)\n",
    "\n",
    "df_lib_seq['former'].describe()"
   ]
  },
  {
   "cell_type": "code",
   "execution_count": 55,
   "metadata": {},
   "outputs": [
    {
     "data": {
      "text/plain": [
       "count    14501.000000\n",
       "mean         0.543990\n",
       "std          0.682619\n",
       "min          0.000000\n",
       "25%          0.000000\n",
       "50%          0.400000\n",
       "75%          0.800000\n",
       "max          7.600000\n",
       "Name: latter, dtype: float64"
      ]
     },
     "execution_count": 55,
     "metadata": {},
     "output_type": "execute_result"
    }
   ],
   "source": [
    "df_lib_seq['latter'] = df_lib_seq['lib_total_list'].apply(lambda x: sum(x[75:80])/5.0)\n",
    "df_lib_seq['latter'].describe()"
   ]
  },
  {
   "cell_type": "code",
   "execution_count": 29,
   "metadata": {},
   "outputs": [
    {
     "data": {
      "text/plain": [
       "0.435"
      ]
     },
     "execution_count": 29,
     "metadata": {},
     "output_type": "execute_result"
    }
   ],
   "source": [
    "(0.379+0.491)/2"
   ]
  }
 ],
 "metadata": {
  "kernelspec": {
   "display_name": "Python 3",
   "language": "python",
   "name": "python3"
  },
  "language_info": {
   "codemirror_mode": {
    "name": "ipython",
    "version": 3
   },
   "file_extension": ".py",
   "mimetype": "text/x-python",
   "name": "python",
   "nbconvert_exporter": "python",
   "pygments_lexer": "ipython3",
   "version": "3.7.4"
  }
 },
 "nbformat": 4,
 "nbformat_minor": 2
}
