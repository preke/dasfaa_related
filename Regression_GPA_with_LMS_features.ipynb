{
 "cells": [
  {
   "cell_type": "code",
   "execution_count": 1,
   "metadata": {},
   "outputs": [],
   "source": [
    "import pandas as pd\n",
    "import numpy as np"
   ]
  },
  {
   "cell_type": "code",
   "execution_count": 2,
   "metadata": {},
   "outputs": [
    {
     "name": "stdout",
     "output_type": "stream",
     "text": [
      "(14796, 2)\n"
     ]
    },
    {
     "data": {
      "text/html": [
       "<div>\n",
       "<style scoped>\n",
       "    .dataframe tbody tr th:only-of-type {\n",
       "        vertical-align: middle;\n",
       "    }\n",
       "\n",
       "    .dataframe tbody tr th {\n",
       "        vertical-align: top;\n",
       "    }\n",
       "\n",
       "    .dataframe thead th {\n",
       "        text-align: right;\n",
       "    }\n",
       "</style>\n",
       "<table border=\"1\" class=\"dataframe\">\n",
       "  <thead>\n",
       "    <tr style=\"text-align: right;\">\n",
       "      <th></th>\n",
       "      <th>MASKED_STUDENT_ID</th>\n",
       "      <th>CUM_GPA</th>\n",
       "    </tr>\n",
       "  </thead>\n",
       "  <tbody>\n",
       "    <tr>\n",
       "      <td>0</td>\n",
       "      <td>LQUYAZCO</td>\n",
       "      <td>3.67</td>\n",
       "    </tr>\n",
       "    <tr>\n",
       "      <td>1</td>\n",
       "      <td>GDJS7QSE</td>\n",
       "      <td>2.31</td>\n",
       "    </tr>\n",
       "    <tr>\n",
       "      <td>2</td>\n",
       "      <td>F7UUSVKE</td>\n",
       "      <td>3.04</td>\n",
       "    </tr>\n",
       "    <tr>\n",
       "      <td>3</td>\n",
       "      <td>M6CJWGRJ</td>\n",
       "      <td>2.66</td>\n",
       "    </tr>\n",
       "    <tr>\n",
       "      <td>4</td>\n",
       "      <td>VDEBUG5Z</td>\n",
       "      <td>2.48</td>\n",
       "    </tr>\n",
       "  </tbody>\n",
       "</table>\n",
       "</div>"
      ],
      "text/plain": [
       "  MASKED_STUDENT_ID  CUM_GPA\n",
       "0          LQUYAZCO     3.67\n",
       "1          GDJS7QSE     2.31\n",
       "2          F7UUSVKE     3.04\n",
       "3          M6CJWGRJ     2.66\n",
       "4          VDEBUG5Z     2.48"
      ]
     },
     "execution_count": 2,
     "metadata": {},
     "output_type": "execute_result"
    }
   ],
   "source": [
    "Std_normal = pd.read_csv('Std_list_normal_2016_se1.csv')\n",
    "Std_atrisk = pd.read_csv('Std_list_atRist_2016_se1.csv')\n",
    "Std_all = pd.concat([Std_normal, Std_atrisk])\n",
    "print(Std_all.shape)\n",
    "Std_all.head()"
   ]
  },
  {
   "cell_type": "code",
   "execution_count": 3,
   "metadata": {},
   "outputs": [
    {
     "data": {
      "text/plain": [
       "Index(['MASKED_STUDENT_ID', 'workday', 'weekend', 'morning', 'afternoon',\n",
       "       'evening', 'overnight', 'workday_ExamMonth', 'weekend_ExamMonth',\n",
       "       'morning_ExamMonth', 'afternoon_ExamMonth', 'evening_ExamMonth',\n",
       "       'overnight_ExamMonth', 'workday_notExamMonth', 'weekend_notExamMonth',\n",
       "       'morning_notExamMonth', 'afternoon_notExamMonth',\n",
       "       'evening_notExamMonth', 'overnight_notExamMonth', 'workday_firstMonth',\n",
       "       'weekend_firstMonth', 'morning_firstMonth', 'afternoon_firstMonth',\n",
       "       'evening_firstMonth', 'overnight_firstMonth', 'examMonth',\n",
       "       'notExamMonth', 'firstMonth', 'total_checkin', 'label_atRist',\n",
       "       '09LOGIN_ATTEMPT', '09SESSION_TIMEOUT', '09LOGOUT', '09group', '09db',\n",
       "       '09myinfo', '09course', '09journal', '09email', '09staff',\n",
       "       '09annoucements', '09content', '09grade', '10LOGIN_ATTEMPT',\n",
       "       '10SESSION_TIMEOUT', '10LOGOUT', '10group', '10db', '10myinfo',\n",
       "       '10course', '10journal', '10email', '10staff', '10annoucements',\n",
       "       '10content', '10grade', '11LOGIN_ATTEMPT', '11SESSION_TIMEOUT',\n",
       "       '11LOGOUT', '11group', '11db', '11myinfo', '11course', '11journal',\n",
       "       '11email', '11staff', '11annoucements', '11content', '11grade',\n",
       "       '12LOGIN_ATTEMPT', '12SESSION_TIMEOUT', '12LOGOUT', '12group', '12db',\n",
       "       '12myinfo', '12course', '12journal', '12email', '12staff',\n",
       "       '12annoucements', '12content', '12grade'],\n",
       "      dtype='object')"
      ]
     },
     "execution_count": 3,
     "metadata": {},
     "output_type": "execute_result"
    }
   ],
   "source": [
    "All_features = pd.read_csv('2016_se1_lib_lms.csv')\n",
    "All_features.columns"
   ]
  },
  {
   "cell_type": "code",
   "execution_count": 4,
   "metadata": {},
   "outputs": [],
   "source": [
    "LMS_features_splited_month = All_features[[\n",
    "    'MASKED_STUDENT_ID',\n",
    "    '09LOGIN_ATTEMPT', '09SESSION_TIMEOUT', '09LOGOUT', '09group', '09db',\n",
    "       '09myinfo', '09course', '09journal', '09email', '09staff',\n",
    "       '09annoucements', '09content', '09grade', '10LOGIN_ATTEMPT',\n",
    "       '10SESSION_TIMEOUT', '10LOGOUT', '10group', '10db', '10myinfo',\n",
    "       '10course', '10journal', '10email', '10staff', '10annoucements',\n",
    "       '10content', '10grade', '11LOGIN_ATTEMPT', '11SESSION_TIMEOUT',\n",
    "       '11LOGOUT', '11group', '11db', '11myinfo', '11course', '11journal',\n",
    "       '11email', '11staff', '11annoucements', '11content', '11grade',\n",
    "       '12LOGIN_ATTEMPT', '12SESSION_TIMEOUT', '12LOGOUT', '12group', '12db',\n",
    "       '12myinfo', '12course', '12journal', '12email', '12staff',\n",
    "       '12annoucements', '12content', '12grade'\n",
    "]]"
   ]
  },
  {
   "cell_type": "code",
   "execution_count": 5,
   "metadata": {},
   "outputs": [
    {
     "data": {
      "text/html": [
       "<div>\n",
       "<style scoped>\n",
       "    .dataframe tbody tr th:only-of-type {\n",
       "        vertical-align: middle;\n",
       "    }\n",
       "\n",
       "    .dataframe tbody tr th {\n",
       "        vertical-align: top;\n",
       "    }\n",
       "\n",
       "    .dataframe thead th {\n",
       "        text-align: right;\n",
       "    }\n",
       "</style>\n",
       "<table border=\"1\" class=\"dataframe\">\n",
       "  <thead>\n",
       "    <tr style=\"text-align: right;\">\n",
       "      <th></th>\n",
       "      <th>MASKED_STUDENT_ID</th>\n",
       "      <th>LOGIN_ATTEMPT</th>\n",
       "      <th>SESSION_TIMEOUT</th>\n",
       "      <th>LOGOUT</th>\n",
       "      <th>group</th>\n",
       "      <th>db</th>\n",
       "      <th>myinfo</th>\n",
       "      <th>course</th>\n",
       "      <th>journal</th>\n",
       "      <th>email</th>\n",
       "      <th>staff</th>\n",
       "      <th>annoucements</th>\n",
       "      <th>content</th>\n",
       "      <th>grade</th>\n",
       "    </tr>\n",
       "  </thead>\n",
       "  <tbody>\n",
       "    <tr>\n",
       "      <td>0</td>\n",
       "      <td>8TMIKVZ5</td>\n",
       "      <td>237.0</td>\n",
       "      <td>231.0</td>\n",
       "      <td>6.0</td>\n",
       "      <td>324.0</td>\n",
       "      <td>170.0</td>\n",
       "      <td>64.0</td>\n",
       "      <td>25.0</td>\n",
       "      <td>140.0</td>\n",
       "      <td>1.0</td>\n",
       "      <td>8.0</td>\n",
       "      <td>157.0</td>\n",
       "      <td>1465.0</td>\n",
       "      <td>22.0</td>\n",
       "    </tr>\n",
       "    <tr>\n",
       "      <td>1</td>\n",
       "      <td>N2YYKTMZ</td>\n",
       "      <td>168.0</td>\n",
       "      <td>161.0</td>\n",
       "      <td>6.0</td>\n",
       "      <td>6.0</td>\n",
       "      <td>9.0</td>\n",
       "      <td>40.0</td>\n",
       "      <td>6.0</td>\n",
       "      <td>0.0</td>\n",
       "      <td>0.0</td>\n",
       "      <td>7.0</td>\n",
       "      <td>62.0</td>\n",
       "      <td>828.0</td>\n",
       "      <td>29.0</td>\n",
       "    </tr>\n",
       "    <tr>\n",
       "      <td>2</td>\n",
       "      <td>BZRW4GD3</td>\n",
       "      <td>87.0</td>\n",
       "      <td>67.0</td>\n",
       "      <td>20.0</td>\n",
       "      <td>6.0</td>\n",
       "      <td>5.0</td>\n",
       "      <td>8.0</td>\n",
       "      <td>8.0</td>\n",
       "      <td>0.0</td>\n",
       "      <td>0.0</td>\n",
       "      <td>5.0</td>\n",
       "      <td>15.0</td>\n",
       "      <td>324.0</td>\n",
       "      <td>3.0</td>\n",
       "    </tr>\n",
       "    <tr>\n",
       "      <td>3</td>\n",
       "      <td>HJTBF62Q</td>\n",
       "      <td>77.0</td>\n",
       "      <td>31.0</td>\n",
       "      <td>2.0</td>\n",
       "      <td>0.0</td>\n",
       "      <td>3.0</td>\n",
       "      <td>2.0</td>\n",
       "      <td>0.0</td>\n",
       "      <td>0.0</td>\n",
       "      <td>0.0</td>\n",
       "      <td>3.0</td>\n",
       "      <td>2.0</td>\n",
       "      <td>249.0</td>\n",
       "      <td>0.0</td>\n",
       "    </tr>\n",
       "    <tr>\n",
       "      <td>4</td>\n",
       "      <td>33XUIDIG</td>\n",
       "      <td>90.0</td>\n",
       "      <td>81.0</td>\n",
       "      <td>9.0</td>\n",
       "      <td>2.0</td>\n",
       "      <td>2.0</td>\n",
       "      <td>6.0</td>\n",
       "      <td>0.0</td>\n",
       "      <td>0.0</td>\n",
       "      <td>0.0</td>\n",
       "      <td>9.0</td>\n",
       "      <td>25.0</td>\n",
       "      <td>287.0</td>\n",
       "      <td>8.0</td>\n",
       "    </tr>\n",
       "  </tbody>\n",
       "</table>\n",
       "</div>"
      ],
      "text/plain": [
       "  MASKED_STUDENT_ID  LOGIN_ATTEMPT  SESSION_TIMEOUT  LOGOUT  group     db  \\\n",
       "0          8TMIKVZ5          237.0            231.0     6.0  324.0  170.0   \n",
       "1          N2YYKTMZ          168.0            161.0     6.0    6.0    9.0   \n",
       "2          BZRW4GD3           87.0             67.0    20.0    6.0    5.0   \n",
       "3          HJTBF62Q           77.0             31.0     2.0    0.0    3.0   \n",
       "4          33XUIDIG           90.0             81.0     9.0    2.0    2.0   \n",
       "\n",
       "   myinfo  course  journal  email  staff  annoucements  content  grade  \n",
       "0    64.0    25.0    140.0    1.0    8.0         157.0   1465.0   22.0  \n",
       "1    40.0     6.0      0.0    0.0    7.0          62.0    828.0   29.0  \n",
       "2     8.0     8.0      0.0    0.0    5.0          15.0    324.0    3.0  \n",
       "3     2.0     0.0      0.0    0.0    3.0           2.0    249.0    0.0  \n",
       "4     6.0     0.0      0.0    0.0    9.0          25.0    287.0    8.0  "
      ]
     },
     "execution_count": 5,
     "metadata": {},
     "output_type": "execute_result"
    }
   ],
   "source": [
    "LMS_features_merge = pd.DataFrame(LMS_features_splited_month['MASKED_STUDENT_ID'])\n",
    "features = [\n",
    "    'LOGIN_ATTEMPT', 'SESSION_TIMEOUT', 'LOGOUT', 'group', 'db',\n",
    "    'myinfo', 'course', 'journal', 'email', 'staff',\n",
    "    'annoucements', 'content', 'grade'\n",
    "]\n",
    "for f in features:\n",
    "    LMS_features_merge[f] = LMS_features_splited_month['09'+ f] + LMS_features_splited_month['10'+ f] + LMS_features_splited_month['11'+ f] + LMS_features_splited_month['12'+ f] \n",
    "\n",
    "LMS_features_merge.head()"
   ]
  },
  {
   "cell_type": "code",
   "execution_count": 6,
   "metadata": {},
   "outputs": [
    {
     "name": "stdout",
     "output_type": "stream",
     "text": [
      "(14796, 15)\n",
      "\n",
      "(14796, 54)\n"
     ]
    }
   ],
   "source": [
    "## merge with GPA\n",
    "\n",
    "LMS_features_merge_mtx = pd.merge(Std_all, LMS_features_merge, on='MASKED_STUDENT_ID', how='left').fillna(0)\n",
    "print(LMS_features_merge_mtx.shape)\n",
    "print('')\n",
    "\n",
    "LMS_features_splited_month_mtx = pd.merge(Std_all, LMS_features_splited_month, on='MASKED_STUDENT_ID', how='left').fillna(0)\n",
    "print(LMS_features_splited_month_mtx.shape)"
   ]
  },
  {
   "cell_type": "code",
   "execution_count": 7,
   "metadata": {},
   "outputs": [],
   "source": [
    "LMS_features_merge_mtx.to_csv('2016_se1_LMS_features_with_GPA.csv', index=False)"
   ]
  },
  {
   "cell_type": "code",
   "execution_count": 35,
   "metadata": {},
   "outputs": [
    {
     "name": "stderr",
     "output_type": "stream",
     "text": [
      "/opt/anaconda3/lib/python3.7/site-packages/sklearn/ensemble/_gb.py:1454: DataConversionWarning: A column-vector y was passed when a 1d array was expected. Please change the shape of y to (n_samples, ), for example using ravel().\n",
      "  y = column_or_1d(y, warn=True)\n"
     ]
    },
    {
     "name": "stdout",
     "output_type": "stream",
     "text": [
      "0.19088435560669134\n"
     ]
    }
   ],
   "source": [
    "## Regression with GBDT\n",
    "from sklearn.ensemble import GradientBoostingRegressor as GBR\n",
    "from sklearn.metrics import f1_score\n",
    "from sklearn.metrics import confusion_matrix, accuracy_score, balanced_accuracy_score, recall_score\n",
    "from sklearn.metrics import mean_squared_error\n",
    "from sklearn.model_selection import train_test_split\n",
    "\n",
    "student_features = LMS_features_merge_mtx ## can be replaced with LMS_features_splited_month_mtx(the next block)\n",
    "\n",
    "df_features = student_features[[i for i in student_features.columns if i != 'CUM_GPA' and i != 'MASKED_STUDENT_ID']]\n",
    "df_labels = pd.DataFrame(student_features['CUM_GPA'])\n",
    "\n",
    "X_train, X_test, y_train, y_test = \\\n",
    "    train_test_split(df_features, df_labels, test_size=0.2)\n",
    "\n",
    "gbr = GBR()\n",
    "gbr.fit(X_train, y_train)\n",
    "gbr_preds = gbr.predict(X_test)\n",
    "score = mean_squared_error(y_test, gbr_preds)\n",
    "print(score)"
   ]
  },
  {
   "cell_type": "code",
   "execution_count": 36,
   "metadata": {},
   "outputs": [
    {
     "name": "stderr",
     "output_type": "stream",
     "text": [
      "/opt/anaconda3/lib/python3.7/site-packages/sklearn/ensemble/_gb.py:1454: DataConversionWarning: A column-vector y was passed when a 1d array was expected. Please change the shape of y to (n_samples, ), for example using ravel().\n",
      "  y = column_or_1d(y, warn=True)\n"
     ]
    },
    {
     "name": "stdout",
     "output_type": "stream",
     "text": [
      "0.1829144408509654\n"
     ]
    }
   ],
   "source": [
    "## Regression with GBDT\n",
    "from sklearn.ensemble import GradientBoostingRegressor as GBR\n",
    "from sklearn.metrics import f1_score\n",
    "from sklearn.metrics import confusion_matrix, accuracy_score, balanced_accuracy_score, recall_score\n",
    "from sklearn.metrics import mean_squared_error\n",
    "from sklearn.model_selection import train_test_split\n",
    "\n",
    "student_features = LMS_features_splited_month_mtx \n",
    "\n",
    "df_features = student_features[[i for i in student_features.columns if i != 'CUM_GPA' and i != 'MASKED_STUDENT_ID']]\n",
    "df_labels = pd.DataFrame(student_features['CUM_GPA'])\n",
    "\n",
    "X_train, X_test, y_train, y_test = \\\n",
    "    train_test_split(df_features, df_labels, test_size=0.2)\n",
    "\n",
    "gbr = GBR()\n",
    "gbr.fit(X_train, y_train)\n",
    "gbr_preds = gbr.predict(X_test)\n",
    "score = mean_squared_error(y_test, gbr_preds)\n",
    "print(score)"
   ]
  }
 ],
 "metadata": {
  "kernelspec": {
   "display_name": "Python 3",
   "language": "python",
   "name": "python3"
  },
  "language_info": {
   "codemirror_mode": {
    "name": "ipython",
    "version": 3
   },
   "file_extension": ".py",
   "mimetype": "text/x-python",
   "name": "python",
   "nbconvert_exporter": "python",
   "pygments_lexer": "ipython3",
   "version": "3.7.4"
  }
 },
 "nbformat": 4,
 "nbformat_minor": 2
}
