{
 "cells": [
  {
   "cell_type": "code",
   "execution_count": 1,
   "metadata": {},
   "outputs": [
    {
     "name": "stdout",
     "output_type": "stream",
     "text": [
      "[time] VisualizationApplication.load: 0.652714 s\n",
      "[time] VisualizationApplication.build: 0.449763 s\n",
      "[time] VisualizationApplication.train: 9.19282 s\n"
     ]
    }
   ],
   "source": [
    "import numpy as np\n",
    "import matplotlib.pyplot as plt\n",
    "# The following lines are only needed in Jupyter Notebook\n",
    "from IPython.display import display, Image\n",
    "%matplotlib inline\n",
    "\n",
    "import graphvite as gv\n",
    "import graphvite.application as gap\n",
    "\n",
    "app = gap.VisualizationApplication(dim=2)\n",
    "app.load(file_name='lib_co_occ_Sept.edgelist')\n",
    "app.build()\n",
    "app.train()"
   ]
  },
  {
   "cell_type": "code",
   "execution_count": 2,
   "metadata": {},
   "outputs": [
    {
     "name": "stdout",
     "output_type": "stream",
     "text": [
      "8TMIKVZ5 0\n"
     ]
    },
    {
     "data": {
      "text/html": [
       "<div>\n",
       "<style scoped>\n",
       "    .dataframe tbody tr th:only-of-type {\n",
       "        vertical-align: middle;\n",
       "    }\n",
       "\n",
       "    .dataframe tbody tr th {\n",
       "        vertical-align: top;\n",
       "    }\n",
       "\n",
       "    .dataframe thead th {\n",
       "        text-align: right;\n",
       "    }\n",
       "</style>\n",
       "<table border=\"1\" class=\"dataframe\">\n",
       "  <thead>\n",
       "    <tr style=\"text-align: right;\">\n",
       "      <th></th>\n",
       "      <th>MASKED_STUDENT_ID</th>\n",
       "      <th>workday</th>\n",
       "      <th>weekend</th>\n",
       "      <th>morning</th>\n",
       "      <th>afternoon</th>\n",
       "      <th>evening</th>\n",
       "      <th>overnight</th>\n",
       "      <th>workday_ExamMonth</th>\n",
       "      <th>weekend_ExamMonth</th>\n",
       "      <th>morning_ExamMonth</th>\n",
       "      <th>...</th>\n",
       "      <th>12group</th>\n",
       "      <th>12db</th>\n",
       "      <th>12myinfo</th>\n",
       "      <th>12course</th>\n",
       "      <th>12journal</th>\n",
       "      <th>12email</th>\n",
       "      <th>12staff</th>\n",
       "      <th>12annoucements</th>\n",
       "      <th>12content</th>\n",
       "      <th>12grade</th>\n",
       "    </tr>\n",
       "  </thead>\n",
       "  <tbody>\n",
       "    <tr>\n",
       "      <th>0</th>\n",
       "      <td>8TMIKVZ5</td>\n",
       "      <td>25</td>\n",
       "      <td>0</td>\n",
       "      <td>0</td>\n",
       "      <td>25</td>\n",
       "      <td>0</td>\n",
       "      <td>0</td>\n",
       "      <td>0</td>\n",
       "      <td>0</td>\n",
       "      <td>0</td>\n",
       "      <td>...</td>\n",
       "      <td>44.0</td>\n",
       "      <td>0.0</td>\n",
       "      <td>15.0</td>\n",
       "      <td>6.0</td>\n",
       "      <td>9.0</td>\n",
       "      <td>0.0</td>\n",
       "      <td>0.0</td>\n",
       "      <td>27.0</td>\n",
       "      <td>331.0</td>\n",
       "      <td>4.0</td>\n",
       "    </tr>\n",
       "    <tr>\n",
       "      <th>1</th>\n",
       "      <td>N2YYKTMZ</td>\n",
       "      <td>61</td>\n",
       "      <td>3</td>\n",
       "      <td>1</td>\n",
       "      <td>45</td>\n",
       "      <td>18</td>\n",
       "      <td>0</td>\n",
       "      <td>5</td>\n",
       "      <td>0</td>\n",
       "      <td>0</td>\n",
       "      <td>...</td>\n",
       "      <td>4.0</td>\n",
       "      <td>2.0</td>\n",
       "      <td>4.0</td>\n",
       "      <td>0.0</td>\n",
       "      <td>0.0</td>\n",
       "      <td>0.0</td>\n",
       "      <td>2.0</td>\n",
       "      <td>11.0</td>\n",
       "      <td>202.0</td>\n",
       "      <td>4.0</td>\n",
       "    </tr>\n",
       "    <tr>\n",
       "      <th>2</th>\n",
       "      <td>BZRW4GD3</td>\n",
       "      <td>0</td>\n",
       "      <td>1</td>\n",
       "      <td>0</td>\n",
       "      <td>1</td>\n",
       "      <td>0</td>\n",
       "      <td>0</td>\n",
       "      <td>0</td>\n",
       "      <td>1</td>\n",
       "      <td>0</td>\n",
       "      <td>...</td>\n",
       "      <td>0.0</td>\n",
       "      <td>0.0</td>\n",
       "      <td>0.0</td>\n",
       "      <td>0.0</td>\n",
       "      <td>0.0</td>\n",
       "      <td>0.0</td>\n",
       "      <td>0.0</td>\n",
       "      <td>0.0</td>\n",
       "      <td>13.0</td>\n",
       "      <td>2.0</td>\n",
       "    </tr>\n",
       "    <tr>\n",
       "      <th>3</th>\n",
       "      <td>HJTBF62Q</td>\n",
       "      <td>14</td>\n",
       "      <td>21</td>\n",
       "      <td>1</td>\n",
       "      <td>26</td>\n",
       "      <td>8</td>\n",
       "      <td>0</td>\n",
       "      <td>4</td>\n",
       "      <td>7</td>\n",
       "      <td>1</td>\n",
       "      <td>...</td>\n",
       "      <td>0.0</td>\n",
       "      <td>2.0</td>\n",
       "      <td>0.0</td>\n",
       "      <td>0.0</td>\n",
       "      <td>0.0</td>\n",
       "      <td>0.0</td>\n",
       "      <td>0.0</td>\n",
       "      <td>0.0</td>\n",
       "      <td>31.0</td>\n",
       "      <td>0.0</td>\n",
       "    </tr>\n",
       "    <tr>\n",
       "      <th>4</th>\n",
       "      <td>33XUIDIG</td>\n",
       "      <td>20</td>\n",
       "      <td>5</td>\n",
       "      <td>0</td>\n",
       "      <td>16</td>\n",
       "      <td>9</td>\n",
       "      <td>0</td>\n",
       "      <td>3</td>\n",
       "      <td>0</td>\n",
       "      <td>0</td>\n",
       "      <td>...</td>\n",
       "      <td>0.0</td>\n",
       "      <td>0.0</td>\n",
       "      <td>0.0</td>\n",
       "      <td>0.0</td>\n",
       "      <td>0.0</td>\n",
       "      <td>0.0</td>\n",
       "      <td>0.0</td>\n",
       "      <td>1.0</td>\n",
       "      <td>10.0</td>\n",
       "      <td>0.0</td>\n",
       "    </tr>\n",
       "  </tbody>\n",
       "</table>\n",
       "<p>5 rows × 82 columns</p>\n",
       "</div>"
      ],
      "text/plain": [
       "  MASKED_STUDENT_ID  workday  weekend  morning  afternoon  evening  overnight  \\\n",
       "0          8TMIKVZ5       25        0        0         25        0          0   \n",
       "1          N2YYKTMZ       61        3        1         45       18          0   \n",
       "2          BZRW4GD3        0        1        0          1        0          0   \n",
       "3          HJTBF62Q       14       21        1         26        8          0   \n",
       "4          33XUIDIG       20        5        0         16        9          0   \n",
       "\n",
       "   workday_ExamMonth  weekend_ExamMonth  morning_ExamMonth  ...  12group  \\\n",
       "0                  0                  0                  0  ...     44.0   \n",
       "1                  5                  0                  0  ...      4.0   \n",
       "2                  0                  1                  0  ...      0.0   \n",
       "3                  4                  7                  1  ...      0.0   \n",
       "4                  3                  0                  0  ...      0.0   \n",
       "\n",
       "   12db  12myinfo  12course  12journal  12email  12staff  12annoucements  \\\n",
       "0   0.0      15.0       6.0        9.0      0.0      0.0            27.0   \n",
       "1   2.0       4.0       0.0        0.0      0.0      2.0            11.0   \n",
       "2   0.0       0.0       0.0        0.0      0.0      0.0             0.0   \n",
       "3   2.0       0.0       0.0        0.0      0.0      0.0             0.0   \n",
       "4   0.0       0.0       0.0        0.0      0.0      0.0             1.0   \n",
       "\n",
       "   12content  12grade  \n",
       "0      331.0      4.0  \n",
       "1      202.0      4.0  \n",
       "2       13.0      2.0  \n",
       "3       31.0      0.0  \n",
       "4       10.0      0.0  \n",
       "\n",
       "[5 rows x 82 columns]"
      ]
     },
     "execution_count": 2,
     "metadata": {},
     "output_type": "execute_result"
    }
   ],
   "source": [
    "import pickle\n",
    "student_dict = pickle.load(open('student.dict', 'rb'))\n",
    "for k,v in student_dict.items():\n",
    "    print(k,v)\n",
    "    break\n",
    "import pandas as pd\n",
    "import numpy as np\n",
    "student_features = pd.read_csv('2016_se1_lib_lms.csv')\n",
    "student_features.head()\n"
   ]
  },
  {
   "cell_type": "code",
   "execution_count": 3,
   "metadata": {},
   "outputs": [],
   "source": [
    "labels = student_features[['MASKED_STUDENT_ID', 'label_atRist']]"
   ]
  },
  {
   "cell_type": "code",
   "execution_count": 4,
   "metadata": {},
   "outputs": [],
   "source": [
    "id_labels = []\n",
    "for r in labels.iterrows():\n",
    "    id_labels.append(str(student_dict[r[1]['MASKED_STUDENT_ID']]) + '\\t' + str(r[1]['label_atRist']))"
   ]
  },
  {
   "cell_type": "code",
   "execution_count": 9,
   "metadata": {},
   "outputs": [
    {
     "data": {
      "text/plain": [
       "{}"
      ]
     },
     "execution_count": 9,
     "metadata": {},
     "output_type": "execute_result"
    }
   ],
   "source": [
    "app.visualization(Y=id_labels)"
   ]
  },
  {
   "cell_type": "code",
   "execution_count": 7,
   "metadata": {},
   "outputs": [
    {
     "name": "stdout",
     "output_type": "stream",
     "text": [
      "(11950, 2)\n"
     ]
    }
   ],
   "source": [
    "coodinates = app.solver.coordinates\n",
    "print(coodinates.shape)"
   ]
  },
  {
   "cell_type": "code",
   "execution_count": 8,
   "metadata": {},
   "outputs": [],
   "source": []
  },
  {
   "cell_type": "code",
   "execution_count": null,
   "metadata": {},
   "outputs": [],
   "source": []
  }
 ],
 "metadata": {
  "kernelspec": {
   "display_name": "Python 3",
   "language": "python",
   "name": "python3"
  },
  "language_info": {
   "codemirror_mode": {
    "name": "ipython",
    "version": 3
   },
   "file_extension": ".py",
   "mimetype": "text/x-python",
   "name": "python",
   "nbconvert_exporter": "python",
   "pygments_lexer": "ipython3",
   "version": "3.7.4"
  }
 },
 "nbformat": 4,
 "nbformat_minor": 2
}
